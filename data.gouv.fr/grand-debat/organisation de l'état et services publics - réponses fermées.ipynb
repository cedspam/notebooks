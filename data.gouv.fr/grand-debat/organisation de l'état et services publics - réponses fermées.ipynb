{
 "cells": [
  {
   "cell_type": "code",
   "execution_count": 2,
   "metadata": {},
   "outputs": [],
   "source": [
    "from IPython.display import display, HTML\n",
    "\n",
    "import pandas as pd\n",
    "import altair as alt"
   ]
  },
  {
   "cell_type": "code",
   "execution_count": 3,
   "metadata": {},
   "outputs": [
    {
     "name": "stderr",
     "output_type": "stream",
     "text": [
      "/home/tk/.virtualenvs/notebooks/lib/python3.6/site-packages/IPython/core/interactiveshell.py:3020: DtypeWarning: Columns (6) have mixed types. Specify dtype option on import or set low_memory=False.\n",
      "  interactivity=interactivity, compiler=compiler, result=result)\n"
     ]
    }
   ],
   "source": [
    "df = pd.read_csv(\"http://opendata.auth-6f31f706db6f4a24b55f42a6a79c5086.storage.sbg5.cloud.ovh.net/2019-02-06/ORGANISATION_DE_LETAT_ET_DES_SERVICES_PUBLICS.csv\")"
   ]
  },
  {
   "cell_type": "code",
   "execution_count": 4,
   "metadata": {},
   "outputs": [
    {
     "data": {
      "text/html": [
       "<div>\n",
       "<style scoped>\n",
       "    .dataframe tbody tr th:only-of-type {\n",
       "        vertical-align: middle;\n",
       "    }\n",
       "\n",
       "    .dataframe tbody tr th {\n",
       "        vertical-align: top;\n",
       "    }\n",
       "\n",
       "    .dataframe thead th {\n",
       "        text-align: right;\n",
       "    }\n",
       "</style>\n",
       "<table border=\"1\" class=\"dataframe\">\n",
       "  <thead>\n",
       "    <tr style=\"text-align: right;\">\n",
       "      <th></th>\n",
       "      <th>reference</th>\n",
       "      <th>title</th>\n",
       "      <th>createdAt</th>\n",
       "      <th>publishedAt</th>\n",
       "      <th>updatedAt</th>\n",
       "      <th>trashed</th>\n",
       "      <th>trashedStatus</th>\n",
       "      <th>authorId</th>\n",
       "      <th>authorType</th>\n",
       "      <th>authorZipCode</th>\n",
       "      <th>Selon vous, l'Etat doit-il aujourd'hui transférer de nouvelles missions aux collectivités territoriales ?</th>\n",
       "      <th>Estimez-vous avoir accès aux services publics dont vous avez besoin ?</th>\n",
       "      <th>Avez-vous déjà utilisé certaines de ces nouvelles formes de services publics ?</th>\n",
       "      <th>Si oui, en avez-vous été satisfait ?</th>\n",
       "      <th>Connaissez-vous le \"droit à l'erreur\", c'est-à-dire le droit d'affirmer votre bonne foi lorsque vous faites un erreur dans vos déclarations ?</th>\n",
       "      <th>Si oui, avez-vous déjà utilisé ce droit à l'erreur ?</th>\n",
       "      <th>Faut-il donner plus d'autonomie aux fonctionnaires de terrain ?</th>\n",
       "      <th>Faut-il revoir le fonctionnement et la formation de l'administration ?</th>\n",
       "    </tr>\n",
       "  </thead>\n",
       "  <tbody>\n",
       "    <tr>\n",
       "      <th>count</th>\n",
       "      <td>40232</td>\n",
       "      <td>40232</td>\n",
       "      <td>40232</td>\n",
       "      <td>40232</td>\n",
       "      <td>1798</td>\n",
       "      <td>40232</td>\n",
       "      <td>4</td>\n",
       "      <td>40232</td>\n",
       "      <td>38308</td>\n",
       "      <td>4.023200e+04</td>\n",
       "      <td>26771</td>\n",
       "      <td>28785</td>\n",
       "      <td>27548</td>\n",
       "      <td>8478</td>\n",
       "      <td>27826</td>\n",
       "      <td>24467</td>\n",
       "      <td>23731</td>\n",
       "      <td>23745</td>\n",
       "    </tr>\n",
       "    <tr>\n",
       "      <th>unique</th>\n",
       "      <td>40137</td>\n",
       "      <td>29847</td>\n",
       "      <td>39462</td>\n",
       "      <td>39329</td>\n",
       "      <td>1792</td>\n",
       "      <td>2</td>\n",
       "      <td>1</td>\n",
       "      <td>35331</td>\n",
       "      <td>4</td>\n",
       "      <td>NaN</td>\n",
       "      <td>2</td>\n",
       "      <td>2</td>\n",
       "      <td>2</td>\n",
       "      <td>2</td>\n",
       "      <td>2</td>\n",
       "      <td>2</td>\n",
       "      <td>2</td>\n",
       "      <td>2</td>\n",
       "    </tr>\n",
       "    <tr>\n",
       "      <th>top</th>\n",
       "      <td>4-40963</td>\n",
       "      <td>Stop au 80 km/h sur route</td>\n",
       "      <td>2019-01-22 14:28:13</td>\n",
       "      <td>2019-01-24 19:53:31</td>\n",
       "      <td>2019-02-05 08:46:49</td>\n",
       "      <td>False</td>\n",
       "      <td>VISIBLE</td>\n",
       "      <td>VXNlcjpiZDkwOGU5Zi0yNDYxLTExZTktOTRkMi1mYTE2M2...</td>\n",
       "      <td>Citoyen / Citoyenne</td>\n",
       "      <td>NaN</td>\n",
       "      <td>Oui</td>\n",
       "      <td>Oui</td>\n",
       "      <td>Non</td>\n",
       "      <td>Oui</td>\n",
       "      <td>Oui</td>\n",
       "      <td>Non</td>\n",
       "      <td>Oui</td>\n",
       "      <td>Oui</td>\n",
       "    </tr>\n",
       "    <tr>\n",
       "      <th>freq</th>\n",
       "      <td>2</td>\n",
       "      <td>3572</td>\n",
       "      <td>4</td>\n",
       "      <td>13</td>\n",
       "      <td>2</td>\n",
       "      <td>40228</td>\n",
       "      <td>4</td>\n",
       "      <td>54</td>\n",
       "      <td>37577</td>\n",
       "      <td>NaN</td>\n",
       "      <td>13815</td>\n",
       "      <td>19514</td>\n",
       "      <td>19869</td>\n",
       "      <td>5678</td>\n",
       "      <td>22167</td>\n",
       "      <td>22446</td>\n",
       "      <td>16826</td>\n",
       "      <td>21356</td>\n",
       "    </tr>\n",
       "    <tr>\n",
       "      <th>mean</th>\n",
       "      <td>NaN</td>\n",
       "      <td>NaN</td>\n",
       "      <td>NaN</td>\n",
       "      <td>NaN</td>\n",
       "      <td>NaN</td>\n",
       "      <td>NaN</td>\n",
       "      <td>NaN</td>\n",
       "      <td>NaN</td>\n",
       "      <td>NaN</td>\n",
       "      <td>1.051502e+05</td>\n",
       "      <td>NaN</td>\n",
       "      <td>NaN</td>\n",
       "      <td>NaN</td>\n",
       "      <td>NaN</td>\n",
       "      <td>NaN</td>\n",
       "      <td>NaN</td>\n",
       "      <td>NaN</td>\n",
       "      <td>NaN</td>\n",
       "    </tr>\n",
       "    <tr>\n",
       "      <th>std</th>\n",
       "      <td>NaN</td>\n",
       "      <td>NaN</td>\n",
       "      <td>NaN</td>\n",
       "      <td>NaN</td>\n",
       "      <td>NaN</td>\n",
       "      <td>NaN</td>\n",
       "      <td>NaN</td>\n",
       "      <td>NaN</td>\n",
       "      <td>NaN</td>\n",
       "      <td>5.282335e+06</td>\n",
       "      <td>NaN</td>\n",
       "      <td>NaN</td>\n",
       "      <td>NaN</td>\n",
       "      <td>NaN</td>\n",
       "      <td>NaN</td>\n",
       "      <td>NaN</td>\n",
       "      <td>NaN</td>\n",
       "      <td>NaN</td>\n",
       "    </tr>\n",
       "    <tr>\n",
       "      <th>min</th>\n",
       "      <td>NaN</td>\n",
       "      <td>NaN</td>\n",
       "      <td>NaN</td>\n",
       "      <td>NaN</td>\n",
       "      <td>NaN</td>\n",
       "      <td>NaN</td>\n",
       "      <td>NaN</td>\n",
       "      <td>NaN</td>\n",
       "      <td>NaN</td>\n",
       "      <td>0.000000e+00</td>\n",
       "      <td>NaN</td>\n",
       "      <td>NaN</td>\n",
       "      <td>NaN</td>\n",
       "      <td>NaN</td>\n",
       "      <td>NaN</td>\n",
       "      <td>NaN</td>\n",
       "      <td>NaN</td>\n",
       "      <td>NaN</td>\n",
       "    </tr>\n",
       "    <tr>\n",
       "      <th>25%</th>\n",
       "      <td>NaN</td>\n",
       "      <td>NaN</td>\n",
       "      <td>NaN</td>\n",
       "      <td>NaN</td>\n",
       "      <td>NaN</td>\n",
       "      <td>NaN</td>\n",
       "      <td>NaN</td>\n",
       "      <td>NaN</td>\n",
       "      <td>NaN</td>\n",
       "      <td>3.117000e+04</td>\n",
       "      <td>NaN</td>\n",
       "      <td>NaN</td>\n",
       "      <td>NaN</td>\n",
       "      <td>NaN</td>\n",
       "      <td>NaN</td>\n",
       "      <td>NaN</td>\n",
       "      <td>NaN</td>\n",
       "      <td>NaN</td>\n",
       "    </tr>\n",
       "    <tr>\n",
       "      <th>50%</th>\n",
       "      <td>NaN</td>\n",
       "      <td>NaN</td>\n",
       "      <td>NaN</td>\n",
       "      <td>NaN</td>\n",
       "      <td>NaN</td>\n",
       "      <td>NaN</td>\n",
       "      <td>NaN</td>\n",
       "      <td>NaN</td>\n",
       "      <td>NaN</td>\n",
       "      <td>5.514000e+04</td>\n",
       "      <td>NaN</td>\n",
       "      <td>NaN</td>\n",
       "      <td>NaN</td>\n",
       "      <td>NaN</td>\n",
       "      <td>NaN</td>\n",
       "      <td>NaN</td>\n",
       "      <td>NaN</td>\n",
       "      <td>NaN</td>\n",
       "    </tr>\n",
       "    <tr>\n",
       "      <th>75%</th>\n",
       "      <td>NaN</td>\n",
       "      <td>NaN</td>\n",
       "      <td>NaN</td>\n",
       "      <td>NaN</td>\n",
       "      <td>NaN</td>\n",
       "      <td>NaN</td>\n",
       "      <td>NaN</td>\n",
       "      <td>NaN</td>\n",
       "      <td>NaN</td>\n",
       "      <td>7.501800e+04</td>\n",
       "      <td>NaN</td>\n",
       "      <td>NaN</td>\n",
       "      <td>NaN</td>\n",
       "      <td>NaN</td>\n",
       "      <td>NaN</td>\n",
       "      <td>NaN</td>\n",
       "      <td>NaN</td>\n",
       "      <td>NaN</td>\n",
       "    </tr>\n",
       "    <tr>\n",
       "      <th>max</th>\n",
       "      <td>NaN</td>\n",
       "      <td>NaN</td>\n",
       "      <td>NaN</td>\n",
       "      <td>NaN</td>\n",
       "      <td>NaN</td>\n",
       "      <td>NaN</td>\n",
       "      <td>NaN</td>\n",
       "      <td>NaN</td>\n",
       "      <td>NaN</td>\n",
       "      <td>6.898209e+08</td>\n",
       "      <td>NaN</td>\n",
       "      <td>NaN</td>\n",
       "      <td>NaN</td>\n",
       "      <td>NaN</td>\n",
       "      <td>NaN</td>\n",
       "      <td>NaN</td>\n",
       "      <td>NaN</td>\n",
       "      <td>NaN</td>\n",
       "    </tr>\n",
       "  </tbody>\n",
       "</table>\n",
       "</div>"
      ],
      "text/plain": [
       "       reference                      title            createdAt  \\\n",
       "count      40232                      40232                40232   \n",
       "unique     40137                      29847                39462   \n",
       "top      4-40963  Stop au 80 km/h sur route  2019-01-22 14:28:13   \n",
       "freq           2                       3572                    4   \n",
       "mean         NaN                        NaN                  NaN   \n",
       "std          NaN                        NaN                  NaN   \n",
       "min          NaN                        NaN                  NaN   \n",
       "25%          NaN                        NaN                  NaN   \n",
       "50%          NaN                        NaN                  NaN   \n",
       "75%          NaN                        NaN                  NaN   \n",
       "max          NaN                        NaN                  NaN   \n",
       "\n",
       "                publishedAt            updatedAt trashed trashedStatus  \\\n",
       "count                 40232                 1798   40232             4   \n",
       "unique                39329                 1792       2             1   \n",
       "top     2019-01-24 19:53:31  2019-02-05 08:46:49   False       VISIBLE   \n",
       "freq                     13                    2   40228             4   \n",
       "mean                    NaN                  NaN     NaN           NaN   \n",
       "std                     NaN                  NaN     NaN           NaN   \n",
       "min                     NaN                  NaN     NaN           NaN   \n",
       "25%                     NaN                  NaN     NaN           NaN   \n",
       "50%                     NaN                  NaN     NaN           NaN   \n",
       "75%                     NaN                  NaN     NaN           NaN   \n",
       "max                     NaN                  NaN     NaN           NaN   \n",
       "\n",
       "                                                 authorId  \\\n",
       "count                                               40232   \n",
       "unique                                              35331   \n",
       "top     VXNlcjpiZDkwOGU5Zi0yNDYxLTExZTktOTRkMi1mYTE2M2...   \n",
       "freq                                                   54   \n",
       "mean                                                  NaN   \n",
       "std                                                   NaN   \n",
       "min                                                   NaN   \n",
       "25%                                                   NaN   \n",
       "50%                                                   NaN   \n",
       "75%                                                   NaN   \n",
       "max                                                   NaN   \n",
       "\n",
       "                 authorType  authorZipCode  \\\n",
       "count                 38308   4.023200e+04   \n",
       "unique                    4            NaN   \n",
       "top     Citoyen / Citoyenne            NaN   \n",
       "freq                  37577            NaN   \n",
       "mean                    NaN   1.051502e+05   \n",
       "std                     NaN   5.282335e+06   \n",
       "min                     NaN   0.000000e+00   \n",
       "25%                     NaN   3.117000e+04   \n",
       "50%                     NaN   5.514000e+04   \n",
       "75%                     NaN   7.501800e+04   \n",
       "max                     NaN   6.898209e+08   \n",
       "\n",
       "       Selon vous, l'Etat doit-il aujourd'hui transférer de nouvelles missions aux collectivités territoriales ?  \\\n",
       "count                                               26771                                                          \n",
       "unique                                                  2                                                          \n",
       "top                                                   Oui                                                          \n",
       "freq                                                13815                                                          \n",
       "mean                                                  NaN                                                          \n",
       "std                                                   NaN                                                          \n",
       "min                                                   NaN                                                          \n",
       "25%                                                   NaN                                                          \n",
       "50%                                                   NaN                                                          \n",
       "75%                                                   NaN                                                          \n",
       "max                                                   NaN                                                          \n",
       "\n",
       "       Estimez-vous avoir accès aux services publics dont vous avez besoin ?  \\\n",
       "count                                               28785                      \n",
       "unique                                                  2                      \n",
       "top                                                   Oui                      \n",
       "freq                                                19514                      \n",
       "mean                                                  NaN                      \n",
       "std                                                   NaN                      \n",
       "min                                                   NaN                      \n",
       "25%                                                   NaN                      \n",
       "50%                                                   NaN                      \n",
       "75%                                                   NaN                      \n",
       "max                                                   NaN                      \n",
       "\n",
       "       Avez-vous déjà utilisé certaines de ces nouvelles formes de services publics ?  \\\n",
       "count                                               27548                               \n",
       "unique                                                  2                               \n",
       "top                                                   Non                               \n",
       "freq                                                19869                               \n",
       "mean                                                  NaN                               \n",
       "std                                                   NaN                               \n",
       "min                                                   NaN                               \n",
       "25%                                                   NaN                               \n",
       "50%                                                   NaN                               \n",
       "75%                                                   NaN                               \n",
       "max                                                   NaN                               \n",
       "\n",
       "       Si oui, en avez-vous été satisfait ?  \\\n",
       "count                                  8478   \n",
       "unique                                    2   \n",
       "top                                     Oui   \n",
       "freq                                   5678   \n",
       "mean                                    NaN   \n",
       "std                                     NaN   \n",
       "min                                     NaN   \n",
       "25%                                     NaN   \n",
       "50%                                     NaN   \n",
       "75%                                     NaN   \n",
       "max                                     NaN   \n",
       "\n",
       "       Connaissez-vous le \"droit à l'erreur\", c'est-à-dire le droit d'affirmer votre bonne foi lorsque vous faites un erreur dans vos déclarations ?  \\\n",
       "count                                               27826                                                                                              \n",
       "unique                                                  2                                                                                              \n",
       "top                                                   Oui                                                                                              \n",
       "freq                                                22167                                                                                              \n",
       "mean                                                  NaN                                                                                              \n",
       "std                                                   NaN                                                                                              \n",
       "min                                                   NaN                                                                                              \n",
       "25%                                                   NaN                                                                                              \n",
       "50%                                                   NaN                                                                                              \n",
       "75%                                                   NaN                                                                                              \n",
       "max                                                   NaN                                                                                              \n",
       "\n",
       "       Si oui, avez-vous déjà utilisé ce droit à l'erreur ?  \\\n",
       "count                                               24467     \n",
       "unique                                                  2     \n",
       "top                                                   Non     \n",
       "freq                                                22446     \n",
       "mean                                                  NaN     \n",
       "std                                                   NaN     \n",
       "min                                                   NaN     \n",
       "25%                                                   NaN     \n",
       "50%                                                   NaN     \n",
       "75%                                                   NaN     \n",
       "max                                                   NaN     \n",
       "\n",
       "       Faut-il donner plus d'autonomie aux fonctionnaires de terrain ?  \\\n",
       "count                                               23731                \n",
       "unique                                                  2                \n",
       "top                                                   Oui                \n",
       "freq                                                16826                \n",
       "mean                                                  NaN                \n",
       "std                                                   NaN                \n",
       "min                                                   NaN                \n",
       "25%                                                   NaN                \n",
       "50%                                                   NaN                \n",
       "75%                                                   NaN                \n",
       "max                                                   NaN                \n",
       "\n",
       "       Faut-il revoir le fonctionnement et la formation de l'administration ?  \n",
       "count                                               23745                      \n",
       "unique                                                  2                      \n",
       "top                                                   Oui                      \n",
       "freq                                                21356                      \n",
       "mean                                                  NaN                      \n",
       "std                                                   NaN                      \n",
       "min                                                   NaN                      \n",
       "25%                                                   NaN                      \n",
       "50%                                                   NaN                      \n",
       "75%                                                   NaN                      \n",
       "max                                                   NaN                      "
      ]
     },
     "execution_count": 4,
     "metadata": {},
     "output_type": "execute_result"
    }
   ],
   "source": [
    "df.drop([\n",
    "    \"Si vous avez été amené à préparer votre retraite, pouvez-vous indiquer les éléments de satisfaction et/ou les difficultés rencontrés en précisant, pour chaque point, l'administration concernée :\",\n",
    "    \"Si vous avez été amené à demander un remboursement de soins de santé, pouvez-vous indiquer les éléments de satisfaction et/ou les difficultés rencontrés en précisant, pour chaque point, l'administration concernée :\",\n",
    "    \"Si vous avez été amené à faire une demande d'aide pour une situation de handicap, pouvez-vous indiquer les éléments de satisfaction et/ou les difficultés rencontrés en précisant, pour chaque point, l'administration concernée :\",\n",
    "    \"Si vous avez été amené à créer une entreprise, pouvez-vous indiquer les éléments de satisfaction et/ou les difficultés rencontrés en précisant, pour chaque point, l'administration concernée :\",\n",
    "    \"Si vous avez été amené à recruter du personnel, pouvez-vous indiquer les éléments de satisfaction et/ou les difficultés rencontrés en précisant, pour chaque point, l'administration concernée :\",\n",
    "    \"Si vous avez été amené à former du personnel, pouvez-vous indiquer les éléments de satisfaction et/ou les difficultés rencontrés en précisant, pour chaque point, l'administration concernée :\",\n",
    "    \"Si vous avez été amené à rémunérer du personnel, pouvez-vous indiquer les éléments de satisfaction et/ou les difficultés rencontrés en précisant, pour chaque point, l'administration concernée :\",\n",
    "    \"Si vous avez été amené à mettre fin à votre activité, pouvez-vous indiquer les éléments de satisfaction et/ou les difficultés rencontrés en précisant, pour chaque point, l'administration concernée :\",\n",
    "    \"Si vous avez été amené à recruter une personne portant un handicap, pouvez-vous indiquer les éléments de satisfaction et/ou les difficultés rencontrés en précisant, pour chaque point, l'administration concernée :\",\n",
    "    \"Y a-t-il d'autres points sur l'organisation de l'Etat et des services publics sur lesquels vous souhaiteriez vous exprimer ?\",\n",
    "    \"Si oui, à quelle occasion en avez-vous fait usage ?\",\n",
    "    \"Pouvez-vous identifier des règles que l'administration vous a déjà demandé d'appliquer et que vous avez jugées inutiles ou trop complexes ?\"\n",
    "    \"Si oui, comment ?\",\n",
    "    \"Comment l'Etat et les collectivités territoriales peuvent-ils s'améliorer pour mieux répondre aux défis de nos territoires les plus en difficulté ?\",\n",
    "    \"Si vous avez été amené à chercher une formation, pouvez-vous indiquer les éléments de satisfaction et/ou les difficultés rencontrés en précisant, pour chaque point, l'administration concernée :\",\n",
    "    \"Si vous avez été amené à scolariser votre enfant, pouvez-vous indiquer les éléments de satisfaction et/ou les difficultés rencontrés en précisant, pour chaque point, l'administration concernée :\",\n",
    "    \"Si vous avez été amené à chercher un emploi, pouvez-vous indiquer les éléments de satisfaction et/ou les difficultés rencontrés en précisant, pour chaque point, l'administration concernée :\",\n",
    "    \"Quelles améliorations préconiseriez-vous ?\",\n",
    "    \"Quand vous pensez à l'évolution des services publics au cours des dernières années, quels sont ceux qui ont évolué de manière positive ?\",\n",
    "    \"Quels sont les services publics qui doivent le plus évoluer selon vous ?\",\n",
    "    \"Pouvez-vous identifier des règles que l'administration vous a déjà demandé d'appliquer et que vous avez jugées inutiles ou trop complexes ?\",\n",
    "    \"Si non, quels types de services publics vous manquent dans votre territoire et qu'il est nécessaire de renforcer ?\",\n",
    "    \"Quels nouveaux services ou quelles démarches souhaitez-vous voir développées sur Internet en priorité ?\",\n",
    "    \"Si oui, comment ?\",\n",
    "    \"Que pensez-vous de l'organisation de l'Etat et des administrations en France ? De quelle manière cette organisation devrait-elle évoluer ?\",\n",
    "    \"Si oui, lesquelles ?\"\n",
    "    ],\n",
    "    axis=1,\n",
    "    errors=\"ignore\",\n",
    "    inplace=True\n",
    ")\n",
    "\n",
    "df.describe(include=\"all\")"
   ]
  },
  {
   "cell_type": "code",
   "execution_count": 5,
   "metadata": {},
   "outputs": [],
   "source": [
    "df2 = df.melt(\n",
    "    id_vars=[\"reference\", \"title\", \"createdAt\", \"publishedAt\", \"updatedAt\", \"trashed\", \"trashedStatus\", \"authorId\", \"authorType\", \"authorZipCode\"],\n",
    "    var_name=\"question\",\n",
    "    value_name=\"reponse\"\n",
    ")"
   ]
  },
  {
   "cell_type": "code",
   "execution_count": 6,
   "metadata": {},
   "outputs": [],
   "source": [
    "brut = df2.groupby([\"question\", \"reponse\"]).count()\n",
    "\n",
    "brut.drop(brut.columns.difference(['reference']), axis=1, inplace=True)"
   ]
  },
  {
   "cell_type": "code",
   "execution_count": 7,
   "metadata": {},
   "outputs": [
    {
     "data": {
      "text/html": [
       "<div>\n",
       "<style scoped>\n",
       "    .dataframe tbody tr th:only-of-type {\n",
       "        vertical-align: middle;\n",
       "    }\n",
       "\n",
       "    .dataframe tbody tr th {\n",
       "        vertical-align: top;\n",
       "    }\n",
       "\n",
       "    .dataframe thead th {\n",
       "        text-align: right;\n",
       "    }\n",
       "</style>\n",
       "<table border=\"1\" class=\"dataframe\">\n",
       "  <thead>\n",
       "    <tr style=\"text-align: right;\">\n",
       "      <th></th>\n",
       "      <th></th>\n",
       "      <th>reference</th>\n",
       "    </tr>\n",
       "    <tr>\n",
       "      <th>question</th>\n",
       "      <th>reponse</th>\n",
       "      <th></th>\n",
       "    </tr>\n",
       "  </thead>\n",
       "  <tbody>\n",
       "    <tr>\n",
       "      <th rowspan=\"2\" valign=\"top\">Avez-vous déjà utilisé certaines de ces nouvelles formes de services publics ?</th>\n",
       "      <th>Non</th>\n",
       "      <td>72.125018</td>\n",
       "    </tr>\n",
       "    <tr>\n",
       "      <th>Oui</th>\n",
       "      <td>27.874982</td>\n",
       "    </tr>\n",
       "    <tr>\n",
       "      <th rowspan=\"2\" valign=\"top\">Connaissez-vous le \"droit à l'erreur\", c'est-à-dire le droit d'affirmer votre bonne foi lorsque vous faites un erreur dans vos déclarations ?</th>\n",
       "      <th>Non</th>\n",
       "      <td>20.337095</td>\n",
       "    </tr>\n",
       "    <tr>\n",
       "      <th>Oui</th>\n",
       "      <td>79.662905</td>\n",
       "    </tr>\n",
       "    <tr>\n",
       "      <th rowspan=\"2\" valign=\"top\">Estimez-vous avoir accès aux services publics dont vous avez besoin ?</th>\n",
       "      <th>Non</th>\n",
       "      <td>32.207747</td>\n",
       "    </tr>\n",
       "    <tr>\n",
       "      <th>Oui</th>\n",
       "      <td>67.792253</td>\n",
       "    </tr>\n",
       "    <tr>\n",
       "      <th rowspan=\"2\" valign=\"top\">Faut-il donner plus d'autonomie aux fonctionnaires de terrain ?</th>\n",
       "      <th>Non</th>\n",
       "      <td>29.096962</td>\n",
       "    </tr>\n",
       "    <tr>\n",
       "      <th>Oui</th>\n",
       "      <td>70.903038</td>\n",
       "    </tr>\n",
       "    <tr>\n",
       "      <th rowspan=\"2\" valign=\"top\">Faut-il revoir le fonctionnement et la formation de l'administration ?</th>\n",
       "      <th>Non</th>\n",
       "      <td>10.061065</td>\n",
       "    </tr>\n",
       "    <tr>\n",
       "      <th>Oui</th>\n",
       "      <td>89.938935</td>\n",
       "    </tr>\n",
       "    <tr>\n",
       "      <th rowspan=\"2\" valign=\"top\">Selon vous, l'Etat doit-il aujourd'hui transférer de nouvelles missions aux collectivités territoriales ?</th>\n",
       "      <th>Non</th>\n",
       "      <td>48.395652</td>\n",
       "    </tr>\n",
       "    <tr>\n",
       "      <th>Oui</th>\n",
       "      <td>51.604348</td>\n",
       "    </tr>\n",
       "    <tr>\n",
       "      <th rowspan=\"2\" valign=\"top\">Si oui, avez-vous déjà utilisé ce droit à l'erreur ?</th>\n",
       "      <th>Non</th>\n",
       "      <td>91.739895</td>\n",
       "    </tr>\n",
       "    <tr>\n",
       "      <th>Oui</th>\n",
       "      <td>8.260105</td>\n",
       "    </tr>\n",
       "    <tr>\n",
       "      <th rowspan=\"2\" valign=\"top\">Si oui, en avez-vous été satisfait ?</th>\n",
       "      <th>Non</th>\n",
       "      <td>33.026657</td>\n",
       "    </tr>\n",
       "    <tr>\n",
       "      <th>Oui</th>\n",
       "      <td>66.973343</td>\n",
       "    </tr>\n",
       "  </tbody>\n",
       "</table>\n",
       "</div>"
      ],
      "text/plain": [
       "                                                            reference\n",
       "question                                           reponse           \n",
       "Avez-vous déjà utilisé certaines de ces nouvell... Non      72.125018\n",
       "                                                   Oui      27.874982\n",
       "Connaissez-vous le \"droit à l'erreur\", c'est-à-... Non      20.337095\n",
       "                                                   Oui      79.662905\n",
       "Estimez-vous avoir accès aux services publics d... Non      32.207747\n",
       "                                                   Oui      67.792253\n",
       "Faut-il donner plus d'autonomie aux fonctionnai... Non      29.096962\n",
       "                                                   Oui      70.903038\n",
       "Faut-il revoir le fonctionnement et la formatio... Non      10.061065\n",
       "                                                   Oui      89.938935\n",
       "Selon vous, l'Etat doit-il aujourd'hui transfér... Non      48.395652\n",
       "                                                   Oui      51.604348\n",
       "Si oui, avez-vous déjà utilisé ce droit à l'err... Non      91.739895\n",
       "                                                   Oui       8.260105\n",
       "Si oui, en avez-vous été satisfait ?               Non      33.026657\n",
       "                                                   Oui      66.973343"
      ]
     },
     "execution_count": 7,
     "metadata": {},
     "output_type": "execute_result"
    }
   ],
   "source": [
    "pct = brut.groupby(level=0).apply(lambda x: 100 * x / float(x[\"reference\"].sum()))\n",
    "\n",
    "pct"
   ]
  },
  {
   "cell_type": "code",
   "execution_count": 8,
   "metadata": {},
   "outputs": [
    {
     "data": {
      "text/html": [
       "<h3>Avez-vous déjà utilisé certaines de ces nouvelles formes de services publics ?</h3>"
      ],
      "text/plain": [
       "<IPython.core.display.HTML object>"
      ]
     },
     "metadata": {},
     "output_type": "display_data"
    },
    {
     "data": {
      "application/vnd.vegalite.v2+json": {
       "$schema": "https://vega.github.io/schema/vega-lite/v2.6.0.json",
       "config": {
        "view": {
         "height": 300,
         "width": 400
        }
       },
       "data": {
        "name": "data-16b4ab60f7e488a50d990a000746fd2c"
       },
       "datasets": {
        "data-16b4ab60f7e488a50d990a000746fd2c": [
         {
          "question": "Avez-vous déjà utilisé certaines de ces nouvelles formes de services publics ?",
          "reference": 72.12501815013795,
          "reponse": "Non"
         },
         {
          "question": "Avez-vous déjà utilisé certaines de ces nouvelles formes de services publics ?",
          "reference": 27.87498184986206,
          "reponse": "Oui"
         }
        ]
       },
       "encoding": {
        "color": {
         "field": "reponse",
         "type": "nominal"
        },
        "x": {
         "field": "reference",
         "type": "quantitative"
        },
        "y": {
         "field": "reponse",
         "type": "nominal"
        }
       },
       "mark": "bar"
      },
      "image/png": "[encoded data removed]",
      "text/plain": [
       "<VegaLite 2 object>\n",
       "\n",
       "If you see this message, it means the renderer has not been properly enabled\n",
       "for the frontend that you are using. For more information, see\n",
       "https://altair-viz.github.io/user_guide/troubleshooting.html\n"
      ]
     },
     "metadata": {},
     "output_type": "display_data"
    },
    {
     "data": {
      "text/html": [
       "<h3>Connaissez-vous le \"droit à l'erreur\", c'est-à-dire le droit d'affirmer votre bonne foi lorsque vous faites un erreur dans vos déclarations ?</h3>"
      ],
      "text/plain": [
       "<IPython.core.display.HTML object>"
      ]
     },
     "metadata": {},
     "output_type": "display_data"
    },
    {
     "data": {
      "application/vnd.vegalite.v2+json": {
       "$schema": "https://vega.github.io/schema/vega-lite/v2.6.0.json",
       "config": {
        "view": {
         "height": 300,
         "width": 400
        }
       },
       "data": {
        "name": "data-6b693a83e5c61f97f682a558ffa8b312"
       },
       "datasets": {
        "data-6b693a83e5c61f97f682a558ffa8b312": [
         {
          "question": "Connaissez-vous le \"droit à l'erreur\", c'est-à-dire le droit d'affirmer votre bonne foi lorsque vous faites un erreur dans vos déclarations ?",
          "reference": 20.337094803421262,
          "reponse": "Non"
         },
         {
          "question": "Connaissez-vous le \"droit à l'erreur\", c'est-à-dire le droit d'affirmer votre bonne foi lorsque vous faites un erreur dans vos déclarations ?",
          "reference": 79.66290519657873,
          "reponse": "Oui"
         }
        ]
       },
       "encoding": {
        "color": {
         "field": "reponse",
         "type": "nominal"
        },
        "x": {
         "field": "reference",
         "type": "quantitative"
        },
        "y": {
         "field": "reponse",
         "type": "nominal"
        }
       },
       "mark": "bar"
      },
      "image/png": "[encoded data removed]",
      "text/plain": [
       "<VegaLite 2 object>\n",
       "\n",
       "If you see this message, it means the renderer has not been properly enabled\n",
       "for the frontend that you are using. For more information, see\n",
       "https://altair-viz.github.io/user_guide/troubleshooting.html\n"
      ]
     },
     "metadata": {},
     "output_type": "display_data"
    },
    {
     "data": {
      "text/html": [
       "<h3>Estimez-vous avoir accès aux services publics dont vous avez besoin ?</h3>"
      ],
      "text/plain": [
       "<IPython.core.display.HTML object>"
      ]
     },
     "metadata": {},
     "output_type": "display_data"
    },
    {
     "data": {
      "application/vnd.vegalite.v2+json": {
       "$schema": "https://vega.github.io/schema/vega-lite/v2.6.0.json",
       "config": {
        "view": {
         "height": 300,
         "width": 400
        }
       },
       "data": {
        "name": "data-82f5696a9fba7e2f2ed22490c7e0b68f"
       },
       "datasets": {
        "data-82f5696a9fba7e2f2ed22490c7e0b68f": [
         {
          "question": "Estimez-vous avoir accès aux services publics dont vous avez besoin ?",
          "reference": 32.20774709049852,
          "reponse": "Non"
         },
         {
          "question": "Estimez-vous avoir accès aux services publics dont vous avez besoin ?",
          "reference": 67.79225290950147,
          "reponse": "Oui"
         }
        ]
       },
       "encoding": {
        "color": {
         "field": "reponse",
         "type": "nominal"
        },
        "x": {
         "field": "reference",
         "type": "quantitative"
        },
        "y": {
         "field": "reponse",
         "type": "nominal"
        }
       },
       "mark": "bar"
      },
      "image/png": "[encoded data removed]",
      "text/plain": [
       "<VegaLite 2 object>\n",
       "\n",
       "If you see this message, it means the renderer has not been properly enabled\n",
       "for the frontend that you are using. For more information, see\n",
       "https://altair-viz.github.io/user_guide/troubleshooting.html\n"
      ]
     },
     "metadata": {},
     "output_type": "display_data"
    },
    {
     "data": {
      "text/html": [
       "<h3>Faut-il donner plus d'autonomie aux fonctionnaires de terrain ?</h3>"
      ],
      "text/plain": [
       "<IPython.core.display.HTML object>"
      ]
     },
     "metadata": {},
     "output_type": "display_data"
    },
    {
     "data": {
      "application/vnd.vegalite.v2+json": {
       "$schema": "https://vega.github.io/schema/vega-lite/v2.6.0.json",
       "config": {
        "view": {
         "height": 300,
         "width": 400
        }
       },
       "data": {
        "name": "data-ee1f58540efde59efabf93d06d4a8d83"
       },
       "datasets": {
        "data-ee1f58540efde59efabf93d06d4a8d83": [
         {
          "question": "Faut-il donner plus d'autonomie aux fonctionnaires de terrain ?",
          "reference": 29.096961779950277,
          "reponse": "Non"
         },
         {
          "question": "Faut-il donner plus d'autonomie aux fonctionnaires de terrain ?",
          "reference": 70.90303822004972,
          "reponse": "Oui"
         }
        ]
       },
       "encoding": {
        "color": {
         "field": "reponse",
         "type": "nominal"
        },
        "x": {
         "field": "reference",
         "type": "quantitative"
        },
        "y": {
         "field": "reponse",
         "type": "nominal"
        }
       },
       "mark": "bar"
      },
      "image/png": "[encoded data removed]",
      "text/plain": [
       "<VegaLite 2 object>\n",
       "\n",
       "If you see this message, it means the renderer has not been properly enabled\n",
       "for the frontend that you are using. For more information, see\n",
       "https://altair-viz.github.io/user_guide/troubleshooting.html\n"
      ]
     },
     "metadata": {},
     "output_type": "display_data"
    },
    {
     "data": {
      "text/html": [
       "<h3>Faut-il revoir le fonctionnement et la formation de l'administration ?</h3>"
      ],
      "text/plain": [
       "<IPython.core.display.HTML object>"
      ]
     },
     "metadata": {},
     "output_type": "display_data"
    },
    {
     "data": {
      "application/vnd.vegalite.v2+json": {
       "$schema": "https://vega.github.io/schema/vega-lite/v2.6.0.json",
       "config": {
        "view": {
         "height": 300,
         "width": 400
        }
       },
       "data": {
        "name": "data-2e72bd13b3ebd6ff850346d294fae9d6"
       },
       "datasets": {
        "data-2e72bd13b3ebd6ff850346d294fae9d6": [
         {
          "question": "Faut-il revoir le fonctionnement et la formation de l'administration ?",
          "reference": 10.061065487471046,
          "reponse": "Non"
         },
         {
          "question": "Faut-il revoir le fonctionnement et la formation de l'administration ?",
          "reference": 89.93893451252896,
          "reponse": "Oui"
         }
        ]
       },
       "encoding": {
        "color": {
         "field": "reponse",
         "type": "nominal"
        },
        "x": {
         "field": "reference",
         "type": "quantitative"
        },
        "y": {
         "field": "reponse",
         "type": "nominal"
        }
       },
       "mark": "bar"
      },
      "image/png": "[encoded data removed]",
      "text/plain": [
       "<VegaLite 2 object>\n",
       "\n",
       "If you see this message, it means the renderer has not been properly enabled\n",
       "for the frontend that you are using. For more information, see\n",
       "https://altair-viz.github.io/user_guide/troubleshooting.html\n"
      ]
     },
     "metadata": {},
     "output_type": "display_data"
    },
    {
     "data": {
      "text/html": [
       "<h3>Selon vous, l'Etat doit-il aujourd'hui transférer de nouvelles missions aux collectivités territoriales ?</h3>"
      ],
      "text/plain": [
       "<IPython.core.display.HTML object>"
      ]
     },
     "metadata": {},
     "output_type": "display_data"
    },
    {
     "data": {
      "application/vnd.vegalite.v2+json": {
       "$schema": "https://vega.github.io/schema/vega-lite/v2.6.0.json",
       "config": {
        "view": {
         "height": 300,
         "width": 400
        }
       },
       "data": {
        "name": "data-00bcbb28351abdafa05caeaabddbfede"
       },
       "datasets": {
        "data-00bcbb28351abdafa05caeaabddbfede": [
         {
          "question": "Selon vous, l'Etat doit-il aujourd'hui transférer de nouvelles missions aux collectivités territoriales ?",
          "reference": 48.395652011504986,
          "reponse": "Non"
         },
         {
          "question": "Selon vous, l'Etat doit-il aujourd'hui transférer de nouvelles missions aux collectivités territoriales ?",
          "reference": 51.604347988495014,
          "reponse": "Oui"
         }
        ]
       },
       "encoding": {
        "color": {
         "field": "reponse",
         "type": "nominal"
        },
        "x": {
         "field": "reference",
         "type": "quantitative"
        },
        "y": {
         "field": "reponse",
         "type": "nominal"
        }
       },
       "mark": "bar"
      },
      "image/png": "[encoded data removed]",
      "text/plain": [
       "<VegaLite 2 object>\n",
       "\n",
       "If you see this message, it means the renderer has not been properly enabled\n",
       "for the frontend that you are using. For more information, see\n",
       "https://altair-viz.github.io/user_guide/troubleshooting.html\n"
      ]
     },
     "metadata": {},
     "output_type": "display_data"
    },
    {
     "data": {
      "text/html": [
       "<h3>Si oui, avez-vous déjà utilisé ce droit à l'erreur ?</h3>"
      ],
      "text/plain": [
       "<IPython.core.display.HTML object>"
      ]
     },
     "metadata": {},
     "output_type": "display_data"
    },
    {
     "data": {
      "application/vnd.vegalite.v2+json": {
       "$schema": "https://vega.github.io/schema/vega-lite/v2.6.0.json",
       "config": {
        "view": {
         "height": 300,
         "width": 400
        }
       },
       "data": {
        "name": "data-f27ed29cf207497289746a2de28a2919"
       },
       "datasets": {
        "data-f27ed29cf207497289746a2de28a2919": [
         {
          "question": "Si oui, avez-vous déjà utilisé ce droit à l'erreur ?",
          "reference": 91.73989455184534,
          "reponse": "Non"
         },
         {
          "question": "Si oui, avez-vous déjà utilisé ce droit à l'erreur ?",
          "reference": 8.260105448154658,
          "reponse": "Oui"
         }
        ]
       },
       "encoding": {
        "color": {
         "field": "reponse",
         "type": "nominal"
        },
        "x": {
         "field": "reference",
         "type": "quantitative"
        },
        "y": {
         "field": "reponse",
         "type": "nominal"
        }
       },
       "mark": "bar"
      },
      "image/png": "[encoded data removed]",
      "text/plain": [
       "<VegaLite 2 object>\n",
       "\n",
       "If you see this message, it means the renderer has not been properly enabled\n",
       "for the frontend that you are using. For more information, see\n",
       "https://altair-viz.github.io/user_guide/troubleshooting.html\n"
      ]
     },
     "metadata": {},
     "output_type": "display_data"
    },
    {
     "data": {
      "text/html": [
       "<h3>Si oui, en avez-vous été satisfait ?</h3>"
      ],
      "text/plain": [
       "<IPython.core.display.HTML object>"
      ]
     },
     "metadata": {},
     "output_type": "display_data"
    },
    {
     "data": {
      "application/vnd.vegalite.v2+json": {
       "$schema": "https://vega.github.io/schema/vega-lite/v2.6.0.json",
       "config": {
        "view": {
         "height": 300,
         "width": 400
        }
       },
       "data": {
        "name": "data-e14030453f2e51feddefa1ae31f634eb"
       },
       "datasets": {
        "data-e14030453f2e51feddefa1ae31f634eb": [
         {
          "question": "Si oui, en avez-vous été satisfait ?",
          "reference": 33.02665723047889,
          "reponse": "Non"
         },
         {
          "question": "Si oui, en avez-vous été satisfait ?",
          "reference": 66.97334276952111,
          "reponse": "Oui"
         }
        ]
       },
       "encoding": {
        "color": {
         "field": "reponse",
         "type": "nominal"
        },
        "x": {
         "field": "reference",
         "type": "quantitative"
        },
        "y": {
         "field": "reponse",
         "type": "nominal"
        }
       },
       "mark": "bar"
      },
      "image/png": "[encoded data removed]",
      "text/plain": [
       "<VegaLite 2 object>\n",
       "\n",
       "If you see this message, it means the renderer has not been properly enabled\n",
       "for the frontend that you are using. For more information, see\n",
       "https://altair-viz.github.io/user_guide/troubleshooting.html\n"
      ]
     },
     "metadata": {},
     "output_type": "display_data"
    }
   ],
   "source": [
    "for q,d in brut.groupby(level=[0]):\n",
    "    \n",
    "    display(HTML(\"<h3>%s</h3>\" % q))\n",
    "    \n",
    "    d = d.apply(lambda x: 100 * x / float(x.sum()))\n",
    "        \n",
    "    chart = alt.Chart(d.reset_index()).mark_bar().encode(\n",
    "        x=\"reference:Q\",\n",
    "        y=\"reponse:N\",\n",
    "        color=\"reponse:N\",\n",
    "    )\n",
    "    \n",
    "    display(chart)"
   ]
  },
  {
   "cell_type": "code",
   "execution_count": null,
   "metadata": {},
   "outputs": [],
   "source": []
  }
 ],
 "metadata": {
  "kernelspec": {
   "display_name": "Python 3",
   "language": "python",
   "name": "python3"
  },
  "language_info": {
   "codemirror_mode": {
    "name": "ipython",
    "version": 3
   },
   "file_extension": ".py",
   "mimetype": "text/x-python",
   "name": "python",
   "nbconvert_exporter": "python",
   "pygments_lexer": "ipython3",
   "version": "3.6.6"
  }
 },
 "nbformat": 4,
 "nbformat_minor": 2
}
