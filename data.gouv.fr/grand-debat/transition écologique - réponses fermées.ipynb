{
 "cells": [
  {
   "cell_type": "code",
   "execution_count": 35,
   "metadata": {},
   "outputs": [],
   "source": [
    "from IPython.display import display, HTML\n",
    "\n",
    "import pandas as pd\n",
    "import altair as alt"
   ]
  },
  {
   "cell_type": "code",
   "execution_count": 3,
   "metadata": {},
   "outputs": [
    {
     "name": "stderr",
     "output_type": "stream",
     "text": [
      "/home/tk/.virtualenvs/notebooks/lib/python3.6/site-packages/IPython/core/interactiveshell.py:3020: DtypeWarning: Columns (6) have mixed types. Specify dtype option on import or set low_memory=False.\n",
      "  interactivity=interactivity, compiler=compiler, result=result)\n"
     ]
    }
   ],
   "source": [
    "df = pd.read_csv(\"http://opendata.auth-6f31f706db6f4a24b55f42a6a79c5086.storage.sbg5.cloud.ovh.net/2019-02-06/LA_TRANSITION_ECOLOGIQUE.csv\")"
   ]
  },
  {
   "cell_type": "code",
   "execution_count": 4,
   "metadata": {},
   "outputs": [],
   "source": [
    "df.drop([\n",
    "    \"Et qui doit selon vous se charger de vous proposer ce type de solutions alternatives ?\",\n",
    "    \"Y a-t-il d'autres points sur la transition écologique sur lesquels vous souhaiteriez vous exprimer ?\",\n",
    "    \"Qu'est-ce qui pourrait vous inciter à changer vos comportements comme par exemple mieux entretenir et régler votre chauffage, modifier votre manière de conduire ou renoncer à prendre votre véhicule pour de très petites distances ?\",\n",
    "    \"Que faudrait-il faire selon vous pour apporter des réponses à ce problème ?\",\n",
    "    \"Que pourrait faire la France pour faire partager ses choix en matière d'environnement au niveau européen et international ?\",\n",
    "    \"Quel est aujourd'hui pour vous le problème concret le plus important dans le domaine de l'environnement ?\",\n",
    "    \"Quelles seraient pour vous les solutions les plus simples et les plus supportables sur un plan financier pour vous inciter à changer vos comportements ?\",\n",
    "    \"Si oui, de quelle manière votre vie quotidienne est-elle touchée par le changement climatique ?\",\n",
    "    \"Si oui, que faites-vous aujourd'hui pour protéger l'environnement et/ou que pourriez-vous faire ?\",\n",
    "    \"Si oui, que faudrait-il faire pour vous convaincre ou vous aider à utiliser ces solutions alternatives ?\",\n",
    "    \"Si oui, que faudrait-il faire pour vous convaincre ou vous aider à changer de mode de chauffage ?\",\n",
    "    \"Si non, quelles sont les solutions de mobilité alternatives que vous souhaiteriez pouvoir utiliser ?\"\n",
    "    ],\n",
    "    axis=1,\n",
    "    errors=\"ignore\",\n",
    "    inplace=True\n",
    ")"
   ]
  },
  {
   "cell_type": "code",
   "execution_count": 5,
   "metadata": {},
   "outputs": [],
   "source": [
    "df2 = df.melt(\n",
    "    id_vars=[\"reference\", \"title\", \"createdAt\", \"publishedAt\", \"updatedAt\", \"trashed\", \"trashedStatus\", \"authorId\", \"authorType\", \"authorZipCode\"],\n",
    "    var_name=\"question\",\n",
    "    value_name=\"reponse\"\n",
    ")"
   ]
  },
  {
   "cell_type": "code",
   "execution_count": 6,
   "metadata": {},
   "outputs": [],
   "source": [
    "brut = df2.groupby([\"question\", \"reponse\"]).count()\n",
    "\n",
    "brut.drop(brut.columns.difference(['reference']), axis=1, inplace=True)"
   ]
  },
  {
   "cell_type": "code",
   "execution_count": 7,
   "metadata": {},
   "outputs": [
    {
     "data": {
      "text/html": [
       "<div>\n",
       "<style scoped>\n",
       "    .dataframe tbody tr th:only-of-type {\n",
       "        vertical-align: middle;\n",
       "    }\n",
       "\n",
       "    .dataframe tbody tr th {\n",
       "        vertical-align: top;\n",
       "    }\n",
       "\n",
       "    .dataframe thead th {\n",
       "        text-align: right;\n",
       "    }\n",
       "</style>\n",
       "<table border=\"1\" class=\"dataframe\">\n",
       "  <thead>\n",
       "    <tr style=\"text-align: right;\">\n",
       "      <th></th>\n",
       "      <th></th>\n",
       "      <th>reference</th>\n",
       "    </tr>\n",
       "    <tr>\n",
       "      <th>question</th>\n",
       "      <th>reponse</th>\n",
       "      <th></th>\n",
       "    </tr>\n",
       "  </thead>\n",
       "  <tbody>\n",
       "    <tr>\n",
       "      <th rowspan=\"3\" valign=\"top\">Avez-vous pour vos déplacements quotidiens la possibilité de recourir à des solutions de mobilité alternatives à la voiture individuelle comme les transports en commun, le covoiturage, l'auto-partage, le transport à la demande, le vélo, etc. ?</th>\n",
       "      <th>Je n'utilise pas la voiture pour des déplacements quotidiens</th>\n",
       "      <td>21.071546</td>\n",
       "    </tr>\n",
       "    <tr>\n",
       "      <th>Non</th>\n",
       "      <td>38.542303</td>\n",
       "    </tr>\n",
       "    <tr>\n",
       "      <th>Oui</th>\n",
       "      <td>40.386151</td>\n",
       "    </tr>\n",
       "    <tr>\n",
       "      <th rowspan=\"2\" valign=\"top\">Diriez-vous que votre vie quotidienne est aujourd'hui touchée par le changement climatique ?</th>\n",
       "      <th>Non</th>\n",
       "      <td>34.917331</td>\n",
       "    </tr>\n",
       "    <tr>\n",
       "      <th>Oui</th>\n",
       "      <td>65.082669</td>\n",
       "    </tr>\n",
       "    <tr>\n",
       "      <th rowspan=\"2\" valign=\"top\">Par rapport à votre mode de chauffage actuel, pensez-vous qu'il existe des solutions alternatives plus écologiques ?</th>\n",
       "      <th>Non</th>\n",
       "      <td>40.272053</td>\n",
       "    </tr>\n",
       "    <tr>\n",
       "      <th>Oui</th>\n",
       "      <td>59.727947</td>\n",
       "    </tr>\n",
       "    <tr>\n",
       "      <th rowspan=\"2\" valign=\"top\">À titre personnel, pensez-vous pouvoir contribuer à protéger l'environnement ?</th>\n",
       "      <th>Non</th>\n",
       "      <td>6.311939</td>\n",
       "    </tr>\n",
       "    <tr>\n",
       "      <th>Oui</th>\n",
       "      <td>93.688061</td>\n",
       "    </tr>\n",
       "  </tbody>\n",
       "</table>\n",
       "</div>"
      ],
      "text/plain": [
       "                                                                                                       reference\n",
       "question                                           reponse                                                      \n",
       "Avez-vous pour vos déplacements quotidiens la p... Je n'utilise pas la voiture pour des déplacemen...  21.071546\n",
       "                                                   Non                                                 38.542303\n",
       "                                                   Oui                                                 40.386151\n",
       "Diriez-vous que votre vie quotidienne est aujou... Non                                                 34.917331\n",
       "                                                   Oui                                                 65.082669\n",
       "Par rapport à votre mode de chauffage actuel, p... Non                                                 40.272053\n",
       "                                                   Oui                                                 59.727947\n",
       "À titre personnel, pensez-vous pouvoir contribu... Non                                                  6.311939\n",
       "                                                   Oui                                                 93.688061"
      ]
     },
     "execution_count": 7,
     "metadata": {},
     "output_type": "execute_result"
    }
   ],
   "source": [
    "pct = brut.groupby(level=0).apply(lambda x: 100 * x / float(x[\"reference\"].sum()))\n",
    "\n",
    "pct"
   ]
  },
  {
   "cell_type": "code",
   "execution_count": 41,
   "metadata": {},
   "outputs": [
    {
     "data": {
      "text/html": [
       "<h3>Avez-vous pour vos déplacements quotidiens la possibilité de recourir à des solutions de mobilité alternatives à la voiture individuelle comme les transports en commun, le covoiturage, l'auto-partage, le transport à la demande, le vélo, etc. ?</h3>"
      ],
      "text/plain": [
       "<IPython.core.display.HTML object>"
      ]
     },
     "metadata": {},
     "output_type": "display_data"
    },
    {
     "data": {
      "application/vnd.vegalite.v2+json": {
       "$schema": "https://vega.github.io/schema/vega-lite/v2.6.0.json",
       "config": {
        "view": {
         "height": 300,
         "width": 400
        }
       },
       "data": {
        "name": "data-8f50da74f496e1310201147b9d043ea8"
       },
       "datasets": {
        "data-8f50da74f496e1310201147b9d043ea8": [
         {
          "question": "Avez-vous pour vos déplacements quotidiens la possibilité de recourir à des solutions de mobilité alternatives à la voiture individuelle comme les transports en commun, le covoiturage, l'auto-partage, le transport à la demande, le vélo, etc. ?",
          "reference": 21.071546013999154,
          "reponse": "Je n'utilise pas la voiture pour des déplacements quotidiens"
         },
         {
          "question": "Avez-vous pour vos déplacements quotidiens la possibilité de recourir à des solutions de mobilité alternatives à la voiture individuelle comme les transports en commun, le covoiturage, l'auto-partage, le transport à la demande, le vélo, etc. ?",
          "reference": 38.54230281392399,
          "reponse": "Non"
         },
         {
          "question": "Avez-vous pour vos déplacements quotidiens la possibilité de recourir à des solutions de mobilité alternatives à la voiture individuelle comme les transports en commun, le covoiturage, l'auto-partage, le transport à la demande, le vélo, etc. ?",
          "reference": 40.38615117207686,
          "reponse": "Oui"
         }
        ]
       },
       "encoding": {
        "color": {
         "field": "reponse",
         "type": "nominal"
        },
        "x": {
         "field": "reference",
         "type": "quantitative"
        },
        "y": {
         "field": "reponse",
         "type": "nominal"
        }
       },
       "mark": "bar"
      },
      "image/png": "[encoded data removed]",
      "text/plain": [
       "<VegaLite 2 object>\n",
       "\n",
       "If you see this message, it means the renderer has not been properly enabled\n",
       "for the frontend that you are using. For more information, see\n",
       "https://altair-viz.github.io/user_guide/troubleshooting.html\n"
      ]
     },
     "metadata": {},
     "output_type": "display_data"
    },
    {
     "data": {
      "text/html": [
       "<h3>Diriez-vous que votre vie quotidienne est aujourd'hui touchée par le changement climatique ?</h3>"
      ],
      "text/plain": [
       "<IPython.core.display.HTML object>"
      ]
     },
     "metadata": {},
     "output_type": "display_data"
    },
    {
     "data": {
      "application/vnd.vegalite.v2+json": {
       "$schema": "https://vega.github.io/schema/vega-lite/v2.6.0.json",
       "config": {
        "view": {
         "height": 300,
         "width": 400
        }
       },
       "data": {
        "name": "data-94568385a473c847281cc3c82d9f80ad"
       },
       "datasets": {
        "data-94568385a473c847281cc3c82d9f80ad": [
         {
          "question": "Diriez-vous que votre vie quotidienne est aujourd'hui touchée par le changement climatique ?",
          "reference": 34.91733148340849,
          "reponse": "Non"
         },
         {
          "question": "Diriez-vous que votre vie quotidienne est aujourd'hui touchée par le changement climatique ?",
          "reference": 65.08266851659151,
          "reponse": "Oui"
         }
        ]
       },
       "encoding": {
        "color": {
         "field": "reponse",
         "type": "nominal"
        },
        "x": {
         "field": "reference",
         "type": "quantitative"
        },
        "y": {
         "field": "reponse",
         "type": "nominal"
        }
       },
       "mark": "bar"
      },
      "image/png": "[encoded data removed]",
      "text/plain": [
       "<VegaLite 2 object>\n",
       "\n",
       "If you see this message, it means the renderer has not been properly enabled\n",
       "for the frontend that you are using. For more information, see\n",
       "https://altair-viz.github.io/user_guide/troubleshooting.html\n"
      ]
     },
     "metadata": {},
     "output_type": "display_data"
    },
    {
     "data": {
      "text/html": [
       "<h3>Par rapport à votre mode de chauffage actuel, pensez-vous qu'il existe des solutions alternatives plus écologiques ?</h3>"
      ],
      "text/plain": [
       "<IPython.core.display.HTML object>"
      ]
     },
     "metadata": {},
     "output_type": "display_data"
    },
    {
     "data": {
      "application/vnd.vegalite.v2+json": {
       "$schema": "https://vega.github.io/schema/vega-lite/v2.6.0.json",
       "config": {
        "view": {
         "height": 300,
         "width": 400
        }
       },
       "data": {
        "name": "data-60877f1df74b05da3d7717e942e5c838"
       },
       "datasets": {
        "data-60877f1df74b05da3d7717e942e5c838": [
         {
          "question": "Par rapport à votre mode de chauffage actuel, pensez-vous qu'il existe des solutions alternatives plus écologiques ?",
          "reference": 40.27205276174773,
          "reponse": "Non"
         },
         {
          "question": "Par rapport à votre mode de chauffage actuel, pensez-vous qu'il existe des solutions alternatives plus écologiques ?",
          "reference": 59.72794723825227,
          "reponse": "Oui"
         }
        ]
       },
       "encoding": {
        "color": {
         "field": "reponse",
         "type": "nominal"
        },
        "x": {
         "field": "reference",
         "type": "quantitative"
        },
        "y": {
         "field": "reponse",
         "type": "nominal"
        }
       },
       "mark": "bar"
      },
      "image/png": "[encoded data removed]",
      "text/plain": [
       "<VegaLite 2 object>\n",
       "\n",
       "If you see this message, it means the renderer has not been properly enabled\n",
       "for the frontend that you are using. For more information, see\n",
       "https://altair-viz.github.io/user_guide/troubleshooting.html\n"
      ]
     },
     "metadata": {},
     "output_type": "display_data"
    },
    {
     "data": {
      "text/html": [
       "<h3>À titre personnel, pensez-vous pouvoir contribuer à protéger l'environnement ?</h3>"
      ],
      "text/plain": [
       "<IPython.core.display.HTML object>"
      ]
     },
     "metadata": {},
     "output_type": "display_data"
    },
    {
     "data": {
      "application/vnd.vegalite.v2+json": {
       "$schema": "https://vega.github.io/schema/vega-lite/v2.6.0.json",
       "config": {
        "view": {
         "height": 300,
         "width": 400
        }
       },
       "data": {
        "name": "data-300a84a52b11bd94ff63db622cecd65a"
       },
       "datasets": {
        "data-300a84a52b11bd94ff63db622cecd65a": [
         {
          "question": "À titre personnel, pensez-vous pouvoir contribuer à protéger l'environnement ?",
          "reference": 6.311938501435584,
          "reponse": "Non"
         },
         {
          "question": "À titre personnel, pensez-vous pouvoir contribuer à protéger l'environnement ?",
          "reference": 93.68806149856442,
          "reponse": "Oui"
         }
        ]
       },
       "encoding": {
        "color": {
         "field": "reponse",
         "type": "nominal"
        },
        "x": {
         "field": "reference",
         "type": "quantitative"
        },
        "y": {
         "field": "reponse",
         "type": "nominal"
        }
       },
       "mark": "bar"
      },
      "image/png": "[encoded data removed]",
      "text/plain": [
       "<VegaLite 2 object>\n",
       "\n",
       "If you see this message, it means the renderer has not been properly enabled\n",
       "for the frontend that you are using. For more information, see\n",
       "https://altair-viz.github.io/user_guide/troubleshooting.html\n"
      ]
     },
     "metadata": {},
     "output_type": "display_data"
    }
   ],
   "source": [
    "for q,d in brut.groupby(level=[0]):\n",
    "    \n",
    "    display(HTML(\"<h3>%s</h3>\" % q))\n",
    "    \n",
    "    d = d.apply(lambda x: 100 * x / float(x.sum()))\n",
    "        \n",
    "    chart = alt.Chart(d.reset_index()).mark_bar().encode(\n",
    "        x=\"reference:Q\",\n",
    "        y=\"reponse:N\",\n",
    "        color=\"reponse:N\",\n",
    "    )\n",
    "    \n",
    "    display(chart)"
   ]
  },
  {
   "cell_type": "code",
   "execution_count": null,
   "metadata": {},
   "outputs": [],
   "source": []
  }
 ],
 "metadata": {
  "kernelspec": {
   "display_name": "Python 3",
   "language": "python",
   "name": "python3"
  },
  "language_info": {
   "codemirror_mode": {
    "name": "ipython",
    "version": 3
   },
   "file_extension": ".py",
   "mimetype": "text/x-python",
   "name": "python",
   "nbconvert_exporter": "python",
   "pygments_lexer": "ipython3",
   "version": "3.6.6"
  }
 },
 "nbformat": 4,
 "nbformat_minor": 2
}
