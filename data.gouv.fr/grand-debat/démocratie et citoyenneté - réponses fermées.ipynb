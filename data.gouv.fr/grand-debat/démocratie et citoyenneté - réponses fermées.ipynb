{
  "nbformat": 4,
  "nbformat_minor": 0,
  "metadata": {
    "colab": {
      "name": "démocratie et citoyenneté - réponses fermées.ipynb",
      "version": "0.3.2",
      "provenance": [],
      "include_colab_link": true
    },
    "kernelspec": {
      "display_name": "Python 3",
      "language": "python",
      "name": "python3"
    }
  },
  "cells": [
    {
      "cell_type": "markdown",
      "metadata": {
        "id": "view-in-github",
        "colab_type": "text"
      },
      "source": [
        "<a href=\"https://colab.research.google.com/github/cedspam/notebooks/blob/master/data.gouv.fr/grand-debat/d%C3%A9mocratie%20et%20citoyennet%C3%A9%20-%20r%C3%A9ponses%20ferm%C3%A9es.ipynb\" target=\"_parent\"><img src=\"https://colab.research.google.com/assets/colab-badge.svg\" alt=\"Open In Colab\"/></a>"
      ]
    },
    {
      "metadata": {
        "id": "HLqBKo7DbyGa",
        "colab_type": "code",
        "colab": {}
      },
      "cell_type": "code",
      "source": [
        "from IPython.display import display, HTML\n",
        "\n",
        "import pandas as pd\n",
        "import altair as alt"
      ],
      "execution_count": 0,
      "outputs": []
    },
    {
      "metadata": {
        "id": "JHpsLnyGbyGs",
        "colab_type": "code",
        "colab": {},
        "outputId": "9b65d357-61de-4d2a-fb48-98c77be5fc7d"
      },
      "cell_type": "code",
      "source": [
        "df = pd.read_csv(\"http://opendata.auth-6f31f706db6f4a24b55f42a6a79c5086.storage.sbg5.cloud.ovh.net/2019-02-06/DEMOCRATIE_ET_CITOYENNETE.csv\")"
      ],
      "execution_count": 0,
      "outputs": [
        {
          "output_type": "stream",
          "text": [
            "/home/tk/.virtualenvs/notebooks/lib/python3.6/site-packages/IPython/core/interactiveshell.py:3020: DtypeWarning: Columns (6) have mixed types. Specify dtype option on import or set low_memory=False.\n",
            "  interactivity=interactivity, compiler=compiler, result=result)\n"
          ],
          "name": "stderr"
        }
      ]
    },
    {
      "metadata": {
        "id": "M1HH3NACbyG4",
        "colab_type": "code",
        "colab": {}
      },
      "cell_type": "code",
      "source": [
        "df.drop([\n",
        "    \"Quel pourrait être le rôle de chacun pour faire reculer les incivilités dans la société ?\",\n",
        "    \"Quelles sont les discriminations les plus répandues dont vous êtes témoin ou victime ?\",\n",
        "    \"Quelles sont les incivilités les plus pénibles dans la vie quotidienne et que faudrait-il faire pour lutter contre ces incivilités ?\",\n",
        "    \"Que peuvent et doivent faire les pouvoirs publics pour répondre aux incivilités ?\",\n",
        "    \"Que faudrait-il faire pour lutter contre ces discriminations et construire une société plus solidaire et plus tolérante ?\",\n",
        "    \"Si oui, lesquelles ?\",\n",
        "    \"Que pensez-vous de la situation de l'immigration en France aujourd'hui et de la politique migratoire ? Quelles sont, selon vous, les critères à mettre en place pour définir la politique migratoire ?\",\n",
        "    \"Comment garantir le respect par tous de la compréhension réciproque et des valeurs intangibles de la République ?\",\n",
        "    \"Que faudrait-il faire aujourd'hui pour renforcer l'engagement citoyen dans la société ?\",\n",
        "    \"Quels sont les comportements civiques qu'il faut promouvoir dans notre vie quotidienne ou collective ?\",\n",
        "    \"Que faudrait-il faire pour favoriser le développement de ces comportements civiques et par quels engagements concrets chacun peut-il y participer ?\",\n",
        "    \"Que faudrait-il faire pour valoriser l'engagement citoyen dans les parcours de vie, dans les relations avec l'administration et les pouvoirs publics ?\",\n",
        "    \"En matière d'immigration, une fois nos obligations d'asile remplies, souhaitez-vous que nous puissions nous fixer des objectifs annuels définis par le Parlement ?\",\n",
        "    \"Que proposez-vous afin de répondre à ce défi qui va durer ?\",\n",
        "    \"Quelles sont, selon vous, les modalités d'intégration les plus efficaces et les plus justes à mettre en place aujourd'hui dans la société ?\",\n",
        "    \"Y a-t-il d'autres points sur la démocratie et la citoyenneté sur lesquels vous souhaiteriez vous exprimer ?\",\n",
        "    \"Que faudrait-il faire aujourd'hui pour mieux associer les citoyens aux grandes orientations et à la décision publique ? Comment mettre en place une démocratie plus participative ?\",\n",
        "    \"Que faudrait-il faire pour consulter plus directement les citoyens sur l'utilisation de l'argent public, par l'Etat et les collectivités ?\",\n",
        "    \"Si oui, comment ?\",\n",
        "    \"Que faudrait-il faire pour consulter plus directement les citoyens sur l'utilisation de l'argent public, par l'Etat et les collectivités ?\",\n",
        "    \"Quel rôle nos assemblées, dont le Sénat et le Conseil économique, social et environnemental, doivent-elles jouer pour représenter nos territoires et la société civile ?\",\n",
        "    \"Que proposez-vous pour renforcer les principes de la laïcité dans le rapport entre l'Etat et les religions de notre pays ?\",\n",
        "    \"Pourquoi ?\",\n",
        "    \"Que faudrait-il faire pour mieux représenter les différentes sensibilités politiques ?\",\n",
        "    \"Si oui, lesquels ?\",\n",
        "    \"En qui faites-vous le plus confiance pour vous faire représenter dans la société et pourquoi ?\",\n",
        "    \"Que pensez-vous de la participation des citoyens aux élections et comment les inciter à y participer davantage ?\",\n",
        "    \"Si oui, à quel type d'associations ou d'organisations ? Et avec quel rôle ?\",\n",
        "    \"Que faudrait-il faire pour renouer le lien entre les citoyens et les élus qui les représentent ?\",\n",
        "    \"Si oui, de quelle manière ?\",\n",
        "    ],\n",
        "    axis=1,\n",
        "    errors=\"ignore\",\n",
        "    inplace=True\n",
        ")\n",
        "\n",
        "#df.describe(include=\"all\")"
      ],
      "execution_count": 0,
      "outputs": []
    },
    {
      "metadata": {
        "id": "OqgmKtPZbyHA",
        "colab_type": "code",
        "colab": {}
      },
      "cell_type": "code",
      "source": [
        "df2 = df.melt(\n",
        "    id_vars=[\"reference\", \"title\", \"createdAt\", \"publishedAt\", \"updatedAt\", \"trashed\", \"trashedStatus\", \"authorId\", \"authorType\", \"authorZipCode\"],\n",
        "    var_name=\"question\",\n",
        "    value_name=\"reponse\"\n",
        ")"
      ],
      "execution_count": 0,
      "outputs": []
    },
    {
      "metadata": {
        "id": "2x0x1DnObyHI",
        "colab_type": "code",
        "colab": {}
      },
      "cell_type": "code",
      "source": [
        "brut = df2.groupby([\"question\", \"reponse\"]).count()\n",
        "\n",
        "brut.drop(brut.columns.difference(['reference']), axis=1, inplace=True)"
      ],
      "execution_count": 0,
      "outputs": []
    },
    {
      "metadata": {
        "id": "gxvwX5WVbyHP",
        "colab_type": "code",
        "colab": {},
        "outputId": "68793dbe-91f0-4cc2-cc11-c02953fe6d25"
      },
      "cell_type": "code",
      "source": [
        "pct = brut.groupby(level=0).apply(lambda x: 100 * x / float(x[\"reference\"].sum()))\n",
        "\n",
        "pct"
      ],
      "execution_count": 0,
      "outputs": [
        {
          "output_type": "execute_result",
          "data": {
            "text/html": [
              "<div>\n",
              "<style scoped>\n",
              "    .dataframe tbody tr th:only-of-type {\n",
              "        vertical-align: middle;\n",
              "    }\n",
              "\n",
              "    .dataframe tbody tr th {\n",
              "        vertical-align: top;\n",
              "    }\n",
              "\n",
              "    .dataframe thead th {\n",
              "        text-align: right;\n",
              "    }\n",
              "</style>\n",
              "<table border=\"1\" class=\"dataframe\">\n",
              "  <thead>\n",
              "    <tr style=\"text-align: right;\">\n",
              "      <th></th>\n",
              "      <th></th>\n",
              "      <th>reference</th>\n",
              "    </tr>\n",
              "    <tr>\n",
              "      <th>question</th>\n",
              "      <th>reponse</th>\n",
              "      <th></th>\n",
              "    </tr>\n",
              "  </thead>\n",
              "  <tbody>\n",
              "    <tr>\n",
              "      <th rowspan=\"2\" valign=\"top\">En dehors des élus politiques, faut-il donner un rôle plus important aux associations et aux organisations syndicales et professionnelles ?</th>\n",
              "      <th>Non</th>\n",
              "      <td>41.835375</td>\n",
              "    </tr>\n",
              "    <tr>\n",
              "      <th>Oui</th>\n",
              "      <td>58.164625</td>\n",
              "    </tr>\n",
              "    <tr>\n",
              "      <th rowspan=\"3\" valign=\"top\">Faut-il faciliter le déclenchement du référendum d'initiative partagée (le RIP est organisé à l'initiative de membres du Parlement soutenu par une partie du corps électoral) qui est applicable depuis 2015 ?</th>\n",
              "      <th>Je ne sais pas</th>\n",
              "      <td>20.187839</td>\n",
              "    </tr>\n",
              "    <tr>\n",
              "      <th>Non</th>\n",
              "      <td>26.515225</td>\n",
              "    </tr>\n",
              "    <tr>\n",
              "      <th>Oui</th>\n",
              "      <td>53.296935</td>\n",
              "    </tr>\n",
              "    <tr>\n",
              "      <th rowspan=\"2\" valign=\"top\">Faut-il les transformer ?</th>\n",
              "      <th>Non</th>\n",
              "      <td>12.793037</td>\n",
              "    </tr>\n",
              "    <tr>\n",
              "      <th>Oui</th>\n",
              "      <td>87.206963</td>\n",
              "    </tr>\n",
              "    <tr>\n",
              "      <th rowspan=\"2\" valign=\"top\">Faut-il prendre en compte le vote blanc ?</th>\n",
              "      <th>Non</th>\n",
              "      <td>17.393936</td>\n",
              "    </tr>\n",
              "    <tr>\n",
              "      <th>Oui</th>\n",
              "      <td>82.606064</td>\n",
              "    </tr>\n",
              "    <tr>\n",
              "      <th rowspan=\"3\" valign=\"top\">Le non-cumul des mandats instauré en 2017 pour les parlementaires (députés et sénateurs) est :</th>\n",
              "      <th>Je ne sais pas</th>\n",
              "      <td>10.115132</td>\n",
              "    </tr>\n",
              "    <tr>\n",
              "      <th>Une bonne chose</th>\n",
              "      <td>75.705339</td>\n",
              "    </tr>\n",
              "    <tr>\n",
              "      <th>Une mauvaise chose</th>\n",
              "      <td>14.179529</td>\n",
              "    </tr>\n",
              "    <tr>\n",
              "      <th rowspan=\"2\" valign=\"top\">Pensez-vous qu'il faille instaurer des contreparties aux différentes allocations de solidarité ?</th>\n",
              "      <th>Non</th>\n",
              "      <td>26.986540</td>\n",
              "    </tr>\n",
              "    <tr>\n",
              "      <th>Oui</th>\n",
              "      <td>73.013460</td>\n",
              "    </tr>\n",
              "    <tr>\n",
              "      <th rowspan=\"2\" valign=\"top\">Pensez-vous qu'il serait souhaitable de réduire le nombre d'élus (hors députés et sénateurs) ?</th>\n",
              "      <th>Non</th>\n",
              "      <td>26.505786</td>\n",
              "    </tr>\n",
              "    <tr>\n",
              "      <th>Oui</th>\n",
              "      <td>73.494214</td>\n",
              "    </tr>\n",
              "  </tbody>\n",
              "</table>\n",
              "</div>"
            ],
            "text/plain": [
              "                                                                       reference\n",
              "question                                           reponse                      \n",
              "En dehors des élus politiques, faut-il donner u... Non                 41.835375\n",
              "                                                   Oui                 58.164625\n",
              "Faut-il faciliter le déclenchement du référendu... Je ne sais pas      20.187839\n",
              "                                                   Non                 26.515225\n",
              "                                                   Oui                 53.296935\n",
              "Faut-il les transformer ?                          Non                 12.793037\n",
              "                                                   Oui                 87.206963\n",
              "Faut-il prendre en compte le vote blanc ?          Non                 17.393936\n",
              "                                                   Oui                 82.606064\n",
              "Le non-cumul des mandats instauré en 2017 pour ... Je ne sais pas      10.115132\n",
              "                                                   Une bonne chose     75.705339\n",
              "                                                   Une mauvaise chose  14.179529\n",
              "Pensez-vous qu'il faille instaurer des contrepa... Non                 26.986540\n",
              "                                                   Oui                 73.013460\n",
              "Pensez-vous qu'il serait souhaitable de réduire... Non                 26.505786\n",
              "                                                   Oui                 73.494214"
            ]
          },
          "metadata": {
            "tags": []
          },
          "execution_count": 8
        }
      ]
    },
    {
      "metadata": {
        "id": "XI6uvEc2byHY",
        "colab_type": "code",
        "colab": {},
        "outputId": "8d5e56da-c1c5-430d-eb9b-b2918fb05d5d"
      },
      "cell_type": "code",
      "source": [
        "for q,d in brut.groupby(level=[0]):\n",
        "    \n",
        "    display(HTML(\"<h3>%s</h3>\" % q))\n",
        "    \n",
        "    d = d.apply(lambda x: 100 * x / float(x.sum()))\n",
        "        \n",
        "    chart = alt.Chart(d.reset_index()).mark_bar().encode(\n",
        "        x=\"reference:Q\",\n",
        "        y=\"reponse:N\",\n",
        "        color=\"reponse:N\",\n",
        "    )\n",
        "    \n",
        "    display(chart)"
      ],
      "execution_count": 0,
      "outputs": [
        {
          "output_type": "display_data",
          "data": {
            "text/html": [
              "<h3>En dehors des élus politiques, faut-il donner un rôle plus important aux associations et aux organisations syndicales et professionnelles ?</h3>"
            ],
            "text/plain": [
              "<IPython.core.display.HTML object>"
            ]
          },
          "metadata": {
            "tags": []
          }
        },
        {
          "output_type": "display_data",
          "data": {
            "application/vnd.vegalite.v2+json": {
              "$schema": "https://vega.github.io/schema/vega-lite/v2.6.0.json",
              "config": {
                "view": {
                  "height": 300,
                  "width": 400
                }
              },
              "data": {
                "name": "data-100bd9e345e852538067066b019515c8"
              },
              "datasets": {
                "data-100bd9e345e852538067066b019515c8": [
                  {
                    "question": "En dehors des élus politiques, faut-il donner un rôle plus important aux associations et aux organisations syndicales et professionnelles ?",
                    "reference": 41.8353751665421,
                    "reponse": "Non"
                  },
                  {
                    "question": "En dehors des élus politiques, faut-il donner un rôle plus important aux associations et aux organisations syndicales et professionnelles ?",
                    "reference": 58.1646248334579,
                    "reponse": "Oui"
                  }
                ]
              },
              "encoding": {
                "color": {
                  "field": "reponse",
                  "type": "nominal"
                },
                "x": {
                  "field": "reference",
                  "type": "quantitative"
                },
                "y": {
                  "field": "reponse",
                  "type": "nominal"
                }
              },
              "mark": "bar"
            },
            "image/png": "[encoded data removed]",
            "text/plain": [
              "<VegaLite 2 object>\n",
              "\n",
              "If you see this message, it means the renderer has not been properly enabled\n",
              "for the frontend that you are using. For more information, see\n",
              "https://altair-viz.github.io/user_guide/troubleshooting.html\n"
            ]
          },
          "metadata": {
            "tags": []
          }
        },
        {
          "output_type": "display_data",
          "data": {
            "text/html": [
              "<h3>Faut-il faciliter le déclenchement du référendum d'initiative partagée (le RIP est organisé à l'initiative de membres du Parlement soutenu par une partie du corps électoral) qui est applicable depuis 2015 ?</h3>"
            ],
            "text/plain": [
              "<IPython.core.display.HTML object>"
            ]
          },
          "metadata": {
            "tags": []
          }
        },
        {
          "output_type": "display_data",
          "data": {
            "application/vnd.vegalite.v2+json": {
              "$schema": "https://vega.github.io/schema/vega-lite/v2.6.0.json",
              "config": {
                "view": {
                  "height": 300,
                  "width": 400
                }
              },
              "data": {
                "name": "data-677aac19ff660abc043bf899fd5504a4"
              },
              "datasets": {
                "data-677aac19ff660abc043bf899fd5504a4": [
                  {
                    "question": "Faut-il faciliter le déclenchement du référendum d'initiative partagée (le RIP est organisé à l'initiative de membres du Parlement soutenu par une partie du corps électoral) qui est applicable depuis 2015 ?",
                    "reference": 20.187839199246042,
                    "reponse": "Je ne sais pas"
                  },
                  {
                    "question": "Faut-il faciliter le déclenchement du référendum d'initiative partagée (le RIP est organisé à l'initiative de membres du Parlement soutenu par une partie du corps électoral) qui est applicable depuis 2015 ?",
                    "reference": 26.515225374540965,
                    "reponse": "Non"
                  },
                  {
                    "question": "Faut-il faciliter le déclenchement du référendum d'initiative partagée (le RIP est organisé à l'initiative de membres du Parlement soutenu par une partie du corps électoral) qui est applicable depuis 2015 ?",
                    "reference": 53.29693542621299,
                    "reponse": "Oui"
                  }
                ]
              },
              "encoding": {
                "color": {
                  "field": "reponse",
                  "type": "nominal"
                },
                "x": {
                  "field": "reference",
                  "type": "quantitative"
                },
                "y": {
                  "field": "reponse",
                  "type": "nominal"
                }
              },
              "mark": "bar"
            },
            "image/png": "[encoded data removed]",
            "text/plain": [
              "<VegaLite 2 object>\n",
              "\n",
              "If you see this message, it means the renderer has not been properly enabled\n",
              "for the frontend that you are using. For more information, see\n",
              "https://altair-viz.github.io/user_guide/troubleshooting.html\n"
            ]
          },
          "metadata": {
            "tags": []
          }
        },
        {
          "output_type": "display_data",
          "data": {
            "text/html": [
              "<h3>Faut-il les transformer ?</h3>"
            ],
            "text/plain": [
              "<IPython.core.display.HTML object>"
            ]
          },
          "metadata": {
            "tags": []
          }
        },
        {
          "output_type": "display_data",
          "data": {
            "application/vnd.vegalite.v2+json": {
              "$schema": "https://vega.github.io/schema/vega-lite/v2.6.0.json",
              "config": {
                "view": {
                  "height": 300,
                  "width": 400
                }
              },
              "data": {
                "name": "data-d3d0c37661aa032b0216b39632432784"
              },
              "datasets": {
                "data-d3d0c37661aa032b0216b39632432784": [
                  {
                    "question": "Faut-il les transformer ?",
                    "reference": 12.793036909307386,
                    "reponse": "Non"
                  },
                  {
                    "question": "Faut-il les transformer ?",
                    "reference": 87.20696309069261,
                    "reponse": "Oui"
                  }
                ]
              },
              "encoding": {
                "color": {
                  "field": "reponse",
                  "type": "nominal"
                },
                "x": {
                  "field": "reference",
                  "type": "quantitative"
                },
                "y": {
                  "field": "reponse",
                  "type": "nominal"
                }
              },
              "mark": "bar"
            },
            "image/png": "[encoded data removed]",
            "text/plain": [
              "<VegaLite 2 object>\n",
              "\n",
              "If you see this message, it means the renderer has not been properly enabled\n",
              "for the frontend that you are using. For more information, see\n",
              "https://altair-viz.github.io/user_guide/troubleshooting.html\n"
            ]
          },
          "metadata": {
            "tags": []
          }
        },
        {
          "output_type": "display_data",
          "data": {
            "text/html": [
              "<h3>Faut-il prendre en compte le vote blanc ?</h3>"
            ],
            "text/plain": [
              "<IPython.core.display.HTML object>"
            ]
          },
          "metadata": {
            "tags": []
          }
        },
        {
          "output_type": "display_data",
          "data": {
            "application/vnd.vegalite.v2+json": {
              "$schema": "https://vega.github.io/schema/vega-lite/v2.6.0.json",
              "config": {
                "view": {
                  "height": 300,
                  "width": 400
                }
              },
              "data": {
                "name": "data-fe7e859b645c631f5827d8ce049c5f8a"
              },
              "datasets": {
                "data-fe7e859b645c631f5827d8ce049c5f8a": [
                  {
                    "question": "Faut-il prendre en compte le vote blanc ?",
                    "reference": 17.39393553318894,
                    "reponse": "Non"
                  },
                  {
                    "question": "Faut-il prendre en compte le vote blanc ?",
                    "reference": 82.60606446681106,
                    "reponse": "Oui"
                  }
                ]
              },
              "encoding": {
                "color": {
                  "field": "reponse",
                  "type": "nominal"
                },
                "x": {
                  "field": "reference",
                  "type": "quantitative"
                },
                "y": {
                  "field": "reponse",
                  "type": "nominal"
                }
              },
              "mark": "bar"
            },
            "image/png": "[encoded data removed]",
            "text/plain": [
              "<VegaLite 2 object>\n",
              "\n",
              "If you see this message, it means the renderer has not been properly enabled\n",
              "for the frontend that you are using. For more information, see\n",
              "https://altair-viz.github.io/user_guide/troubleshooting.html\n"
            ]
          },
          "metadata": {
            "tags": []
          }
        },
        {
          "output_type": "display_data",
          "data": {
            "text/html": [
              "<h3>Le non-cumul des mandats instauré en 2017 pour les parlementaires (députés et sénateurs) est :</h3>"
            ],
            "text/plain": [
              "<IPython.core.display.HTML object>"
            ]
          },
          "metadata": {
            "tags": []
          }
        },
        {
          "output_type": "display_data",
          "data": {
            "application/vnd.vegalite.v2+json": {
              "$schema": "https://vega.github.io/schema/vega-lite/v2.6.0.json",
              "config": {
                "view": {
                  "height": 300,
                  "width": 400
                }
              },
              "data": {
                "name": "data-51e954b1b97394350b8bdf7800e940c0"
              },
              "datasets": {
                "data-51e954b1b97394350b8bdf7800e940c0": [
                  {
                    "question": "Le non-cumul des mandats instauré en 2017 pour les parlementaires (députés et sénateurs) est :",
                    "reference": 10.115131578947368,
                    "reponse": "Je ne sais pas"
                  },
                  {
                    "question": "Le non-cumul des mandats instauré en 2017 pour les parlementaires (députés et sénateurs) est :",
                    "reference": 75.70533906882591,
                    "reponse": "Une bonne chose"
                  },
                  {
                    "question": "Le non-cumul des mandats instauré en 2017 pour les parlementaires (députés et sénateurs) est :",
                    "reference": 14.179529352226721,
                    "reponse": "Une mauvaise chose"
                  }
                ]
              },
              "encoding": {
                "color": {
                  "field": "reponse",
                  "type": "nominal"
                },
                "x": {
                  "field": "reference",
                  "type": "quantitative"
                },
                "y": {
                  "field": "reponse",
                  "type": "nominal"
                }
              },
              "mark": "bar"
            },
            "image/png": "[encoded data removed]",
            "text/plain": [
              "<VegaLite 2 object>\n",
              "\n",
              "If you see this message, it means the renderer has not been properly enabled\n",
              "for the frontend that you are using. For more information, see\n",
              "https://altair-viz.github.io/user_guide/troubleshooting.html\n"
            ]
          },
          "metadata": {
            "tags": []
          }
        },
        {
          "output_type": "display_data",
          "data": {
            "text/html": [
              "<h3>Pensez-vous qu'il faille instaurer des contreparties aux différentes allocations de solidarité ?</h3>"
            ],
            "text/plain": [
              "<IPython.core.display.HTML object>"
            ]
          },
          "metadata": {
            "tags": []
          }
        },
        {
          "output_type": "display_data",
          "data": {
            "application/vnd.vegalite.v2+json": {
              "$schema": "https://vega.github.io/schema/vega-lite/v2.6.0.json",
              "config": {
                "view": {
                  "height": 300,
                  "width": 400
                }
              },
              "data": {
                "name": "data-29f09ac831686f65e5a91b93fc544aa9"
              },
              "datasets": {
                "data-29f09ac831686f65e5a91b93fc544aa9": [
                  {
                    "question": "Pensez-vous qu'il faille instaurer des contreparties aux différentes allocations de solidarité ?",
                    "reference": 26.98654010159813,
                    "reponse": "Non"
                  },
                  {
                    "question": "Pensez-vous qu'il faille instaurer des contreparties aux différentes allocations de solidarité ?",
                    "reference": 73.01345989840186,
                    "reponse": "Oui"
                  }
                ]
              },
              "encoding": {
                "color": {
                  "field": "reponse",
                  "type": "nominal"
                },
                "x": {
                  "field": "reference",
                  "type": "quantitative"
                },
                "y": {
                  "field": "reponse",
                  "type": "nominal"
                }
              },
              "mark": "bar"
            },
            "image/png": "[encoded data removed]",
            "text/plain": [
              "<VegaLite 2 object>\n",
              "\n",
              "If you see this message, it means the renderer has not been properly enabled\n",
              "for the frontend that you are using. For more information, see\n",
              "https://altair-viz.github.io/user_guide/troubleshooting.html\n"
            ]
          },
          "metadata": {
            "tags": []
          }
        },
        {
          "output_type": "display_data",
          "data": {
            "text/html": [
              "<h3>Pensez-vous qu'il serait souhaitable de réduire le nombre d'élus (hors députés et sénateurs) ?</h3>"
            ],
            "text/plain": [
              "<IPython.core.display.HTML object>"
            ]
          },
          "metadata": {
            "tags": []
          }
        },
        {
          "output_type": "display_data",
          "data": {
            "application/vnd.vegalite.v2+json": {
              "$schema": "https://vega.github.io/schema/vega-lite/v2.6.0.json",
              "config": {
                "view": {
                  "height": 300,
                  "width": 400
                }
              },
              "data": {
                "name": "data-73fa7d380052d71dec26cd519687a974"
              },
              "datasets": {
                "data-73fa7d380052d71dec26cd519687a974": [
                  {
                    "question": "Pensez-vous qu'il serait souhaitable de réduire le nombre d'élus (hors députés et sénateurs) ?",
                    "reference": 26.505786428195687,
                    "reponse": "Non"
                  },
                  {
                    "question": "Pensez-vous qu'il serait souhaitable de réduire le nombre d'élus (hors députés et sénateurs) ?",
                    "reference": 73.49421357180431,
                    "reponse": "Oui"
                  }
                ]
              },
              "encoding": {
                "color": {
                  "field": "reponse",
                  "type": "nominal"
                },
                "x": {
                  "field": "reference",
                  "type": "quantitative"
                },
                "y": {
                  "field": "reponse",
                  "type": "nominal"
                }
              },
              "mark": "bar"
            },
            "image/png": "[encoded data removed]",
            "text/plain": [
              "<VegaLite 2 object>\n",
              "\n",
              "If you see this message, it means the renderer has not been properly enabled\n",
              "for the frontend that you are using. For more information, see\n",
              "https://altair-viz.github.io/user_guide/troubleshooting.html\n"
            ]
          },
          "metadata": {
            "tags": []
          }
        }
      ]
    },
    {
      "metadata": {
        "id": "s95X8Jj3byHj",
        "colab_type": "code",
        "colab": {}
      },
      "cell_type": "code",
      "source": [
        ""
      ],
      "execution_count": 0,
      "outputs": []
    }
  ]
}