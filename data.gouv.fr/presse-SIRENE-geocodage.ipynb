{
 "cells": [
  {
   "cell_type": "markdown",
   "metadata": {},
   "source": [
    "# Géo-codage des éditeurs"
   ]
  },
  {
   "cell_type": "code",
   "execution_count": 1,
   "metadata": {},
   "outputs": [],
   "source": [
    "import requests\n",
    "from urllib.parse import urlencode, quote_plus\n",
    "import pandas as pd\n",
    "import json"
   ]
  },
  {
   "cell_type": "markdown",
   "metadata": {
    "collapsed": false,
    "inputHidden": false,
    "outputHidden": false
   },
   "source": [
    "## Test sur échantillon"
   ]
  },
  {
   "cell_type": "code",
   "execution_count": 2,
   "metadata": {
    "collapsed": false,
    "inputHidden": false,
    "outputHidden": false
   },
   "outputs": [
    {
     "data": {
      "text/plain": [
       "0                                         Elsevier Masson\n",
       "1                                   LE JOURNAL PAROISSIAL\n",
       "2                                              LEXISNEXIS\n",
       "3                                  BAYARD SERVICE EDITION\n",
       "4                                   EDITIONS LEGISLATIVES\n",
       "5                                             PUBLIHEBDOS\n",
       "6                                           BAYARD PRESSE\n",
       "7                                         EDITIONS DALLOZ\n",
       "8                                   WOLTERS KLUWER FRANCE\n",
       "9                                      EDITIONS LARIVIERE\n",
       "10                                                 ORACOM\n",
       "11                                           PRISMA MEDIA\n",
       "12                                           MILAN PRESSE\n",
       "13                                       DIVERTI EDITIONS\n",
       "14                  SOCIETE DES EDITIONS FRANCIS LEFEBVRE\n",
       "15                             MONDADORI MAGAZINES FRANCE\n",
       "16                                         FLEURUS PRESSE\n",
       "17                                                EDIMARK\n",
       "18                                        GROUPE MONITEUR\n",
       "19                                      LEXTENSO EDITIONS\n",
       "20                                          EDITIONS RIVA\n",
       "21                                               ALPES 74\n",
       "22                                        ELSEVIER MASSON\n",
       "23                                        EDITIONS SORMAN\n",
       "24                      A.T.C. AGRI TERROIR COMMUNICATION\n",
       "25                                      BAUER MEDIA GROUP\n",
       "26                               BMJ PUBLISHING GROUP LTD\n",
       "27                                              LAVOISIER\n",
       "28                                        NIVEALES MEDIAS\n",
       "29                                           MARTIN MEDIA\n",
       "                              ...                        \n",
       "4665    FEDERATION MUTUALISTE INTERDEPARTEMENTALE DE L...\n",
       "4666    FEDERATION MYCOLOGIQUE ET BOTANIQUE DAUPHINE-S...\n",
       "4667               FEDERATION NATIONALE \"LA LIBRE PENSEE\"\n",
       "4668                    FEDERATION NATIONALE AERONAUTIQUE\n",
       "4669    FEDERATION NATIONALE AGRO-ALIMENTAIRE CFE-CGC ...\n",
       "4670    FEDERATION NATIONALE AGROALIMENTAIRE ET FOREST...\n",
       "4671    FEDERATION NATIONALE AGROALIMENTAIRE ET FOREST...\n",
       "4672                   FEDERATION NATIONALE ANDRE MAGINOT\n",
       "4673    FEDERATION NATIONALE CFTC DES SYNDICATS DE LA ...\n",
       "4674    FEDERATION NATIONALE CGT DE L' EQUIPEMENT ET D...\n",
       "4675    FEDERATION NATIONALE CGT DES TRAVAILLEURS CADR...\n",
       "4676    FEDERATION NATIONALE CGT PERSONNELS DES TABACS...\n",
       "4677             FEDERATION NATIONALE COUPLES ET FAMILLES\n",
       "4678    FEDERATION NATIONALE DE JARDINS FAMILIAUX et c...\n",
       "4679    FEDERATION NATIONALE DES ASSOCIATIONS DEPARTEM...\n",
       "4680     FEDERATION NATIONALE DE L'ACTION SOCIALE  CGT FO\n",
       "4681                 FEDERATION NATIONALE DE L'ARTILLERIE\n",
       "4682    FEDERATION NATIONALE DE L'ENSEIGNEMENT DE LA C...\n",
       "4683    FEDERATION NATIONALE DE L'ENSEIGNEMENT, DE LA ...\n",
       "4684              FEDERATION NATIONALE DE LA LIBRE PENSEE\n",
       "4685    FEDERATION NATIONALE DE LA MUTUALITE FRANCAISE...\n",
       "4686    FEDERATION NATIONALE DES AGENTS DES COLLECTIVI...\n",
       "4687    FEDERATION NATIONALE DES AGRICULTEURS MULTIPLI...\n",
       "4688    FEDERATION NATIONALE DES ANCIENS COMBATTANTS E...\n",
       "4689    FEDERATION NATIONALE DES ANCIENS DES MISSION E...\n",
       "4690    FEDERATION NATIONALE DES ASSOCIATIONS D'AIDES-...\n",
       "4691    FEDERATION NATIONALE DES ASSOCIATIONS DE DIREC...\n",
       "4692    FEDERATION NATIONALE DES ASSOCIATIONS DE REEDU...\n",
       "4693    FEDERATION NATIONALE DES ASSOCIATIONS DE RETRA...\n",
       "4694                         ŒUVRE NOTRE DAME DU SUFFRAGE\n",
       "Name: Editeur, Length: 4695, dtype: object"
      ]
     },
     "execution_count": 2,
     "metadata": {},
     "output_type": "execute_result"
    }
   ],
   "source": [
    "editeurs = pd.read_csv('editeurs.csv')\n",
    "editeurs.Editeur"
   ]
  },
  {
   "cell_type": "code",
   "execution_count": 3,
   "metadata": {},
   "outputs": [
    {
     "data": {
      "text/plain": [
       "[{'points': [('48.826712', '2.260111')], 'siren': {'542037031'}},\n",
       " {'points': [('46.041517', '0.558783'),\n",
       "   ('44.909649', '5.792951'),\n",
       "   ('45.274238', '0.913605'),\n",
       "   ('46.653954', '-0.007873'),\n",
       "   ('44.011527', '5.054183')],\n",
       "  'siren': {'399987494', '423670033', '489146498', '779574938', '783242571'}},\n",
       " {'points': [('47.947301', '1.844011'),\n",
       "   ('43.819903', '4.367052'),\n",
       "   ('48.842688', '2.28945'),\n",
       "   ('48.842615', '2.28928'),\n",
       "   ('48.866267', '2.337083')],\n",
       "  'siren': {'397542838', '399024306', '415364686', '552029431', '808449474'}},\n",
       " {'points': [('50.687935', '3.059165'), ('45.643716', '5.846316')],\n",
       "  'siren': {'458506011'}},\n",
       " {'points': [('48.812754', '2.303984')], 'siren': {'732011408'}},\n",
       " {'points': [('48.778602', '-3.047081'),\n",
       "   ('48.323445', '0.820204'),\n",
       "   ('48.454294', '-2.051976'),\n",
       "   ('48.732343', '-3.456425'),\n",
       "   ('48.686602', '-3.365958'),\n",
       "   ('48.176828', '-2.750543'),\n",
       "   ('48.559846', '-3.148095'),\n",
       "   ('49.090585', '0.596199'),\n",
       "   ('48.471278', '-2.517952')],\n",
       "  'siren': {'487280018'}},\n",
       " {'points': [('43.287336', '5.368183'),\n",
       "   ('45.191794', '5.731736'),\n",
       "   ('48.817246', '2.327521'),\n",
       "   ('48.813275', '2.507203'),\n",
       "   ('45.609994', '4.084247'),\n",
       "   ('49.402913', '2.989289'),\n",
       "   ('48.865179', '2.307775')],\n",
       "  'siren': {'334159472',\n",
       "   '393521984',\n",
       "   '428431472',\n",
       "   '450667431',\n",
       "   '488684333',\n",
       "   '498811124',\n",
       "   '510457088',\n",
       "   '532652112',\n",
       "   '542042486',\n",
       "   '792699712'}},\n",
       " {'points': [('45.768641', '4.851131'),\n",
       "   ('48.834428', '2.325537'),\n",
       "   ('48.847278', '2.341842'),\n",
       "   ('48.312667', '-0.634495'),\n",
       "   ('48.835683', '2.3282'),\n",
       "   ('48.812938', '2.304141')],\n",
       "  'siren': {'443460175', '572195550'}},\n",
       " {'points': [('48.800254', '2.126629'),\n",
       "   ('48.875614', '2.339641'),\n",
       "   ('48.898575', '2.326526'),\n",
       "   ('48.884026', '2.263867'),\n",
       "   ('48.868946', '2.324529')],\n",
       "  'siren': {'312559982',\n",
       "   '326592433',\n",
       "   '351882337',\n",
       "   '389478728',\n",
       "   '441806429',\n",
       "   '480081306',\n",
       "   '507629087',\n",
       "   '507654820'}},\n",
       " {'points': [('48.906554', '2.318184'),\n",
       "   ('48.904848', '2.318704'),\n",
       "   ('48.868433', '2.433045')],\n",
       "  'siren': {'326466471', '572071884'}}]"
      ]
     },
     "execution_count": 3,
     "metadata": {},
     "output_type": "execute_result"
    }
   ],
   "source": [
    "url = \"https://entreprise.data.gouv.fr/api/sirene/v1/full_text/{name}\"\n",
    "\n",
    "def check(name):\n",
    "    result = {}\n",
    "    res = requests.get(url.format(name=name)).json()\n",
    "    siren = { etablissement['siren'] for etablissement in res['etablissement'] }\n",
    "    result['siren'] = siren\n",
    "    result['points'] = list({ (etablissement['latitude'], etablissement['longitude']) for etablissement in res['etablissement'] })\n",
    "    return result\n",
    "\n",
    "etablissements = [ check(e) for e in list(editeurs.Editeur)[0:10] ]\n",
    "\netablissements"
   ]
  },
  {
   "cell_type": "code",
   "execution_count": 6,
   "metadata": {
    "collapsed": false,
    "inputHidden": false,
    "outputHidden": false
   },
   "outputs": [],
   "source": [
    "import IPython\n"
   ]
  },
  {
   "cell_type": "code",
   "execution_count": 11,
   "metadata": {
    "collapsed": false,
    "inputHidden": false,
    "outputExpanded": false,
    "outputHidden": false
   },
   "outputs": [
    {
     "name": "stdout",
     "output_type": "stream",
     "text": [
      "{'features': [{'type': 'Feature', 'geometry': {'coordinates': ['2.260111', '48.826712'], 'type': 'Point'}, 'properties': {}}, {'type': 'Feature', 'geometry': {'coordinates': ['0.558783', '46.041517'], 'type': 'Point'}, 'properties': {}}, {'type': 'Feature', 'geometry': {'coordinates': ['1.844011', '47.947301'], 'type': 'Point'}, 'properties': {}}, {'type': 'Feature', 'geometry': {'coordinates': ['3.059165', '50.687935'], 'type': 'Point'}, 'properties': {}}, {'type': 'Feature', 'geometry': {'coordinates': ['2.303984', '48.812754'], 'type': 'Point'}, 'properties': {}}, {'type': 'Feature', 'geometry': {'coordinates': ['-3.047081', '48.778602'], 'type': 'Point'}, 'properties': {}}, {'type': 'Feature', 'geometry': {'coordinates': ['5.368183', '43.287336'], 'type': 'Point'}, 'properties': {}}, {'type': 'Feature', 'geometry': {'coordinates': ['4.851131', '45.768641'], 'type': 'Point'}, 'properties': {}}, {'type': 'Feature', 'geometry': {'coordinates': ['2.126629', '48.800254'], 'type': 'Point'}, 'properties': {}}, {'type': 'Feature', 'geometry': {'coordinates': ['2.318184', '48.906554'], 'type': 'Point'}, 'properties': {}}], 'type': 'FeatureCollection'}\n"
     ]
    },
    {
     "data": {
      "application/geo+json": {
       "features": [
        {
         "geometry": {
          "coordinates": [
           "2.260111",
           "48.826712"
          ],
          "type": "Point"
         },
         "properties": {},
         "type": "Feature"
        },
        {
         "geometry": {
          "coordinates": [
           "0.558783",
           "46.041517"
          ],
          "type": "Point"
         },
         "properties": {},
         "type": "Feature"
        },
        {
         "geometry": {
          "coordinates": [
           "1.844011",
           "47.947301"
          ],
          "type": "Point"
         },
         "properties": {},
         "type": "Feature"
        },
        {
         "geometry": {
          "coordinates": [
           "3.059165",
           "50.687935"
          ],
          "type": "Point"
         },
         "properties": {},
         "type": "Feature"
        },
        {
         "geometry": {
          "coordinates": [
           "2.303984",
           "48.812754"
          ],
          "type": "Point"
         },
         "properties": {},
         "type": "Feature"
        },
        {
         "geometry": {
          "coordinates": [
           "-3.047081",
           "48.778602"
          ],
          "type": "Point"
         },
         "properties": {},
         "type": "Feature"
        },
        {
         "geometry": {
          "coordinates": [
           "5.368183",
           "43.287336"
          ],
          "type": "Point"
         },
         "properties": {},
         "type": "Feature"
        },
        {
         "geometry": {
          "coordinates": [
           "4.851131",
           "45.768641"
          ],
          "type": "Point"
         },
         "properties": {},
         "type": "Feature"
        },
        {
         "geometry": {
          "coordinates": [
           "2.126629",
           "48.800254"
          ],
          "type": "Point"
         },
         "properties": {},
         "type": "Feature"
        },
        {
         "geometry": {
          "coordinates": [
           "2.318184",
           "48.906554"
          ],
          "type": "Point"
         },
         "properties": {},
         "type": "Feature"
        }
       ],
       "type": "FeatureCollection"
      }
     },
     "metadata": {},
     "output_type": "display_data"
    }
   ],
   "source": [
    "geojson = {'type':'FeatureCollection', 'features':[]}\n",
    "\n",
    "for etablissement in etablissements:\n",
    "    feature = {\n",
    "        'type': 'Feature',\n",
    "        'properties': {},\n",
    "        'geometry': {'type':'Point', 'coordinates':[]}\n",
    "    }\n",
    "    \n",
    "    feature['geometry']['coordinates'] = [ etablissement['points'][0][1], etablissement['points'][0][0] ]\n",
    "    \n",
    "    geojson['features'].append(feature)\n",
    "\n",
    "print(geojson)\n",
    "    \n",
    "IPython.display.display({'application/geo+json': geojson}, raw=True)"
   ]
  },
  {
   "cell_type": "code",
   "execution_count": 6,
   "metadata": {
    "collapsed": false,
    "inputHidden": false,
    "outputHidden": false
   },
   "outputs": [],
   "source": []
  }
 ],
 "metadata": {
  "kernel_info": {
   "name": "python3"
  },
  "kernelspec": {
   "display_name": "Python 3",
   "language": "python",
   "name": "python3"
  },
  "language_info": {
   "codemirror_mode": {
    "name": "ipython",
    "version": 3
   },
   "file_extension": ".py",
   "mimetype": "text/x-python",
   "name": "python",
   "nbconvert_exporter": "python",
   "pygments_lexer": "ipython3",
   "version": "3.5.3"
  },
  "nteract": {
   "version": "nteract-on-jupyter@1.9.9"
  }
 },
 "nbformat": 4,
 "nbformat_minor": 2
}
