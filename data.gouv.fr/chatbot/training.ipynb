{
 "cells": [
  {
   "cell_type": "code",
   "execution_count": 93,
   "metadata": {},
   "outputs": [],
   "source": [
    "from rasa_nlu.model import Interpreter\n",
    "import json"
   ]
  },
  {
   "cell_type": "code",
   "execution_count": 94,
   "metadata": {},
   "outputs": [
    {
     "name": "stdout",
     "output_type": "stream",
     "text": [
      "Writing 'nlu_config' (str) to file 'nlu_config.yml'.\n"
     ]
    }
   ],
   "source": [
    "# nlu_config = \"\"\"\n",
    "# language: fr\n",
    "# pipeline: tensorflow_embedding\n",
    "# \"\"\"\n",
    "\n",
    "nlu_config = \"\"\"\n",
    "language: fr\n",
    "pipeline:\n",
    "- name: \"nlp_spacy\"\n",
    "- name: \"tokenizer_spacy\"\n",
    "- name: \"intent_featurizer_spacy\"\n",
    "- name: \"intent_entity_featurizer_regex\"\n",
    "- name: \"ner_crf\"\n",
    "- name: \"ner_synonyms\"\n",
    "- name: \"intent_classifier_sklearn\"\n",
    "\"\"\"\n",
    "\n",
    "# nlu_config = \"\"\"\n",
    "# language: fr\n",
    "# pipeline: \"spacy_sklearn\"\n",
    "# \"\"\"\n",
    "\n",
    "%store nlu_config > nlu_config.yml"
   ]
  },
  {
   "cell_type": "code",
   "execution_count": 105,
   "metadata": {},
   "outputs": [
    {
     "name": "stdout",
     "output_type": "stream",
     "text": [
      "Writing 'nlu_md' (str) to file 'nlu.md'.\n"
     ]
    }
   ],
   "source": [
    "nlu_md = \"\"\"\n",
    "## intent:hello\n",
    "- salut\n",
    "- bonjour\n",
    "- ça va\n",
    "- hey\n",
    "- hello\n",
    "- coucou\n",
    "\n",
    "## intent:search_dataset\n",
    "- statistiques de [la ville de paris](organization)\n",
    "- je cherche [les données](object) du [ministère de l'intérieur](organization)\n",
    "- j'aimerai connaitre la [qualité de l'air](topic) à Paris\n",
    "- Je voudrai avoir [les chiffres](object) de la [population française](topic)\n",
    "- quel est [mon numéro](object) [RNA](topic) ?\n",
    "- poule 2010\n",
    "- je veux des données\n",
    "- [vigicrue](topic) 2018\n",
    "- base [SIRENE](topic)\n",
    "\n",
    "## intent:thankyou\n",
    "- merci\n",
    "- c'est chouette\n",
    "- cool !\n",
    "- super !\n",
    "\n",
    "## intent:bye\n",
    "- au revoir\n",
    "- à plus\n",
    "- bye\n",
    "- ciao\n",
    "- bonne nuit\n",
    "\n",
    "## lookup:organization\n",
    "organisations.txt\n",
    "\n",
    "## lookup:dataset\n",
    "datasets.txt\n",
    "\n",
    "## regex:year\n",
    "- [0-9]{4}\n",
    "\"\"\"\n",
    "%store nlu_md > nlu.md"
   ]
  },
  {
   "cell_type": "markdown",
   "metadata": {},
   "source": [
    "## importation des noms d'organisations"
   ]
  },
  {
   "cell_type": "code",
   "execution_count": 47,
   "metadata": {},
   "outputs": [],
   "source": [
    "import pandas as pd"
   ]
  },
  {
   "cell_type": "code",
   "execution_count": 51,
   "metadata": {},
   "outputs": [],
   "source": [
    "df1 = pd.read_csv('../pilotage/data/organizations.csv', sep=\";\")"
   ]
  },
  {
   "cell_type": "code",
   "execution_count": 92,
   "metadata": {},
   "outputs": [
    {
     "name": "stdout",
     "output_type": "stream",
     "text": [
      "Writing 'txt' (str) to file 'organisations.txt'.\n"
     ]
    }
   ],
   "source": [
    "names = [ x for x in list(df['name'].astype(str).values) if x != 'nan' ]\n",
    "accronyms = [ x for x in list(df['acronym'].astype(str).values) if x != 'nan' ]\n",
    "\n",
    "txt = \"\\n\".join(names + accronyms)\n",
    "%store txt > organisations.txt"
   ]
  },
  {
   "cell_type": "code",
   "execution_count": 99,
   "metadata": {},
   "outputs": [
    {
     "name": "stderr",
     "output_type": "stream",
     "text": [
      "/home/tk/.virtualenvs/notebooks/lib/python3.6/site-packages/IPython/core/interactiveshell.py:3020: DtypeWarning: Columns (6) have mixed types. Specify dtype option on import or set low_memory=False.\n",
      "  interactivity=interactivity, compiler=compiler, result=result)\n"
     ]
    }
   ],
   "source": [
    "df2 = pd.read_csv('../pilotage/data/datasets.csv', sep=\";\")"
   ]
  },
  {
   "cell_type": "code",
   "execution_count": 101,
   "metadata": {},
   "outputs": [
    {
     "name": "stdout",
     "output_type": "stream",
     "text": [
      "Writing 'txt' (str) to file 'datasets.txt'.\n"
     ]
    }
   ],
   "source": [
    "df2.head()\n",
    "\n",
    "names = [ x for x in list(df2['title'].astype(str).values) if x != 'nan' ]\n",
    "accronyms = [ x for x in list(df2['acronym'].astype(str).values) if x != 'nan' ]\n",
    "\n",
    "txt = \"\\n\".join(names + accronyms)\n",
    "%store txt > datasets.txt"
   ]
  },
  {
   "cell_type": "markdown",
   "metadata": {},
   "source": [
    "## Entrainement"
   ]
  },
  {
   "cell_type": "code",
   "execution_count": 108,
   "metadata": {},
   "outputs": [
    {
     "name": "stdout",
     "output_type": "stream",
     "text": [
      "Fitting 2 folds for each of 6 candidates, totalling 12 fits\n",
      "[Parallel(n_jobs=1)]: Using backend SequentialBackend with 1 concurrent workers.\n",
      "/home/tk/.virtualenvs/notebooks/lib/python3.6/site-packages/sklearn/metrics/classification.py:1143: UndefinedMetricWarning: F-score is ill-defined and being set to 0.0 in labels with no predicted samples.\n",
      "  'precision', 'predicted', average, warn_for)\n",
      "/home/tk/.virtualenvs/notebooks/lib/python3.6/site-packages/sklearn/metrics/classification.py:1143: UndefinedMetricWarning: F-score is ill-defined and being set to 0.0 in labels with no predicted samples.\n",
      "  'precision', 'predicted', average, warn_for)\n",
      "/home/tk/.virtualenvs/notebooks/lib/python3.6/site-packages/sklearn/metrics/classification.py:1143: UndefinedMetricWarning: F-score is ill-defined and being set to 0.0 in labels with no predicted samples.\n",
      "  'precision', 'predicted', average, warn_for)\n",
      "/home/tk/.virtualenvs/notebooks/lib/python3.6/site-packages/sklearn/metrics/classification.py:1143: UndefinedMetricWarning: F-score is ill-defined and being set to 0.0 in labels with no predicted samples.\n",
      "  'precision', 'predicted', average, warn_for)\n",
      "/home/tk/.virtualenvs/notebooks/lib/python3.6/site-packages/sklearn/metrics/classification.py:1143: UndefinedMetricWarning: F-score is ill-defined and being set to 0.0 in labels with no predicted samples.\n",
      "  'precision', 'predicted', average, warn_for)\n",
      "/home/tk/.virtualenvs/notebooks/lib/python3.6/site-packages/sklearn/metrics/classification.py:1143: UndefinedMetricWarning: F-score is ill-defined and being set to 0.0 in labels with no predicted samples.\n",
      "  'precision', 'predicted', average, warn_for)\n",
      "/home/tk/.virtualenvs/notebooks/lib/python3.6/site-packages/sklearn/metrics/classification.py:1143: UndefinedMetricWarning: F-score is ill-defined and being set to 0.0 in labels with no predicted samples.\n",
      "  'precision', 'predicted', average, warn_for)\n",
      "/home/tk/.virtualenvs/notebooks/lib/python3.6/site-packages/sklearn/metrics/classification.py:1143: UndefinedMetricWarning: F-score is ill-defined and being set to 0.0 in labels with no predicted samples.\n",
      "  'precision', 'predicted', average, warn_for)\n",
      "/home/tk/.virtualenvs/notebooks/lib/python3.6/site-packages/sklearn/metrics/classification.py:1143: UndefinedMetricWarning: F-score is ill-defined and being set to 0.0 in labels with no predicted samples.\n",
      "  'precision', 'predicted', average, warn_for)\n",
      "/home/tk/.virtualenvs/notebooks/lib/python3.6/site-packages/sklearn/metrics/classification.py:1143: UndefinedMetricWarning: F-score is ill-defined and being set to 0.0 in labels with no predicted samples.\n",
      "  'precision', 'predicted', average, warn_for)\n",
      "/home/tk/.virtualenvs/notebooks/lib/python3.6/site-packages/sklearn/metrics/classification.py:1143: UndefinedMetricWarning: F-score is ill-defined and being set to 0.0 in labels with no predicted samples.\n",
      "  'precision', 'predicted', average, warn_for)\n",
      "/home/tk/.virtualenvs/notebooks/lib/python3.6/site-packages/sklearn/metrics/classification.py:1143: UndefinedMetricWarning: F-score is ill-defined and being set to 0.0 in labels with no predicted samples.\n",
      "  'precision', 'predicted', average, warn_for)\n",
      "[Parallel(n_jobs=1)]: Done  12 out of  12 | elapsed:    0.0s finished\n"
     ]
    }
   ],
   "source": [
    "!python -m rasa_nlu.train -c nlu_config.yml --data nlu.md -o models --fixed_model_name nlu --project current"
   ]
  },
  {
   "cell_type": "code",
   "execution_count": 103,
   "metadata": {},
   "outputs": [],
   "source": [
    "interpreter = Interpreter.load(\"./models/current/nlu\")"
   ]
  },
  {
   "cell_type": "code",
   "execution_count": 104,
   "metadata": {},
   "outputs": [
    {
     "name": "stdout",
     "output_type": "stream",
     "text": [
      "{\n",
      "  \"intent\": {\n",
      "    \"name\": \"search_dataset\",\n",
      "    \"confidence\": 0.5247645051737571\n",
      "  },\n",
      "  \"entities\": [],\n",
      "  \"intent_ranking\": [\n",
      "    {\n",
      "      \"name\": \"search_dataset\",\n",
      "      \"confidence\": 0.5247645051737571\n",
      "    },\n",
      "    {\n",
      "      \"name\": \"thankyou\",\n",
      "      \"confidence\": 0.17211134414350557\n",
      "    },\n",
      "    {\n",
      "      \"name\": \"bye\",\n",
      "      \"confidence\": 0.1598025648206477\n",
      "    },\n",
      "    {\n",
      "      \"name\": \"hello\",\n",
      "      \"confidence\": 0.14332158586208962\n",
      "    }\n",
      "  ],\n",
      "  \"text\": \"Pays de Morlaix 2017\"\n",
      "}\n"
     ]
    }
   ],
   "source": [
    "message = \"Pays de Morlaix 2017\"\n",
    "result = interpreter.parse(message)\n",
    "print(json.dumps(result, indent=2))"
   ]
  }
 ],
 "metadata": {
  "kernelspec": {
   "display_name": "Python 3",
   "language": "python",
   "name": "python3"
  },
  "language_info": {
   "codemirror_mode": {
    "name": "ipython",
    "version": 3
   },
   "file_extension": ".py",
   "mimetype": "text/x-python",
   "name": "python",
   "nbconvert_exporter": "python",
   "pygments_lexer": "ipython3",
   "version": "3.6.6"
  }
 },
 "nbformat": 4,
 "nbformat_minor": 2
}
