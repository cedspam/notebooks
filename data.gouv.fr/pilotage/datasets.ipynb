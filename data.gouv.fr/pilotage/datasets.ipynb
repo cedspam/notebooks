{
 "cells": [
  {
   "cell_type": "markdown",
   "metadata": {},
   "source": [
    "# Les jeux de données sur data.gouv.fr"
   ]
  },
  {
   "cell_type": "code",
   "execution_count": 1,
   "metadata": {},
   "outputs": [],
   "source": [
    "%run \"librairies.ipynb\""
   ]
  },
  {
   "cell_type": "code",
   "execution_count": 2,
   "metadata": {},
   "outputs": [],
   "source": [
    "#source = \"https://www.data.gouv.fr/fr/datasets.csv?\"\n",
    "#source = \"data/datasets-2019-01-02-15-31.csv\"\n",
    "source = \"data/datasets.csv\""
   ]
  },
  {
   "cell_type": "code",
   "execution_count": 3,
   "metadata": {},
   "outputs": [
    {
     "name": "stderr",
     "output_type": "stream",
     "text": [
      "/home/tk/.virtualenvs/notebook/lib/python3.6/site-packages/IPython/core/interactiveshell.py:3020: DtypeWarning: Columns (6) have mixed types. Specify dtype option on import or set low_memory=False.\n",
      "  interactivity=interactivity, compiler=compiler, result=result)\n"
     ]
    },
    {
     "data": {
      "text/html": [
       "<div>\n",
       "<style scoped>\n",
       "    .dataframe tbody tr th:only-of-type {\n",
       "        vertical-align: middle;\n",
       "    }\n",
       "\n",
       "    .dataframe tbody tr th {\n",
       "        vertical-align: top;\n",
       "    }\n",
       "\n",
       "    .dataframe thead th {\n",
       "        text-align: right;\n",
       "    }\n",
       "</style>\n",
       "<table border=\"1\" class=\"dataframe\">\n",
       "  <thead>\n",
       "    <tr style=\"text-align: right;\">\n",
       "      <th></th>\n",
       "      <th>Unnamed: 0</th>\n",
       "      <th>_cls</th>\n",
       "      <th>_id</th>\n",
       "      <th>acronym</th>\n",
       "      <th>badges</th>\n",
       "      <th>created_at</th>\n",
       "      <th>deleted</th>\n",
       "      <th>description</th>\n",
       "      <th>ext</th>\n",
       "      <th>extras</th>\n",
       "      <th>...</th>\n",
       "      <th>license</th>\n",
       "      <th>metrics</th>\n",
       "      <th>organization</th>\n",
       "      <th>owner</th>\n",
       "      <th>private</th>\n",
       "      <th>slug</th>\n",
       "      <th>spatial</th>\n",
       "      <th>tags</th>\n",
       "      <th>temporal_coverage</th>\n",
       "      <th>title</th>\n",
       "    </tr>\n",
       "  </thead>\n",
       "  <tbody>\n",
       "    <tr>\n",
       "      <th>0</th>\n",
       "      <td>0</td>\n",
       "      <td>Dataset</td>\n",
       "      <td>53dfc8b4a3a729110ca8d360</td>\n",
       "      <td>NaN</td>\n",
       "      <td>NaN</td>\n",
       "      <td>2014-07-29 10:43:50.053</td>\n",
       "      <td>NaN</td>\n",
       "      <td>Aides perçues au titre de la PAC de 2010 à 2012</td>\n",
       "      <td>{}</td>\n",
       "      <td>{'datagouv_ckan_id': '63bcc97e-18db-4c64-8935-...</td>\n",
       "      <td>...</td>\n",
       "      <td>other-pd</td>\n",
       "      <td>{'cow_score': 0, 'cow_warnings': 0, 'followers...</td>\n",
       "      <td>NaN</td>\n",
       "      <td>53d18de7a3a72946ca86f1ca</td>\n",
       "      <td>NaN</td>\n",
       "      <td>aides-percues-au-titre-de-la-politique-agricol...</td>\n",
       "      <td>{'granularity': 'fr:commune', 'zones': []}</td>\n",
       "      <td>['2010', '2011', '2012', 'pac']</td>\n",
       "      <td>{'start': '2010-01-01', 'end': '2012-12-31'}</td>\n",
       "      <td>Aides perçues au titre de la Politique Agricol...</td>\n",
       "    </tr>\n",
       "    <tr>\n",
       "      <th>1</th>\n",
       "      <td>1</td>\n",
       "      <td>Dataset</td>\n",
       "      <td>537d599ca3a72973a2dc0276</td>\n",
       "      <td>NaN</td>\n",
       "      <td>NaN</td>\n",
       "      <td>2014-05-21 07:14:16.618</td>\n",
       "      <td>NaN</td>\n",
       "      <td>Le diagnostic des cales met en évidence les co...</td>\n",
       "      <td>{}</td>\n",
       "      <td>{'datagouv_ckan_id': 'a2358c63-313d-4917-af2f-...</td>\n",
       "      <td>...</td>\n",
       "      <td>fr-lo</td>\n",
       "      <td>{'cow_criticals': 0, 'cow_errors': 1, 'cow_sco...</td>\n",
       "      <td>NaN</td>\n",
       "      <td>537d58d0a3a72973a2dc0267</td>\n",
       "      <td>NaN</td>\n",
       "      <td>acces-a-la-mer-de-lorient-agglomeration</td>\n",
       "      <td>{'granularity': 'fr:epci', 'zones': []}</td>\n",
       "      <td>['cales', 'donnees-publiques', 'littoral', 'lo...</td>\n",
       "      <td>NaN</td>\n",
       "      <td>Accès à la mer de Lorient Agglomération</td>\n",
       "    </tr>\n",
       "    <tr>\n",
       "      <th>2</th>\n",
       "      <td>2</td>\n",
       "      <td>Dataset</td>\n",
       "      <td>53698e89a3a729239d2034c0</td>\n",
       "      <td>NaN</td>\n",
       "      <td>NaN</td>\n",
       "      <td>2013-10-20 14:15:12.734</td>\n",
       "      <td>NaN</td>\n",
       "      <td>Liste des événements (expositions, spectacles,...</td>\n",
       "      <td>{}</td>\n",
       "      <td>{'Date de production des données': '17/09/2013...</td>\n",
       "      <td>...</td>\n",
       "      <td>fr-lo</td>\n",
       "      <td>{'cow_criticals': 0, 'cow_errors': 0, 'cow_sco...</td>\n",
       "      <td>534fff74a3a7292c64a77ddd</td>\n",
       "      <td>NaN</td>\n",
       "      <td>False</td>\n",
       "      <td>agenda-des-evenements-du-chateau-de-versailles...</td>\n",
       "      <td>{'zones': ['fr:commune:78646@1942-01-01'], 'gr...</td>\n",
       "      <td>['culture']</td>\n",
       "      <td>NaN</td>\n",
       "      <td>Agenda des événements du Château de Versailles</td>\n",
       "    </tr>\n",
       "    <tr>\n",
       "      <th>3</th>\n",
       "      <td>3</td>\n",
       "      <td>Dataset</td>\n",
       "      <td>53699760a3a729239d204c97</td>\n",
       "      <td>NaN</td>\n",
       "      <td>NaN</td>\n",
       "      <td>2014-04-18 08:00:26.168</td>\n",
       "      <td>NaN</td>\n",
       "      <td>Jeu TCL</td>\n",
       "      <td>{}</td>\n",
       "      <td>{'datagouv_ckan_id': '308b56f3-89ec-4b7a-9f03-...</td>\n",
       "      <td>...</td>\n",
       "      <td>cc-by</td>\n",
       "      <td>{'cow_criticals': 0, 'cow_errors': 0, 'cow_sco...</td>\n",
       "      <td>NaN</td>\n",
       "      <td>53542173a3a7294fcb493bc1</td>\n",
       "      <td>NaN</td>\n",
       "      <td>jeu-tcl</td>\n",
       "      <td>NaN</td>\n",
       "      <td>[]</td>\n",
       "      <td>NaN</td>\n",
       "      <td>Jeu TCL</td>\n",
       "    </tr>\n",
       "    <tr>\n",
       "      <th>4</th>\n",
       "      <td>4</td>\n",
       "      <td>Dataset</td>\n",
       "      <td>53699042a3a729239d20396d</td>\n",
       "      <td>NaN</td>\n",
       "      <td>NaN</td>\n",
       "      <td>2014-02-26 15:29:48.643</td>\n",
       "      <td>NaN</td>\n",
       "      <td>Les immeubles de l’État sont nombreux, variés,...</td>\n",
       "      <td>{}</td>\n",
       "      <td>{'datagouv_ckan_id': '0e6cd4f9-e8b9-4c28-8261-...</td>\n",
       "      <td>...</td>\n",
       "      <td>fr-lo</td>\n",
       "      <td>{'cow_criticals': 0, 'cow_errors': 0, 'cow_sco...</td>\n",
       "      <td>534fff8ea3a7292c64a77f02</td>\n",
       "      <td>NaN</td>\n",
       "      <td>NaN</td>\n",
       "      <td>catalogue-des-sites-publics-ouverts-aux-evenem...</td>\n",
       "      <td>NaN</td>\n",
       "      <td>['lieux-publics', 'evenements']</td>\n",
       "      <td>NaN</td>\n",
       "      <td>Catalogue des sites publics ouverts aux evenem...</td>\n",
       "    </tr>\n",
       "  </tbody>\n",
       "</table>\n",
       "<p>5 rows × 24 columns</p>\n",
       "</div>"
      ],
      "text/plain": [
       "   Unnamed: 0     _cls                       _id acronym badges  \\\n",
       "0           0  Dataset  53dfc8b4a3a729110ca8d360     NaN    NaN   \n",
       "1           1  Dataset  537d599ca3a72973a2dc0276     NaN    NaN   \n",
       "2           2  Dataset  53698e89a3a729239d2034c0     NaN    NaN   \n",
       "3           3  Dataset  53699760a3a729239d204c97     NaN    NaN   \n",
       "4           4  Dataset  53699042a3a729239d20396d     NaN    NaN   \n",
       "\n",
       "               created_at deleted  \\\n",
       "0 2014-07-29 10:43:50.053     NaN   \n",
       "1 2014-05-21 07:14:16.618     NaN   \n",
       "2 2013-10-20 14:15:12.734     NaN   \n",
       "3 2014-04-18 08:00:26.168     NaN   \n",
       "4 2014-02-26 15:29:48.643     NaN   \n",
       "\n",
       "                                         description ext  \\\n",
       "0    Aides perçues au titre de la PAC de 2010 à 2012  {}   \n",
       "1  Le diagnostic des cales met en évidence les co...  {}   \n",
       "2  Liste des événements (expositions, spectacles,...  {}   \n",
       "3                                            Jeu TCL  {}   \n",
       "4  Les immeubles de l’État sont nombreux, variés,...  {}   \n",
       "\n",
       "                                              extras  \\\n",
       "0  {'datagouv_ckan_id': '63bcc97e-18db-4c64-8935-...   \n",
       "1  {'datagouv_ckan_id': 'a2358c63-313d-4917-af2f-...   \n",
       "2  {'Date de production des données': '17/09/2013...   \n",
       "3  {'datagouv_ckan_id': '308b56f3-89ec-4b7a-9f03-...   \n",
       "4  {'datagouv_ckan_id': '0e6cd4f9-e8b9-4c28-8261-...   \n",
       "\n",
       "                         ...                           license  \\\n",
       "0                        ...                          other-pd   \n",
       "1                        ...                             fr-lo   \n",
       "2                        ...                             fr-lo   \n",
       "3                        ...                             cc-by   \n",
       "4                        ...                             fr-lo   \n",
       "\n",
       "                                             metrics  \\\n",
       "0  {'cow_score': 0, 'cow_warnings': 0, 'followers...   \n",
       "1  {'cow_criticals': 0, 'cow_errors': 1, 'cow_sco...   \n",
       "2  {'cow_criticals': 0, 'cow_errors': 0, 'cow_sco...   \n",
       "3  {'cow_criticals': 0, 'cow_errors': 0, 'cow_sco...   \n",
       "4  {'cow_criticals': 0, 'cow_errors': 0, 'cow_sco...   \n",
       "\n",
       "               organization                     owner private  \\\n",
       "0                       NaN  53d18de7a3a72946ca86f1ca     NaN   \n",
       "1                       NaN  537d58d0a3a72973a2dc0267     NaN   \n",
       "2  534fff74a3a7292c64a77ddd                       NaN   False   \n",
       "3                       NaN  53542173a3a7294fcb493bc1     NaN   \n",
       "4  534fff8ea3a7292c64a77f02                       NaN     NaN   \n",
       "\n",
       "                                                slug  \\\n",
       "0  aides-percues-au-titre-de-la-politique-agricol...   \n",
       "1            acces-a-la-mer-de-lorient-agglomeration   \n",
       "2  agenda-des-evenements-du-chateau-de-versailles...   \n",
       "3                                            jeu-tcl   \n",
       "4  catalogue-des-sites-publics-ouverts-aux-evenem...   \n",
       "\n",
       "                                             spatial  \\\n",
       "0         {'granularity': 'fr:commune', 'zones': []}   \n",
       "1            {'granularity': 'fr:epci', 'zones': []}   \n",
       "2  {'zones': ['fr:commune:78646@1942-01-01'], 'gr...   \n",
       "3                                                NaN   \n",
       "4                                                NaN   \n",
       "\n",
       "                                                tags  \\\n",
       "0                    ['2010', '2011', '2012', 'pac']   \n",
       "1  ['cales', 'donnees-publiques', 'littoral', 'lo...   \n",
       "2                                        ['culture']   \n",
       "3                                                 []   \n",
       "4                    ['lieux-publics', 'evenements']   \n",
       "\n",
       "                              temporal_coverage  \\\n",
       "0  {'start': '2010-01-01', 'end': '2012-12-31'}   \n",
       "1                                           NaN   \n",
       "2                                           NaN   \n",
       "3                                           NaN   \n",
       "4                                           NaN   \n",
       "\n",
       "                                               title  \n",
       "0  Aides perçues au titre de la Politique Agricol...  \n",
       "1            Accès à la mer de Lorient Agglomération  \n",
       "2     Agenda des événements du Château de Versailles  \n",
       "3                                            Jeu TCL  \n",
       "4  Catalogue des sites publics ouverts aux evenem...  \n",
       "\n",
       "[5 rows x 24 columns]"
      ]
     },
     "execution_count": 3,
     "metadata": {},
     "output_type": "execute_result"
    }
   ],
   "source": [
    "df = pd.read_csv(source, sep=\";\", parse_dates=[\"created_at\", \"last_modified\"])\n",
    "df = df.drop('resources', 1)\n",
    "df.head()"
   ]
  },
  {
   "cell_type": "code",
   "execution_count": 4,
   "metadata": {},
   "outputs": [
    {
     "data": {
      "text/plain": [
       "Unnamed: 0           39675\n",
       "_cls                 22505\n",
       "_id                  39675\n",
       "acronym                214\n",
       "badges               31129\n",
       "created_at           39675\n",
       "deleted                  1\n",
       "description          39377\n",
       "ext                  39675\n",
       "extras               39675\n",
       "featured             35048\n",
       "frequency            35191\n",
       "frequency_date        2577\n",
       "last_modified        39675\n",
       "license              37820\n",
       "metrics              39675\n",
       "organization         37687\n",
       "owner                 1550\n",
       "private              30821\n",
       "slug                 39674\n",
       "spatial              26162\n",
       "tags                 39669\n",
       "temporal_coverage     3804\n",
       "title                39675\n",
       "dtype: int64"
      ]
     },
     "execution_count": 4,
     "metadata": {},
     "output_type": "execute_result"
    }
   ],
   "source": [
    "df.count()"
   ]
  },
  {
   "cell_type": "markdown",
   "metadata": {},
   "source": [
    "## date de création"
   ]
  },
  {
   "cell_type": "code",
   "execution_count": 5,
   "metadata": {},
   "outputs": [
    {
     "data": {
      "text/html": [
       "<div>\n",
       "<style scoped>\n",
       "    .dataframe tbody tr th:only-of-type {\n",
       "        vertical-align: middle;\n",
       "    }\n",
       "\n",
       "    .dataframe tbody tr th {\n",
       "        vertical-align: top;\n",
       "    }\n",
       "\n",
       "    .dataframe thead th {\n",
       "        text-align: right;\n",
       "    }\n",
       "</style>\n",
       "<table border=\"1\" class=\"dataframe\">\n",
       "  <thead>\n",
       "    <tr style=\"text-align: right;\">\n",
       "      <th></th>\n",
       "      <th>Unnamed: 0</th>\n",
       "      <th>_cls</th>\n",
       "      <th>_id</th>\n",
       "      <th>acronym</th>\n",
       "      <th>badges</th>\n",
       "      <th>created_at</th>\n",
       "      <th>deleted</th>\n",
       "      <th>description</th>\n",
       "      <th>ext</th>\n",
       "      <th>extras</th>\n",
       "      <th>...</th>\n",
       "      <th>license</th>\n",
       "      <th>metrics</th>\n",
       "      <th>organization</th>\n",
       "      <th>owner</th>\n",
       "      <th>private</th>\n",
       "      <th>slug</th>\n",
       "      <th>spatial</th>\n",
       "      <th>tags</th>\n",
       "      <th>temporal_coverage</th>\n",
       "      <th>title</th>\n",
       "    </tr>\n",
       "    <tr>\n",
       "      <th>created_at</th>\n",
       "      <th></th>\n",
       "      <th></th>\n",
       "      <th></th>\n",
       "      <th></th>\n",
       "      <th></th>\n",
       "      <th></th>\n",
       "      <th></th>\n",
       "      <th></th>\n",
       "      <th></th>\n",
       "      <th></th>\n",
       "      <th></th>\n",
       "      <th></th>\n",
       "      <th></th>\n",
       "      <th></th>\n",
       "      <th></th>\n",
       "      <th></th>\n",
       "      <th></th>\n",
       "      <th></th>\n",
       "      <th></th>\n",
       "      <th></th>\n",
       "      <th></th>\n",
       "    </tr>\n",
       "  </thead>\n",
       "  <tbody>\n",
       "    <tr>\n",
       "      <th>2013</th>\n",
       "      <td>4000</td>\n",
       "      <td>3992</td>\n",
       "      <td>4000</td>\n",
       "      <td>1</td>\n",
       "      <td>430</td>\n",
       "      <td>4000</td>\n",
       "      <td>1</td>\n",
       "      <td>3898</td>\n",
       "      <td>4000</td>\n",
       "      <td>4000</td>\n",
       "      <td>...</td>\n",
       "      <td>3964</td>\n",
       "      <td>4000</td>\n",
       "      <td>3907</td>\n",
       "      <td>34</td>\n",
       "      <td>705</td>\n",
       "      <td>4000</td>\n",
       "      <td>3217</td>\n",
       "      <td>4000</td>\n",
       "      <td>1521</td>\n",
       "      <td>4000</td>\n",
       "    </tr>\n",
       "    <tr>\n",
       "      <th>2014</th>\n",
       "      <td>1719</td>\n",
       "      <td>1607</td>\n",
       "      <td>1719</td>\n",
       "      <td>1</td>\n",
       "      <td>243</td>\n",
       "      <td>1719</td>\n",
       "      <td>0</td>\n",
       "      <td>1704</td>\n",
       "      <td>1719</td>\n",
       "      <td>1719</td>\n",
       "      <td>...</td>\n",
       "      <td>1696</td>\n",
       "      <td>1719</td>\n",
       "      <td>1497</td>\n",
       "      <td>272</td>\n",
       "      <td>762</td>\n",
       "      <td>1719</td>\n",
       "      <td>1438</td>\n",
       "      <td>1719</td>\n",
       "      <td>719</td>\n",
       "      <td>1719</td>\n",
       "    </tr>\n",
       "    <tr>\n",
       "      <th>2015</th>\n",
       "      <td>6258</td>\n",
       "      <td>6240</td>\n",
       "      <td>6258</td>\n",
       "      <td>2</td>\n",
       "      <td>2758</td>\n",
       "      <td>6258</td>\n",
       "      <td>0</td>\n",
       "      <td>6254</td>\n",
       "      <td>6258</td>\n",
       "      <td>6258</td>\n",
       "      <td>...</td>\n",
       "      <td>6076</td>\n",
       "      <td>6258</td>\n",
       "      <td>5665</td>\n",
       "      <td>195</td>\n",
       "      <td>6209</td>\n",
       "      <td>6258</td>\n",
       "      <td>6103</td>\n",
       "      <td>6257</td>\n",
       "      <td>479</td>\n",
       "      <td>6258</td>\n",
       "    </tr>\n",
       "    <tr>\n",
       "      <th>2016</th>\n",
       "      <td>6735</td>\n",
       "      <td>6659</td>\n",
       "      <td>6735</td>\n",
       "      <td>1</td>\n",
       "      <td>6735</td>\n",
       "      <td>6735</td>\n",
       "      <td>0</td>\n",
       "      <td>6697</td>\n",
       "      <td>6735</td>\n",
       "      <td>6735</td>\n",
       "      <td>...</td>\n",
       "      <td>6626</td>\n",
       "      <td>6735</td>\n",
       "      <td>6467</td>\n",
       "      <td>261</td>\n",
       "      <td>6568</td>\n",
       "      <td>6735</td>\n",
       "      <td>5302</td>\n",
       "      <td>6733</td>\n",
       "      <td>254</td>\n",
       "      <td>6735</td>\n",
       "    </tr>\n",
       "    <tr>\n",
       "      <th>2017</th>\n",
       "      <td>12457</td>\n",
       "      <td>4007</td>\n",
       "      <td>12457</td>\n",
       "      <td>4</td>\n",
       "      <td>12457</td>\n",
       "      <td>12457</td>\n",
       "      <td>0</td>\n",
       "      <td>12394</td>\n",
       "      <td>12457</td>\n",
       "      <td>12457</td>\n",
       "      <td>...</td>\n",
       "      <td>11288</td>\n",
       "      <td>12457</td>\n",
       "      <td>11914</td>\n",
       "      <td>536</td>\n",
       "      <td>9525</td>\n",
       "      <td>12456</td>\n",
       "      <td>8314</td>\n",
       "      <td>12455</td>\n",
       "      <td>281</td>\n",
       "      <td>12457</td>\n",
       "    </tr>\n",
       "    <tr>\n",
       "      <th>2018</th>\n",
       "      <td>8485</td>\n",
       "      <td>0</td>\n",
       "      <td>8485</td>\n",
       "      <td>202</td>\n",
       "      <td>8485</td>\n",
       "      <td>8485</td>\n",
       "      <td>0</td>\n",
       "      <td>8409</td>\n",
       "      <td>8485</td>\n",
       "      <td>8485</td>\n",
       "      <td>...</td>\n",
       "      <td>8156</td>\n",
       "      <td>8485</td>\n",
       "      <td>8221</td>\n",
       "      <td>247</td>\n",
       "      <td>7031</td>\n",
       "      <td>8485</td>\n",
       "      <td>1784</td>\n",
       "      <td>8484</td>\n",
       "      <td>547</td>\n",
       "      <td>8485</td>\n",
       "    </tr>\n",
       "    <tr>\n",
       "      <th>2019</th>\n",
       "      <td>21</td>\n",
       "      <td>0</td>\n",
       "      <td>21</td>\n",
       "      <td>3</td>\n",
       "      <td>21</td>\n",
       "      <td>21</td>\n",
       "      <td>0</td>\n",
       "      <td>21</td>\n",
       "      <td>21</td>\n",
       "      <td>21</td>\n",
       "      <td>...</td>\n",
       "      <td>14</td>\n",
       "      <td>21</td>\n",
       "      <td>16</td>\n",
       "      <td>5</td>\n",
       "      <td>21</td>\n",
       "      <td>21</td>\n",
       "      <td>4</td>\n",
       "      <td>21</td>\n",
       "      <td>3</td>\n",
       "      <td>21</td>\n",
       "    </tr>\n",
       "  </tbody>\n",
       "</table>\n",
       "<p>7 rows × 24 columns</p>\n",
       "</div>"
      ],
      "text/plain": [
       "            Unnamed: 0  _cls    _id  acronym  badges  created_at  deleted  \\\n",
       "created_at                                                                  \n",
       "2013              4000  3992   4000        1     430        4000        1   \n",
       "2014              1719  1607   1719        1     243        1719        0   \n",
       "2015              6258  6240   6258        2    2758        6258        0   \n",
       "2016              6735  6659   6735        1    6735        6735        0   \n",
       "2017             12457  4007  12457        4   12457       12457        0   \n",
       "2018              8485     0   8485      202    8485        8485        0   \n",
       "2019                21     0     21        3      21          21        0   \n",
       "\n",
       "            description    ext  extras  ...    license  metrics  organization  \\\n",
       "created_at                              ...                                     \n",
       "2013               3898   4000    4000  ...       3964     4000          3907   \n",
       "2014               1704   1719    1719  ...       1696     1719          1497   \n",
       "2015               6254   6258    6258  ...       6076     6258          5665   \n",
       "2016               6697   6735    6735  ...       6626     6735          6467   \n",
       "2017              12394  12457   12457  ...      11288    12457         11914   \n",
       "2018               8409   8485    8485  ...       8156     8485          8221   \n",
       "2019                 21     21      21  ...         14       21            16   \n",
       "\n",
       "            owner  private   slug  spatial   tags  temporal_coverage  title  \n",
       "created_at                                                                   \n",
       "2013           34      705   4000     3217   4000               1521   4000  \n",
       "2014          272      762   1719     1438   1719                719   1719  \n",
       "2015          195     6209   6258     6103   6257                479   6258  \n",
       "2016          261     6568   6735     5302   6733                254   6735  \n",
       "2017          536     9525  12456     8314  12455                281  12457  \n",
       "2018          247     7031   8485     1784   8484                547   8485  \n",
       "2019            5       21     21        4     21                  3     21  \n",
       "\n",
       "[7 rows x 24 columns]"
      ]
     },
     "execution_count": 5,
     "metadata": {},
     "output_type": "execute_result"
    }
   ],
   "source": [
    "created_year = df.groupby(df.created_at.dt.year).agg('count')\n",
    "\n",
    "created_year"
   ]
  },
  {
   "cell_type": "markdown",
   "metadata": {},
   "source": [
    "### nouveaux jeux de données par année"
   ]
  },
  {
   "cell_type": "code",
   "execution_count": 6,
   "metadata": {},
   "outputs": [
    {
     "data": {
      "application/vnd.vegalite.v2+json": {
       "$schema": "https://vega.github.io/schema/vega-lite/v2.6.0.json",
       "config": {
        "view": {
         "height": 300,
         "width": 400
        }
       },
       "data": {
        "format": {
         "type": "json"
        },
        "url": "altair-data-d78d55ddc57d784758bad737b88e61ed.json"
       },
       "encoding": {
        "x": {
         "field": "year",
         "type": "temporal"
        },
        "y": {
         "aggregate": "count",
         "field": "*",
         "type": "quantitative"
        }
       },
       "mark": "bar",
       "transform": [
        {
         "as": "year",
         "field": "created_at",
         "timeUnit": "year"
        }
       ]
      },
      "image/png": "[encoded data removed]",
      "text/plain": [
       "<VegaLite 2 object>\n",
       "\n",
       "If you see this message, it means the renderer has not been properly enabled\n",
       "for the frontend that you are using. For more information, see\n",
       "https://altair-viz.github.io/user_guide/troubleshooting.html\n"
      ]
     },
     "execution_count": 6,
     "metadata": {},
     "output_type": "execute_result"
    }
   ],
   "source": [
    "alt.Chart(df).mark_bar().encode(\n",
    "    x=\"year:T\",\n",
    "    y=\"count(*):Q\"\n",
    ").transform_timeunit(\n",
    "    year='year(created_at)'\n",
    ")"
   ]
  },
  {
   "cell_type": "code",
   "execution_count": 49,
   "metadata": {},
   "outputs": [
    {
     "data": {
      "application/vnd.vegalite.v2+json": {
       "$schema": "https://vega.github.io/schema/vega-lite/v2.6.0.json",
       "config": {
        "view": {
         "height": 300,
         "width": 400
        }
       },
       "data": {
        "format": {
         "type": "json"
        },
        "url": "altair-data-daae3bb85273c051bb8ffa05ee55cb69.json"
       },
       "encoding": {
        "x": {
         "field": "created_at",
         "type": "temporal"
        },
        "y": {
         "field": "cumulative_count",
         "type": "quantitative"
        }
       },
       "mark": "area",
       "transform": [
        {
         "sort": [
          {
           "field": "created_at"
          }
         ],
         "window": [
          {
           "as": "cumulative_count",
           "field": "count",
           "op": "count"
          }
         ]
        }
       ]
      },
      "image/png": "[encoded data removed]",
      "text/plain": [
       "<VegaLite 2 object>\n",
       "\n",
       "If you see this message, it means the renderer has not been properly enabled\n",
       "for the frontend that you are using. For more information, see\n",
       "https://altair-viz.github.io/user_guide/troubleshooting.html\n"
      ]
     },
     "execution_count": 49,
     "metadata": {},
     "output_type": "execute_result"
    }
   ],
   "source": [
    "alt.Chart(df).mark_area().encode(\n",
    "    x=\"created_at:T\",\n",
    "    y=\"cumulative_count:Q\"\n",
    ").transform_window(\n",
    "    window=[{ \"op\": \"count\", \"field\": \"count\", \"as\": \"cumulative_count\"}],\n",
    "    sort=[{'field': \"created_at\"}]\n",
    ")"
   ]
  },
  {
   "cell_type": "code",
   "execution_count": 39,
   "metadata": {},
   "outputs": [
    {
     "data": {
      "application/vnd.vegalite.v2+json": {
       "$schema": "https://vega.github.io/schema/vega-lite/v2.6.0.json",
       "config": {
        "view": {
         "height": 300,
         "width": 400
        }
       },
       "data": {
        "format": {
         "type": "json"
        },
        "url": "altair-data-daae3bb85273c051bb8ffa05ee55cb69.json"
       },
       "encoding": {
        "color": {
         "field": "year",
         "type": "ordinal"
        },
        "x": {
         "axis": {
          "format": "%b"
         },
         "field": "month",
         "type": "temporal"
        },
        "y": {
         "field": "count",
         "type": "quantitative"
        }
       },
       "mark": "line",
       "transform": [
        {
         "as": "year",
         "field": "created_at",
         "timeUnit": "year"
        },
        {
         "as": "month",
         "field": "created_at",
         "timeUnit": "month"
        }
       ]
      },
      "image/png": "[encoded data removed]",
      "text/plain": [
       "<VegaLite 2 object>\n",
       "\n",
       "If you see this message, it means the renderer has not been properly enabled\n",
       "for the frontend that you are using. For more information, see\n",
       "https://altair-viz.github.io/user_guide/troubleshooting.html\n"
      ]
     },
     "execution_count": 39,
     "metadata": {},
     "output_type": "execute_result"
    }
   ],
   "source": [
    "alt.Chart(df).mark_line().encode(\n",
    "    alt.X(\n",
    "        \"month:T\",\n",
    "        axis=alt.Axis(format=\"%b\")\n",
    "    ),\n",
    "    y=\"count():Q\",\n",
    "    color=alt.Color(\n",
    "        \"year:O\"\n",
    "    ),\n",
    "    #row=\"year:O\"\n",
    ").transform_timeunit(\n",
    "    year='year(created_at)',\n",
    "    month='month(created_at)'\n",
    ")"
   ]
  },
  {
   "cell_type": "markdown",
   "metadata": {},
   "source": [
    "### 2018"
   ]
  },
  {
   "cell_type": "code",
   "execution_count": 8,
   "metadata": {},
   "outputs": [
    {
     "data": {
      "application/vnd.vegalite.v2+json": {
       "$schema": "https://vega.github.io/schema/vega-lite/v2.6.0.json",
       "config": {
        "view": {
         "height": 300,
         "width": 400
        }
       },
       "layer": [
        {
         "data": {
          "format": {
           "type": "json"
          },
          "url": "altair-data-aca5dec51afd64b836c8af4c2aa31507.json"
         },
         "encoding": {
          "x": {
           "axis": {
            "format": "%b"
           },
           "field": "month",
           "type": "temporal"
          },
          "y": {
           "aggregate": "mean",
           "field": "count",
           "type": "quantitative"
          }
         },
         "mark": {
          "color": "grey",
          "opacity": 0.8,
          "type": "line"
         },
         "transform": [
          {
           "as": "year",
           "field": "created_at",
           "timeUnit": "year"
          },
          {
           "as": "month",
           "field": "created_at",
           "timeUnit": "month"
          },
          {
           "aggregate": [
            {
             "as": "count",
             "op": "count"
            }
           ],
           "groupby": [
            "year",
            "month"
           ]
          }
         ]
        },
        {
         "data": {
          "format": {
           "type": "json"
          },
          "url": "altair-data-c4fbfb6f8cb7bed9384872a2fccbdf75.json"
         },
         "encoding": {
          "x": {
           "axis": {
            "format": "%b"
           },
           "field": "month",
           "type": "temporal"
          },
          "y": {
           "aggregate": "count",
           "type": "quantitative"
          }
         },
         "mark": "line",
         "transform": [
          {
           "as": "year",
           "field": "created_at",
           "timeUnit": "year"
          },
          {
           "as": "month",
           "field": "created_at",
           "timeUnit": "month"
          }
         ]
        }
       ]
      },
      "image/png": "[encoded data removed]",
      "text/plain": [
       "<VegaLite 2 object>\n",
       "\n",
       "If you see this message, it means the renderer has not been properly enabled\n",
       "for the frontend that you are using. For more information, see\n",
       "https://altair-viz.github.io/user_guide/troubleshooting.html\n"
      ]
     },
     "execution_count": 8,
     "metadata": {},
     "output_type": "execute_result"
    }
   ],
   "source": [
    "main = alt.Chart(df[(df.created_at > '2018-01-01') & (df.created_at < '2019-01-01')]).mark_line().encode(\n",
    "    alt.X(\n",
    "        \"month:T\",\n",
    "        axis=alt.Axis(format=\"%b\")\n",
    "    ),\n",
    "    y=\"count():Q\"\n",
    ").transform_timeunit(\n",
    "    year='year(created_at)',\n",
    "    month='month(created_at)'\n",
    ")\n",
    "\n",
    "mean = alt.Chart(df[df.created_at < '2018-01-01']).mark_line(opacity=0.8, color=\"grey\").encode(\n",
    "    alt.X(\n",
    "        \"month:T\",\n",
    "        axis=alt.Axis(format=\"%b\")\n",
    "    ),\n",
    "    alt.Y(\n",
    "        \"mean(count):Q\"\n",
    "    )\n",
    ").transform_timeunit(\n",
    "    year='year(created_at)',\n",
    "    month='month(created_at)'\n",
    ").transform_aggregate(\n",
    "    groupby=[\"year\", \"month\"],\n",
    "    count = \"count()\"\n",
    ")\n",
    "\n",
    "mean + main"
   ]
  },
  {
   "cell_type": "code",
   "execution_count": 9,
   "metadata": {},
   "outputs": [
    {
     "data": {
      "application/vnd.vegalite.v2+json": {
       "$schema": "https://vega.github.io/schema/vega-lite/v2.6.0.json",
       "config": {
        "view": {
         "height": 300,
         "width": 400
        }
       },
       "data": {
        "format": {
         "type": "json"
        },
        "url": "altair-data-29fc757c7ed371822c20552005c10a2e.json"
       },
       "encoding": {
        "color": {
         "field": "year",
         "type": "ordinal"
        },
        "x": {
         "axis": {
          "format": "%d"
         },
         "field": "day",
         "type": "temporal"
        },
        "y": {
         "aggregate": "count",
         "type": "quantitative"
        }
       },
       "mark": "line",
       "transform": [
        {
         "as": "day",
         "field": "created_at",
         "timeUnit": "date"
        }
       ]
      },
      "image/png": "[encoded data removed]",
      "text/plain": [
       "<VegaLite 2 object>\n",
       "\n",
       "If you see this message, it means the renderer has not been properly enabled\n",
       "for the frontend that you are using. For more information, see\n",
       "https://altair-viz.github.io/user_guide/troubleshooting.html\n"
      ]
     },
     "execution_count": 9,
     "metadata": {},
     "output_type": "execute_result"
    }
   ],
   "source": [
    "alt.Chart(df[(df.created_at >= '2018-07-01') & (df.created_at < '2018-08-01')]).mark_line().encode(\n",
    "    alt.X(\n",
    "        \"day:T\",\n",
    "        axis=alt.Axis(format=\"%d\")\n",
    "    ),\n",
    "    y=\"count():Q\",\n",
    "    color=\"year:O\"\n",
    ").transform_timeunit(\n",
    "    day='date(created_at)',\n",
    ")"
   ]
  },
  {
   "cell_type": "code",
   "execution_count": 10,
   "metadata": {},
   "outputs": [
    {
     "data": {
      "text/plain": [
       "534fffa7a3a7292c64a780c5    836\n",
       "5a4381adc751df74bae4627d      6\n",
       "5b4c9baf88ee3807e2f80ffc      1\n",
       "5b20e610c751df0b90147be9      1\n",
       "534fff89a3a7292c64a77eb7      1\n",
       "582a045088ee3875cec65bb4      1\n",
       "5b236d75c751df4eaa3a9b5e      1\n",
       "54da1f52c751df59f7467389      1\n",
       "5b4c534c88ee38213fb68e52      1\n",
       "Name: organization, dtype: int64"
      ]
     },
     "execution_count": 10,
     "metadata": {},
     "output_type": "execute_result"
    }
   ],
   "source": [
    "df[(df.created_at >= '2018-07-16') & (df.created_at < '2018-07-17')].organization.value_counts()"
   ]
  },
  {
   "cell_type": "code",
   "execution_count": 11,
   "metadata": {},
   "outputs": [
    {
     "data": {
      "text/plain": [
       "534fff98a3a7292c64a78012    773\n",
       "589d6e22c751df0ff0ae0a65      1\n",
       "5b4f5364c751df0bb1c28756      1\n",
       "5afd7ce888ee387d9f4e136f      1\n",
       "5a4381adc751df74bae4627d      1\n",
       "559a4970c751df46a9a453ba      1\n",
       "Name: organization, dtype: int64"
      ]
     },
     "execution_count": 11,
     "metadata": {},
     "output_type": "execute_result"
    }
   ],
   "source": [
    "df[(df.created_at >= '2018-07-18') & (df.created_at < '2018-07-19')].organization.value_counts()"
   ]
  },
  {
   "cell_type": "code",
   "execution_count": 12,
   "metadata": {},
   "outputs": [
    {
     "data": {
      "text/plain": [
       "534fff6fa3a7292c64a77dc1    773\n",
       "5a82e90b88ee387c99662abb      1\n",
       "58d53c4688ee380aeea5e932      1\n",
       "534fff8ea3a7292c64a77f02      1\n",
       "Name: organization, dtype: int64"
      ]
     },
     "execution_count": 12,
     "metadata": {},
     "output_type": "execute_result"
    }
   ],
   "source": [
    "df[(df.created_at >= '2018-07-31') & (df.created_at < '2018-08-01')].organization.value_counts()"
   ]
  },
  {
   "cell_type": "markdown",
   "metadata": {},
   "source": [
    "## mises à jour"
   ]
  },
  {
   "cell_type": "code",
   "execution_count": 13,
   "metadata": {},
   "outputs": [
    {
     "data": {
      "application/vnd.vegalite.v2+json": {
       "$schema": "https://vega.github.io/schema/vega-lite/v2.6.0.json",
       "config": {
        "view": {
         "height": 300,
         "width": 400
        }
       },
       "data": {
        "format": {
         "type": "json"
        },
        "url": "altair-data-d78d55ddc57d784758bad737b88e61ed.json"
       },
       "encoding": {
        "x": {
         "field": "year",
         "type": "temporal"
        },
        "y": {
         "aggregate": "count",
         "type": "quantitative"
        }
       },
       "mark": "bar",
       "transform": [
        {
         "as": "year",
         "field": "last_modified",
         "timeUnit": "year"
        }
       ]
      },
      "image/png": "[encoded data removed]",
      "text/plain": [
       "<VegaLite 2 object>\n",
       "\n",
       "If you see this message, it means the renderer has not been properly enabled\n",
       "for the frontend that you are using. For more information, see\n",
       "https://altair-viz.github.io/user_guide/troubleshooting.html\n"
      ]
     },
     "execution_count": 13,
     "metadata": {},
     "output_type": "execute_result"
    }
   ],
   "source": [
    "alt.Chart(df).mark_bar().encode(\n",
    "    x=\"year:T\",\n",
    "    y=\"count():Q\"\n",
    ").transform_timeunit(\n",
    "    year='year(last_modified)'\n",
    ")"
   ]
  },
  {
   "cell_type": "code",
   "execution_count": 14,
   "metadata": {},
   "outputs": [
    {
     "data": {
      "application/vnd.vegalite.v2+json": {
       "$schema": "https://vega.github.io/schema/vega-lite/v2.6.0.json",
       "config": {
        "view": {
         "height": 300,
         "width": 400
        }
       },
       "data": {
        "format": {
         "type": "json"
        },
        "url": "altair-data-d78d55ddc57d784758bad737b88e61ed.json"
       },
       "encoding": {
        "x": {
         "axis": {
          "format": "%y-%m"
         },
         "field": "yearmonth",
         "type": "temporal"
        },
        "y": {
         "field": "count",
         "type": "quantitative"
        }
       },
       "mark": "bar",
       "transform": [
        {
         "as": "yearmonth",
         "field": "last_modified",
         "timeUnit": "yearmonth"
        },
        {
         "aggregate": [
          {
           "as": "count",
           "op": "count"
          }
         ],
         "groupby": [
          "yearmonth"
         ]
        }
       ]
      },
      "image/png": "[encoded data removed]",
      "text/plain": [
       "<VegaLite 2 object>\n",
       "\n",
       "If you see this message, it means the renderer has not been properly enabled\n",
       "for the frontend that you are using. For more information, see\n",
       "https://altair-viz.github.io/user_guide/troubleshooting.html\n"
      ]
     },
     "execution_count": 14,
     "metadata": {},
     "output_type": "execute_result"
    }
   ],
   "source": [
    "alt.Chart(df).mark_bar().encode(\n",
    "    alt.X(\n",
    "        \"yearmonth:T\",\n",
    "        axis=alt.Axis(format=\"%y-%m\")\n",
    "    ),\n",
    "    y=\"count:Q\"\n",
    ").transform_timeunit(\n",
    "    yearmonth='yearmonth(last_modified)'\n",
    ").transform_aggregate(\n",
    "    groupby=[\"yearmonth\"],\n",
    "    count = \"count()\"\n",
    ")"
   ]
  },
  {
   "cell_type": "markdown",
   "metadata": {},
   "source": [
    "### Durée de vie des jeux de données\n",
    "\n",
    "nombre de jours entre la dernière mise à jour et la date de création"
   ]
  },
  {
   "cell_type": "code",
   "execution_count": 15,
   "metadata": {},
   "outputs": [],
   "source": [
    "df['lifespan'] = (df['last_modified'] - df['created_at']).dt.days"
   ]
  },
  {
   "cell_type": "code",
   "execution_count": 16,
   "metadata": {},
   "outputs": [
    {
     "data": {
      "text/plain": [
       "Unnamed: 0           32\n",
       "_cls                 11\n",
       "_id                  32\n",
       "acronym               1\n",
       "badges               32\n",
       "created_at           32\n",
       "deleted               0\n",
       "description          32\n",
       "ext                  32\n",
       "extras               32\n",
       "featured             32\n",
       "frequency            32\n",
       "frequency_date        8\n",
       "last_modified        32\n",
       "license              27\n",
       "metrics              32\n",
       "organization         21\n",
       "owner                11\n",
       "private              32\n",
       "slug                 32\n",
       "spatial              11\n",
       "tags                 32\n",
       "temporal_coverage     6\n",
       "title                32\n",
       "lifespan             32\n",
       "dtype: int64"
      ]
     },
     "execution_count": 16,
     "metadata": {},
     "output_type": "execute_result"
    }
   ],
   "source": [
    "df[ df['lifespan'] < 0 ].count()"
   ]
  },
  {
   "cell_type": "code",
   "execution_count": 17,
   "metadata": {},
   "outputs": [
    {
     "data": {
      "application/vnd.vegalite.v2+json": {
       "$schema": "https://vega.github.io/schema/vega-lite/v2.6.0.json",
       "config": {
        "view": {
         "height": 300,
         "width": 400
        }
       },
       "data": {
        "format": {
         "type": "json"
        },
        "url": "altair-data-a4946e354b5c0264bad5ecb767e1e6e2.json"
       },
       "encoding": {
        "x": {
         "bin": true,
         "field": "lifespan",
         "type": "quantitative"
        },
        "y": {
         "field": "count",
         "type": "quantitative"
        }
       },
       "mark": "bar",
       "transform": [
        {
         "aggregate": [
          {
           "as": "count",
           "op": "count"
          }
         ],
         "groupby": [
          "lifespan"
         ]
        }
       ]
      },
      "image/png": "[encoded data removed]",
      "text/plain": [
       "<VegaLite 2 object>\n",
       "\n",
       "If you see this message, it means the renderer has not been properly enabled\n",
       "for the frontend that you are using. For more information, see\n",
       "https://altair-viz.github.io/user_guide/troubleshooting.html\n"
      ]
     },
     "execution_count": 17,
     "metadata": {},
     "output_type": "execute_result"
    }
   ],
   "source": [
    "alt.Chart(df[ df['lifespan'] > 0 ]).mark_bar().encode(\n",
    "    x=alt.X(\"lifespan:Q\", bin=True),\n",
    "    y=alt.Y(\"count:Q\")\n",
    ").transform_aggregate(\n",
    "    groupby=[\"lifespan\"],\n",
    "    count = \"count()\"\n",
    ")"
   ]
  },
  {
   "cell_type": "code",
   "execution_count": 18,
   "metadata": {},
   "outputs": [
    {
     "data": {
      "application/vnd.vegalite.v2+json": {
       "$schema": "https://vega.github.io/schema/vega-lite/v2.6.0.json",
       "config": {
        "view": {
         "height": 300,
         "width": 400
        }
       },
       "data": {
        "format": {
         "type": "json"
        },
        "url": "altair-data-a0e3305241a8f2d26c291b0b557cda1c.json"
       },
       "encoding": {
        "color": {
         "aggregate": "mean",
         "field": "lifespan",
         "type": "quantitative"
        },
        "size": {
         "aggregate": "count",
         "type": "quantitative"
        },
        "x": {
         "field": "created_at",
         "timeUnit": "month",
         "type": "ordinal"
        },
        "y": {
         "field": "created_at",
         "timeUnit": "year",
         "type": "ordinal"
        }
       },
       "mark": "circle"
      },
      "image/png": "[encoded data removed]",
      "text/plain": [
       "<VegaLite 2 object>\n",
       "\n",
       "If you see this message, it means the renderer has not been properly enabled\n",
       "for the frontend that you are using. For more information, see\n",
       "https://altair-viz.github.io/user_guide/troubleshooting.html\n"
      ]
     },
     "execution_count": 18,
     "metadata": {},
     "output_type": "execute_result"
    }
   ],
   "source": [
    "alt.Chart(df[ df['created_at'] < \"2019-01-01\"]).mark_circle().encode(\n",
    "    y = \"year(created_at):O\",\n",
    "    x = \"month(created_at):O\",\n",
    "    size=\"count():Q\",\n",
    "    color=\"mean(lifespan):Q\",\n",
    ")"
   ]
  },
  {
   "cell_type": "markdown",
   "metadata": {},
   "source": [
    "### Fraîcheur des jeux de données\n",
    "\n",
    "Nombre de jours depuis la dernière mise à jour"
   ]
  },
  {
   "cell_type": "code",
   "execution_count": 19,
   "metadata": {},
   "outputs": [],
   "source": [
    "df['freshness'] = (pd.to_datetime('2019-01-06') - df['last_modified']).dt.days"
   ]
  },
  {
   "cell_type": "code",
   "execution_count": 20,
   "metadata": {},
   "outputs": [
    {
     "data": {
      "text/plain": [
       "Unnamed: 0           0\n",
       "_cls                 0\n",
       "_id                  0\n",
       "acronym              0\n",
       "badges               0\n",
       "created_at           0\n",
       "deleted              0\n",
       "description          0\n",
       "ext                  0\n",
       "extras               0\n",
       "featured             0\n",
       "frequency            0\n",
       "frequency_date       0\n",
       "last_modified        0\n",
       "license              0\n",
       "metrics              0\n",
       "organization         0\n",
       "owner                0\n",
       "private              0\n",
       "slug                 0\n",
       "spatial              0\n",
       "tags                 0\n",
       "temporal_coverage    0\n",
       "title                0\n",
       "lifespan             0\n",
       "freshness            0\n",
       "dtype: int64"
      ]
     },
     "execution_count": 20,
     "metadata": {},
     "output_type": "execute_result"
    }
   ],
   "source": [
    "df[df['freshness'] < 0].count()"
   ]
  },
  {
   "cell_type": "code",
   "execution_count": 21,
   "metadata": {},
   "outputs": [
    {
     "data": {
      "application/vnd.vegalite.v2+json": {
       "$schema": "https://vega.github.io/schema/vega-lite/v2.6.0.json",
       "config": {
        "view": {
         "height": 300,
         "width": 400
        }
       },
       "data": {
        "format": {
         "type": "json"
        },
        "url": "altair-data-daae3bb85273c051bb8ffa05ee55cb69.json"
       },
       "encoding": {
        "x": {
         "bin": true,
         "field": "freshness",
         "type": "quantitative"
        },
        "y": {
         "field": "count",
         "type": "quantitative"
        }
       },
       "mark": "bar",
       "transform": [
        {
         "aggregate": [
          {
           "as": "count",
           "op": "count"
          }
         ],
         "groupby": [
          "freshness"
         ]
        }
       ]
      },
      "image/png": "[encoded data removed]",
      "text/plain": [
       "<VegaLite 2 object>\n",
       "\n",
       "If you see this message, it means the renderer has not been properly enabled\n",
       "for the frontend that you are using. For more information, see\n",
       "https://altair-viz.github.io/user_guide/troubleshooting.html\n"
      ]
     },
     "execution_count": 21,
     "metadata": {},
     "output_type": "execute_result"
    }
   ],
   "source": [
    "alt.Chart(df[ df['freshness'] > 0 ]).mark_bar().encode(\n",
    "    x=alt.X(\"freshness:Q\", bin=True),\n",
    "    y=alt.Y(\"count:Q\")\n",
    ").transform_aggregate(\n",
    "    groupby=[\"freshness\"],\n",
    "    count = \"count()\"\n",
    ")"
   ]
  },
  {
   "cell_type": "code",
   "execution_count": 22,
   "metadata": {},
   "outputs": [
    {
     "data": {
      "application/vnd.vegalite.v2+json": {
       "$schema": "https://vega.github.io/schema/vega-lite/v2.6.0.json",
       "config": {
        "view": {
         "height": 300,
         "width": 400
        }
       },
       "data": {
        "format": {
         "type": "json"
        },
        "url": "altair-data-6c3c888d45d81d0a1956a27e9e330737.json"
       },
       "encoding": {
        "color": {
         "aggregate": "mean",
         "field": "freshness",
         "type": "quantitative"
        },
        "size": {
         "aggregate": "count",
         "type": "quantitative"
        },
        "x": {
         "field": "created_at",
         "timeUnit": "month",
         "type": "ordinal"
        },
        "y": {
         "field": "created_at",
         "timeUnit": "year",
         "type": "ordinal"
        }
       },
       "mark": "circle"
      },
      "image/png": "[encoded data removed]",
      "text/plain": [
       "<VegaLite 2 object>\n",
       "\n",
       "If you see this message, it means the renderer has not been properly enabled\n",
       "for the frontend that you are using. For more information, see\n",
       "https://altair-viz.github.io/user_guide/troubleshooting.html\n"
      ]
     },
     "execution_count": 22,
     "metadata": {},
     "output_type": "execute_result"
    }
   ],
   "source": [
    "alt.Chart(df[ df['created_at'] < \"2019-01-01\"]).mark_circle().encode(\n",
    "    y = \"year(created_at):O\",\n",
    "    x = \"month(created_at):O\",\n",
    "    size=\"count():Q\",\n",
    "    color=\"mean(freshness):Q\",\n",
    ")"
   ]
  },
  {
   "cell_type": "code",
   "execution_count": 26,
   "metadata": {},
   "outputs": [
    {
     "data": {
      "application/vnd.vegalite.v2+json": {
       "$schema": "https://vega.github.io/schema/vega-lite/v2.6.0.json",
       "config": {
        "view": {
         "height": 300,
         "width": 400
        }
       },
       "data": {
        "format": {
         "type": "json"
        },
        "url": "altair-data-6c3c888d45d81d0a1956a27e9e330737.json"
       },
       "encoding": {
        "row": {
         "field": "created_at",
         "timeUnit": "year",
         "type": "ordinal"
        },
        "x": {
         "bin": true,
         "field": "freshness",
         "type": "quantitative"
        },
        "y": {
         "aggregate": "count",
         "field": "*",
         "type": "quantitative"
        }
       },
       "mark": "bar"
      },
      "image/png": "[encoded data removed]",
      "text/plain": [
       "<VegaLite 2 object>\n",
       "\n",
       "If you see this message, it means the renderer has not been properly enabled\n",
       "for the frontend that you are using. For more information, see\n",
       "https://altair-viz.github.io/user_guide/troubleshooting.html\n"
      ]
     },
     "execution_count": 26,
     "metadata": {},
     "output_type": "execute_result"
    }
   ],
   "source": [
    "alt.Chart(df[ (df['freshness'] > 0) & (df['created_at'] < '2019-01-01')]).mark_bar().encode(\n",
    "    x=alt.X(\"freshness:Q\", bin=True),\n",
    "    y=alt.Y(\"count(*):Q\"),\n",
    "    row=\"year(created_at):O\"\n",
    ")"
   ]
  },
  {
   "cell_type": "markdown",
   "metadata": {},
   "source": [
    "### 2018"
   ]
  },
  {
   "cell_type": "code",
   "execution_count": 23,
   "metadata": {},
   "outputs": [
    {
     "data": {
      "application/vnd.vegalite.v2+json": {
       "$schema": "https://vega.github.io/schema/vega-lite/v2.6.0.json",
       "config": {
        "view": {
         "height": 300,
         "width": 400
        }
       },
       "data": {
        "format": {
         "type": "json"
        },
        "url": "altair-data-091415078e88616dcc3b968a6483a973.json"
       },
       "encoding": {
        "x": {
         "field": "yearmonth",
         "type": "temporal"
        },
        "y": {
         "field": "count",
         "type": "quantitative"
        }
       },
       "mark": "bar",
       "transform": [
        {
         "as": "yearmonth",
         "field": "last_modified",
         "timeUnit": "yearmonth"
        },
        {
         "aggregate": [
          {
           "as": "count",
           "op": "count"
          }
         ],
         "groupby": [
          "yearmonth"
         ]
        }
       ]
      },
      "image/png": "[encoded data removed]",
      "text/plain": [
       "<VegaLite 2 object>\n",
       "\n",
       "If you see this message, it means the renderer has not been properly enabled\n",
       "for the frontend that you are using. For more information, see\n",
       "https://altair-viz.github.io/user_guide/troubleshooting.html\n"
      ]
     },
     "execution_count": 23,
     "metadata": {},
     "output_type": "execute_result"
    }
   ],
   "source": [
    "alt.Chart(df[(df.last_modified > '2018-01-01') & (df.last_modified < '2019-01-01')]).mark_bar().encode(\n",
    "    x=\"yearmonth:T\",\n",
    "    y=\"count:Q\"\n",
    ").transform_timeunit(\n",
    "    yearmonth='yearmonth(last_modified)'\n",
    ").transform_aggregate(\n",
    "    groupby=[\"yearmonth\"],\n",
    "    count = \"count()\"\n",
    ")"
   ]
  },
  {
   "cell_type": "markdown",
   "metadata": {},
   "source": [
    "## organisations"
   ]
  }
 ],
 "metadata": {
  "kernelspec": {
   "display_name": "Python 3",
   "language": "python",
   "name": "python3"
  },
  "language_info": {
   "codemirror_mode": {
    "name": "ipython",
    "version": 3
   },
   "file_extension": ".py",
   "mimetype": "text/x-python",
   "name": "python",
   "nbconvert_exporter": "python",
   "pygments_lexer": "ipython3",
   "version": "3.6.7"
  },
  "nteract": {
   "version": "nteract-on-jupyter@1.9.15"
  }
 },
 "nbformat": 4,
 "nbformat_minor": 2
}
