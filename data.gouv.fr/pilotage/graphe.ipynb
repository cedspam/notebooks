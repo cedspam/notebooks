{
 "cells": [
  {
   "cell_type": "markdown",
   "metadata": {},
   "source": [
    "# %run \"librairies.ipynb\""
   ]
  },
  {
   "cell_type": "code",
   "execution_count": 2,
   "metadata": {},
   "outputs": [],
   "source": [
    "import networkx as nx"
   ]
  },
  {
   "cell_type": "code",
   "execution_count": 4,
   "metadata": {},
   "outputs": [
    {
     "name": "stderr",
     "output_type": "stream",
     "text": [
      "/home/tk/.virtualenvs/notebook/lib/python3.6/site-packages/IPython/core/interactiveshell.py:3020: DtypeWarning: Columns (4,23) have mixed types. Specify dtype option on import or set low_memory=False.\n",
      "  interactivity=interactivity, compiler=compiler, result=result)\n"
     ]
    }
   ],
   "source": [
    "users = pd.read_csv(\"data/users.csv\", sep=\";\")"
   ]
  },
  {
   "cell_type": "code",
   "execution_count": 5,
   "metadata": {},
   "outputs": [
    {
     "data": {
      "text/plain": [
       "Unnamed: 0           33699\n",
       "_cls                 20862\n",
       "_id                  33699\n",
       "about                  662\n",
       "active               33681\n",
       "apikey                1091\n",
       "avatar                2806\n",
       "avatar_url           20960\n",
       "confirmed_at         32752\n",
       "created_at           33699\n",
       "current_login_at     19966\n",
       "current_login_ip     19966\n",
       "deleted                280\n",
       "email                33699\n",
       "ext                  33699\n",
       "extras               33620\n",
       "first_name           33699\n",
       "last_login_at        32680\n",
       "last_login_ip        11919\n",
       "last_name            33692\n",
       "login_count          19966\n",
       "metrics              33699\n",
       "password             33356\n",
       "prefered_language      183\n",
       "roles                33699\n",
       "slug                 33698\n",
       "website                940\n",
       "dtype: int64"
      ]
     },
     "execution_count": 5,
     "metadata": {},
     "output_type": "execute_result"
    }
   ],
   "source": [
    "users.count()"
   ]
  },
  {
   "cell_type": "code",
   "execution_count": 8,
   "metadata": {},
   "outputs": [
    {
     "data": {
      "text/plain": [
       "count     33699\n",
       "unique        1\n",
       "top          {}\n",
       "freq      33699\n",
       "Name: ext, dtype: object"
      ]
     },
     "execution_count": 8,
     "metadata": {},
     "output_type": "execute_result"
    }
   ],
   "source": [
    "users.ext.describe()"
   ]
  },
  {
   "cell_type": "code",
   "execution_count": 9,
   "metadata": {},
   "outputs": [],
   "source": [
    "follow = pd.read_csv(\"data/follow.csv\", sep=\";\")"
   ]
  },
  {
   "cell_type": "code",
   "execution_count": 10,
   "metadata": {},
   "outputs": [
    {
     "data": {
      "text/html": [
       "<div>\n",
       "<style scoped>\n",
       "    .dataframe tbody tr th:only-of-type {\n",
       "        vertical-align: middle;\n",
       "    }\n",
       "\n",
       "    .dataframe tbody tr th {\n",
       "        vertical-align: top;\n",
       "    }\n",
       "\n",
       "    .dataframe thead th {\n",
       "        text-align: right;\n",
       "    }\n",
       "</style>\n",
       "<table border=\"1\" class=\"dataframe\">\n",
       "  <thead>\n",
       "    <tr style=\"text-align: right;\">\n",
       "      <th></th>\n",
       "      <th>Unnamed: 0</th>\n",
       "      <th>_id</th>\n",
       "      <th>follower</th>\n",
       "      <th>following</th>\n",
       "      <th>since</th>\n",
       "      <th>until</th>\n",
       "    </tr>\n",
       "  </thead>\n",
       "  <tbody>\n",
       "    <tr>\n",
       "      <th>0</th>\n",
       "      <td>0</td>\n",
       "      <td>55fac2abc751df13d9adaa2a</td>\n",
       "      <td>5450aff7c751df79a55a81f0</td>\n",
       "      <td>{'_cls': 'Dataset', '_ref': DBRef('dataset', O...</td>\n",
       "      <td>2015-09-17 15:39:55.329</td>\n",
       "      <td>NaN</td>\n",
       "    </tr>\n",
       "    <tr>\n",
       "      <th>1</th>\n",
       "      <td>1</td>\n",
       "      <td>55fac80ec751df1cdcadaa2a</td>\n",
       "      <td>5450aff7c751df79a55a81f0</td>\n",
       "      <td>{'_cls': 'Dataset', '_ref': DBRef('dataset', O...</td>\n",
       "      <td>2015-09-17 16:02:54.801</td>\n",
       "      <td>2015-09-18 16:24:00.395</td>\n",
       "    </tr>\n",
       "    <tr>\n",
       "      <th>2</th>\n",
       "      <td>2</td>\n",
       "      <td>55fac296c751df13d5adaa2a</td>\n",
       "      <td>5450aff7c751df79a55a81f0</td>\n",
       "      <td>{'_cls': 'Organization', '_ref': DBRef('organi...</td>\n",
       "      <td>2015-09-17 15:39:34.852</td>\n",
       "      <td>2015-09-17 16:03:38.723</td>\n",
       "    </tr>\n",
       "    <tr>\n",
       "      <th>3</th>\n",
       "      <td>3</td>\n",
       "      <td>55fbe15a88ee383a6fcda4f3</td>\n",
       "      <td>5417d74aa3a7294af4493dd3</td>\n",
       "      <td>{'_cls': 'Dataset', '_ref': DBRef('dataset', O...</td>\n",
       "      <td>2015-09-18 12:03:06.720</td>\n",
       "      <td>NaN</td>\n",
       "    </tr>\n",
       "    <tr>\n",
       "      <th>4</th>\n",
       "      <td>4</td>\n",
       "      <td>55fbed12c751df4a59afe496</td>\n",
       "      <td>5594034bc751df54b8a453b9</td>\n",
       "      <td>{'_cls': 'Dataset', '_ref': DBRef('dataset', O...</td>\n",
       "      <td>2015-09-18 12:53:06.851</td>\n",
       "      <td>NaN</td>\n",
       "    </tr>\n",
       "  </tbody>\n",
       "</table>\n",
       "</div>"
      ],
      "text/plain": [
       "   Unnamed: 0                       _id                  follower  \\\n",
       "0           0  55fac2abc751df13d9adaa2a  5450aff7c751df79a55a81f0   \n",
       "1           1  55fac80ec751df1cdcadaa2a  5450aff7c751df79a55a81f0   \n",
       "2           2  55fac296c751df13d5adaa2a  5450aff7c751df79a55a81f0   \n",
       "3           3  55fbe15a88ee383a6fcda4f3  5417d74aa3a7294af4493dd3   \n",
       "4           4  55fbed12c751df4a59afe496  5594034bc751df54b8a453b9   \n",
       "\n",
       "                                           following                    since  \\\n",
       "0  {'_cls': 'Dataset', '_ref': DBRef('dataset', O...  2015-09-17 15:39:55.329   \n",
       "1  {'_cls': 'Dataset', '_ref': DBRef('dataset', O...  2015-09-17 16:02:54.801   \n",
       "2  {'_cls': 'Organization', '_ref': DBRef('organi...  2015-09-17 15:39:34.852   \n",
       "3  {'_cls': 'Dataset', '_ref': DBRef('dataset', O...  2015-09-18 12:03:06.720   \n",
       "4  {'_cls': 'Dataset', '_ref': DBRef('dataset', O...  2015-09-18 12:53:06.851   \n",
       "\n",
       "                     until  \n",
       "0                      NaN  \n",
       "1  2015-09-18 16:24:00.395  \n",
       "2  2015-09-17 16:03:38.723  \n",
       "3                      NaN  \n",
       "4                      NaN  "
      ]
     },
     "execution_count": 10,
     "metadata": {},
     "output_type": "execute_result"
    }
   ],
   "source": [
    "follow.head()"
   ]
  },
  {
   "cell_type": "code",
   "execution_count": 11,
   "metadata": {},
   "outputs": [
    {
     "data": {
      "text/plain": [
       "Unnamed: 0    23912\n",
       "_id           23912\n",
       "follower      23912\n",
       "following     23912\n",
       "since         23912\n",
       "until          4382\n",
       "dtype: int64"
      ]
     },
     "execution_count": 11,
     "metadata": {},
     "output_type": "execute_result"
    }
   ],
   "source": [
    "follow.count()"
   ]
  },
  {
   "cell_type": "code",
   "execution_count": 19,
   "metadata": {},
   "outputs": [
    {
     "data": {
      "text/plain": [
       "'53699940a3a729239d2051d4'"
      ]
     },
     "execution_count": 19,
     "metadata": {},
     "output_type": "execute_result"
    }
   ],
   "source": [
    "import datetime\n",
    "from bson import ObjectId, DBRef\n",
    "\n",
    "str(eval(follow.iloc[0].following)['_ref'].id)"
   ]
  },
  {
   "cell_type": "code",
   "execution_count": null,
   "metadata": {},
   "outputs": [],
   "source": []
  }
 ],
 "metadata": {
  "kernelspec": {
   "display_name": "Python 3",
   "language": "python",
   "name": "python3"
  },
  "language_info": {
   "codemirror_mode": {
    "name": "ipython",
    "version": 3
   },
   "file_extension": ".py",
   "mimetype": "text/x-python",
   "name": "python",
   "nbconvert_exporter": "python",
   "pygments_lexer": "ipython3",
   "version": "3.6.7"
  }
 },
 "nbformat": 4,
 "nbformat_minor": 2
}
