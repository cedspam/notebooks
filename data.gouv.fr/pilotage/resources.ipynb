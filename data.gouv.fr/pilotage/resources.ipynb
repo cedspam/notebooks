{
  "nbformat": 4,
  "nbformat_minor": 0,
  "metadata": {
    "colab": {
      "name": "resources.ipynb",
      "version": "0.3.2",
      "provenance": [],
      "include_colab_link": true
    },
    "kernelspec": {
      "display_name": "Python 3",
      "language": "python",
      "name": "python3"
    }
  },
  "cells": [
    {
      "cell_type": "markdown",
      "metadata": {
        "id": "view-in-github",
        "colab_type": "text"
      },
      "source": [
        "<a href=\"https://colab.research.google.com/github/cedspam/notebooks/blob/master/data.gouv.fr/pilotage/resources.ipynb\" target=\"_parent\"><img src=\"https://colab.research.google.com/assets/colab-badge.svg\" alt=\"Open In Colab\"/></a>"
      ]
    },
    {
      "metadata": {
        "id": "v6-7DvL_b1d_",
        "colab_type": "code",
        "colab": {}
      },
      "cell_type": "code",
      "source": [
        "%run \"librairies.ipynb\""
      ],
      "execution_count": 0,
      "outputs": []
    },
    {
      "metadata": {
        "id": "DBPUaRBvb1eQ",
        "colab_type": "code",
        "colab": {},
        "outputId": "4fc0909e-147e-459e-fe2a-c7c72063c460"
      },
      "cell_type": "code",
      "source": [
        "df = pd.read_csv('data/resources.csv', sep=\";\", parse_dates=[\"created_at\"])\n",
        "\n",
        "df.count()"
      ],
      "execution_count": 0,
      "outputs": [
        {
          "output_type": "execute_result",
          "data": {
            "text/plain": [
              "Unnamed: 0     265155\n",
              "_id            265154\n",
              "checksum        13257\n",
              "created_at     265154\n",
              "dataset.id     265155\n",
              "description    186688\n",
              "extras         256917\n",
              "filesize        13467\n",
              "filetype       265091\n",
              "format         256987\n",
              "metrics        265155\n",
              "mime            56653\n",
              "modified       265152\n",
              "published      265152\n",
              "title          263624\n",
              "type           197392\n",
              "url            265154\n",
              "urlhash        265079\n",
              "dtype: int64"
            ]
          },
          "metadata": {
            "tags": []
          },
          "execution_count": 3
        }
      ]
    },
    {
      "metadata": {
        "id": "hwae7Xqvb1ee",
        "colab_type": "code",
        "colab": {},
        "outputId": "06d7f287-9ae8-4639-ef4e-b15cf41d4f54"
      },
      "cell_type": "code",
      "source": [
        "df.filetype.value_counts()['file'] / df.filetype.value_counts()['remote']"
      ],
      "execution_count": 0,
      "outputs": [
        {
          "output_type": "execute_result",
          "data": {
            "text/plain": [
              "0.08169943974962153"
            ]
          },
          "metadata": {
            "tags": []
          },
          "execution_count": 4
        }
      ]
    },
    {
      "metadata": {
        "id": "_e0CFbltb1ep",
        "colab_type": "code",
        "colab": {},
        "outputId": "a07e3d5b-c5b5-4694-dca3-201ced89e3c0"
      },
      "cell_type": "code",
      "source": [
        "alt.Chart(df).mark_area().encode(\n",
        "    x=\"created_at:T\",\n",
        "    y=\"cumulative_count:Q\",\n",
        ").transform_window(\n",
        "    window=[{ \"op\": \"count\", \"field\": \"count\", \"as\": \"cumulative_count\"}],\n",
        "    sort=[{'field': \"created_at\"}]\n",
        ")"
      ],
      "execution_count": 0,
      "outputs": [
        {
          "output_type": "execute_result",
          "data": {
            "application/vnd.vegalite.v2+json": {
              "$schema": "https://vega.github.io/schema/vega-lite/v2.6.0.json",
              "config": {
                "view": {
                  "height": 300,
                  "width": 400
                }
              },
              "data": {
                "format": {
                  "type": "json"
                },
                "url": "altair-data-8fd9a274a6e523d8d1c80a23c24a6ad5.json"
              },
              "encoding": {
                "x": {
                  "field": "created_at",
                  "type": "temporal"
                },
                "y": {
                  "field": "cumulative_count",
                  "type": "quantitative"
                }
              },
              "mark": "area",
              "transform": [
                {
                  "sort": [
                    {
                      "field": "created_at"
                    }
                  ],
                  "window": [
                    {
                      "as": "cumulative_count",
                      "field": "count",
                      "op": "count"
                    }
                  ]
                }
              ]
            },
            "image/png": "[encoded data removed]",
            "text/plain": [
              "<VegaLite 2 object>\n",
              "\n",
              "If you see this message, it means the renderer has not been properly enabled\n",
              "for the frontend that you are using. For more information, see\n",
              "https://altair-viz.github.io/user_guide/troubleshooting.html\n"
            ]
          },
          "metadata": {
            "tags": []
          },
          "execution_count": 8
        }
      ]
    },
    {
      "metadata": {
        "id": "WDOEyuCeb1ey",
        "colab_type": "code",
        "colab": {},
        "outputId": "c2296c3e-36a2-4347-ba6e-ba54b14e0940"
      },
      "cell_type": "code",
      "source": [
        "alt.Chart(df).mark_bar().encode(\n",
        "    x = \"year:T\",\n",
        "    y = \"count():Q\",\n",
        "    color = \"filetype:N\"\n",
        ").transform_timeunit(\n",
        "    year = \"year(created_at)\"\n",
        ")"
      ],
      "execution_count": 0,
      "outputs": [
        {
          "output_type": "execute_result",
          "data": {
            "application/vnd.vegalite.v2+json": {
              "$schema": "https://vega.github.io/schema/vega-lite/v2.6.0.json",
              "config": {
                "view": {
                  "height": 300,
                  "width": 400
                }
              },
              "data": {
                "format": {
                  "type": "json"
                },
                "url": "altair-data-8fd9a274a6e523d8d1c80a23c24a6ad5.json"
              },
              "encoding": {
                "color": {
                  "field": "filetype",
                  "type": "nominal"
                },
                "x": {
                  "field": "year",
                  "type": "temporal"
                },
                "y": {
                  "aggregate": "count",
                  "type": "quantitative"
                }
              },
              "mark": "bar",
              "transform": [
                {
                  "as": "year",
                  "field": "created_at",
                  "timeUnit": "year"
                }
              ]
            },
            "image/png": "[encoded data removed]",
            "text/plain": [
              "<VegaLite 2 object>\n",
              "\n",
              "If you see this message, it means the renderer has not been properly enabled\n",
              "for the frontend that you are using. For more information, see\n",
              "https://altair-viz.github.io/user_guide/troubleshooting.html\n"
            ]
          },
          "metadata": {
            "tags": []
          },
          "execution_count": 6
        }
      ]
    },
    {
      "metadata": {
        "id": "3vUTxfrKb1e8",
        "colab_type": "code",
        "colab": {},
        "outputId": "eb708db8-ec65-4e2e-a7a4-54d3a65fccc6"
      },
      "cell_type": "code",
      "source": [
        "bars = alt.Chart(df).mark_bar().encode(\n",
        "    alt.X(\n",
        "        \"year:T\"\n",
        "    ),\n",
        "    alt.Y(\n",
        "        \"count():Q\",\n",
        "        stack=\"normalize\"\n",
        "    ),\n",
        "    color = \"filetype:N\"\n",
        ").transform_timeunit(\n",
        "    year = \"year(created_at)\"\n",
        ")\n",
        "\n",
        "text = bars.mark_text(\n",
        "    align='left',\n",
        "    baseline=\"top\",\n",
        "    dx=4\n",
        ").encode(\n",
        "    text='count():Q'\n",
        ")\n",
        "\n",
        "bars + text"
      ],
      "execution_count": 0,
      "outputs": [
        {
          "output_type": "execute_result",
          "data": {
            "application/vnd.vegalite.v2+json": {
              "$schema": "https://vega.github.io/schema/vega-lite/v2.6.0.json",
              "config": {
                "view": {
                  "height": 300,
                  "width": 400
                }
              },
              "layer": [
                {
                  "data": {
                    "format": {
                      "type": "json"
                    },
                    "url": "altair-data-8fd9a274a6e523d8d1c80a23c24a6ad5.json"
                  },
                  "encoding": {
                    "color": {
                      "field": "filetype",
                      "type": "nominal"
                    },
                    "x": {
                      "field": "year",
                      "type": "temporal"
                    },
                    "y": {
                      "aggregate": "count",
                      "stack": "normalize",
                      "type": "quantitative"
                    }
                  },
                  "mark": "bar",
                  "transform": [
                    {
                      "as": "year",
                      "field": "created_at",
                      "timeUnit": "year"
                    }
                  ]
                },
                {
                  "data": {
                    "format": {
                      "type": "json"
                    },
                    "url": "altair-data-8fd9a274a6e523d8d1c80a23c24a6ad5.json"
                  },
                  "encoding": {
                    "color": {
                      "field": "filetype",
                      "type": "nominal"
                    },
                    "text": {
                      "aggregate": "count",
                      "type": "quantitative"
                    },
                    "x": {
                      "field": "year",
                      "type": "temporal"
                    },
                    "y": {
                      "aggregate": "count",
                      "stack": "normalize",
                      "type": "quantitative"
                    }
                  },
                  "mark": {
                    "align": "left",
                    "baseline": "top",
                    "dx": 4,
                    "type": "text"
                  },
                  "transform": [
                    {
                      "as": "year",
                      "field": "created_at",
                      "timeUnit": "year"
                    }
                  ]
                }
              ]
            },
            "image/png": "[encoded data removed]",
            "text/plain": [
              "<VegaLite 2 object>\n",
              "\n",
              "If you see this message, it means the renderer has not been properly enabled\n",
              "for the frontend that you are using. For more information, see\n",
              "https://altair-viz.github.io/user_guide/troubleshooting.html\n"
            ]
          },
          "metadata": {
            "tags": []
          },
          "execution_count": 5
        }
      ]
    },
    {
      "metadata": {
        "id": "ScR24oiCb1fG",
        "colab_type": "code",
        "colab": {}
      },
      "cell_type": "code",
      "source": [
        ""
      ],
      "execution_count": 0,
      "outputs": []
    }
  ]
}