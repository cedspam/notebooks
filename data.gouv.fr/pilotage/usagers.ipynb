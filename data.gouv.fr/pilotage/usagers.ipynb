{
 "cells": [
  {
   "cell_type": "code",
   "execution_count": 2,
   "metadata": {},
   "outputs": [],
   "source": [
    "%run \"librairies.ipynb\""
   ]
  },
  {
   "cell_type": "markdown",
   "metadata": {},
   "source": [
    "## Organisations"
   ]
  },
  {
   "cell_type": "code",
   "execution_count": 3,
   "metadata": {},
   "outputs": [],
   "source": [
    "organisations = pd.read_csv('data/organizations.csv', sep=\";\", parse_dates=[\"created_at\", \"last_modified\"])"
   ]
  },
  {
   "cell_type": "code",
   "execution_count": 4,
   "metadata": {},
   "outputs": [
    {
     "data": {
      "text/plain": [
       "Unnamed: 0       2019\n",
       "_cls             1142\n",
       "_id              2019\n",
       "acronym          1000\n",
       "badges           1773\n",
       "created_at       2019\n",
       "description      1964\n",
       "ext              2019\n",
       "extras           2019\n",
       "image_url         311\n",
       "last_modified    2019\n",
       "logo             1765\n",
       "members          1999\n",
       "metrics          2019\n",
       "name             2019\n",
       "requests         1867\n",
       "slug             2018\n",
       "teams            2019\n",
       "url              1473\n",
       "zone                2\n",
       "dtype: int64"
      ]
     },
     "execution_count": 4,
     "metadata": {},
     "output_type": "execute_result"
    }
   ],
   "source": [
    "organisations.count()"
   ]
  },
  {
   "cell_type": "code",
   "execution_count": 5,
   "metadata": {},
   "outputs": [
    {
     "data": {
      "application/vnd.vegalite.v2+json": {
       "$schema": "https://vega.github.io/schema/vega-lite/v2.6.0.json",
       "config": {
        "view": {
         "height": 300,
         "width": 400
        }
       },
       "data": {
        "format": {
         "type": "json"
        },
        "url": "altair-data-3bc7228e6ff5c418515f7950dfdc68da.json"
       },
       "encoding": {
        "x": {
         "field": "year",
         "type": "temporal"
        },
        "y": {
         "aggregate": "count",
         "field": "*",
         "type": "quantitative"
        }
       },
       "mark": "bar",
       "transform": [
        {
         "as": "year",
         "field": "created_at",
         "timeUnit": "year"
        }
       ]
      },
      "image/png": "[encoded data removed]",
      "text/plain": [
       "<VegaLite 2 object>\n",
       "\n",
       "If you see this message, it means the renderer has not been properly enabled\n",
       "for the frontend that you are using. For more information, see\n",
       "https://altair-viz.github.io/user_guide/troubleshooting.html\n"
      ]
     },
     "execution_count": 5,
     "metadata": {},
     "output_type": "execute_result"
    }
   ],
   "source": [
    "alt.Chart(organisations).mark_bar().encode(\n",
    "    x=\"year:T\",\n",
    "    y=\"count(*):Q\"\n",
    ").transform_timeunit(\n",
    "    year='year(created_at)'\n",
    ")"
   ]
  },
  {
   "cell_type": "code",
   "execution_count": 6,
   "metadata": {},
   "outputs": [
    {
     "data": {
      "application/vnd.vegalite.v2+json": {
       "$schema": "https://vega.github.io/schema/vega-lite/v2.6.0.json",
       "config": {
        "view": {
         "height": 300,
         "width": 400
        }
       },
       "data": {
        "format": {
         "type": "json"
        },
        "url": "altair-data-3bc7228e6ff5c418515f7950dfdc68da.json"
       },
       "encoding": {
        "x": {
         "field": "created_at",
         "type": "temporal"
        },
        "y": {
         "field": "cumulative_count",
         "type": "quantitative"
        }
       },
       "mark": "area",
       "transform": [
        {
         "sort": [
          {
           "field": "created_at"
          }
         ],
         "window": [
          {
           "as": "cumulative_count",
           "field": "count",
           "op": "count"
          }
         ]
        }
       ]
      },
      "image/png": "[encoded data removed]",
      "text/plain": [
       "<VegaLite 2 object>\n",
       "\n",
       "If you see this message, it means the renderer has not been properly enabled\n",
       "for the frontend that you are using. For more information, see\n",
       "https://altair-viz.github.io/user_guide/troubleshooting.html\n"
      ]
     },
     "execution_count": 6,
     "metadata": {},
     "output_type": "execute_result"
    }
   ],
   "source": [
    "alt.Chart(organisations).mark_area().encode(\n",
    "    x=\"created_at:T\",\n",
    "    y=\"cumulative_count:Q\",\n",
    ").transform_window(\n",
    "    window=[{ \"op\": \"count\", \"field\": \"count\", \"as\": \"cumulative_count\"}],\n",
    "    sort=[{'field': \"created_at\"}]\n",
    ")"
   ]
  },
  {
   "cell_type": "code",
   "execution_count": null,
   "metadata": {},
   "outputs": [],
   "source": []
  }
 ],
 "metadata": {
  "kernelspec": {
   "display_name": "Python 3",
   "language": "python",
   "name": "python3"
  },
  "language_info": {
   "codemirror_mode": {
    "name": "ipython",
    "version": 3
   },
   "file_extension": ".py",
   "mimetype": "text/x-python",
   "name": "python",
   "nbconvert_exporter": "python",
   "pygments_lexer": "ipython3",
   "version": "3.6.7"
  }
 },
 "nbformat": 4,
 "nbformat_minor": 2
}
