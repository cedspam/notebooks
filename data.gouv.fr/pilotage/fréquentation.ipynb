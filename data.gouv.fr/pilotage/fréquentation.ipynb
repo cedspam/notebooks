{
 "cells": [
  {
   "cell_type": "code",
   "execution_count": 24,
   "metadata": {},
   "outputs": [],
   "source": [
    "%run 'librairies.ipynb'"
   ]
  },
  {
   "cell_type": "code",
   "execution_count": 14,
   "metadata": {},
   "outputs": [],
   "source": [
    "import requests"
   ]
  },
  {
   "cell_type": "code",
   "execution_count": 27,
   "metadata": {},
   "outputs": [],
   "source": [
    "params = {\n",
    "    'site': 1,\n",
    "    'period': 'day',\n",
    "    'date': '2014-01-01,2018-12-31',\n",
    "}\n",
    "\n",
    "def get_stats():\n",
    "    stats_url = 'https://stats.data.gouv.fr/?idSite=%(site)s&module=API&method=API.get&format=json&period=%(period)s&date=%(date)s' % params\n",
    "    \n",
    "    # print(stats_url)\n",
    "    \n",
    "    r = requests.get(stats_url)\n",
    "    return r.json()"
   ]
  },
  {
   "cell_type": "code",
   "execution_count": 28,
   "metadata": {},
   "outputs": [],
   "source": [
    "years = range(2014, 2018)"
   ]
  },
  {
   "cell_type": "code",
   "execution_count": 29,
   "metadata": {},
   "outputs": [],
   "source": [
    "df = pd.DataFrame(get_stats()).transpose()"
   ]
  },
  {
   "cell_type": "code",
   "execution_count": 30,
   "metadata": {},
   "outputs": [
    {
     "data": {
      "text/html": [
       "<div>\n",
       "<style scoped>\n",
       "    .dataframe tbody tr th:only-of-type {\n",
       "        vertical-align: middle;\n",
       "    }\n",
       "\n",
       "    .dataframe tbody tr th {\n",
       "        vertical-align: top;\n",
       "    }\n",
       "\n",
       "    .dataframe thead th {\n",
       "        text-align: right;\n",
       "    }\n",
       "</style>\n",
       "<table border=\"1\" class=\"dataframe\">\n",
       "  <thead>\n",
       "    <tr style=\"text-align: right;\">\n",
       "      <th></th>\n",
       "      <th>index</th>\n",
       "      <th>avg_time_generation</th>\n",
       "      <th>avg_time_on_site</th>\n",
       "      <th>avg_time_on_site_returning</th>\n",
       "      <th>bounce_count</th>\n",
       "      <th>bounce_rate</th>\n",
       "      <th>bounce_rate_returning</th>\n",
       "      <th>conversion_rate</th>\n",
       "      <th>conversion_rate_new_visit</th>\n",
       "      <th>conversion_rate_returning_visit</th>\n",
       "      <th>...</th>\n",
       "      <th>nb_users_returning</th>\n",
       "      <th>nb_visits</th>\n",
       "      <th>nb_visits_converted</th>\n",
       "      <th>nb_visits_converted_new_visit</th>\n",
       "      <th>nb_visits_converted_returning_visit</th>\n",
       "      <th>nb_visits_returning</th>\n",
       "      <th>revenue</th>\n",
       "      <th>revenue_new_visit</th>\n",
       "      <th>revenue_returning_visit</th>\n",
       "      <th>sum_visit_length</th>\n",
       "    </tr>\n",
       "  </thead>\n",
       "  <tbody>\n",
       "    <tr>\n",
       "      <th>0</th>\n",
       "      <td>2014-01-01</td>\n",
       "      <td>0.243</td>\n",
       "      <td>202</td>\n",
       "      <td>170</td>\n",
       "      <td>385</td>\n",
       "      <td>46%</td>\n",
       "      <td>61%</td>\n",
       "      <td>0%</td>\n",
       "      <td>0%</td>\n",
       "      <td>0%</td>\n",
       "      <td>...</td>\n",
       "      <td>0</td>\n",
       "      <td>835</td>\n",
       "      <td>0</td>\n",
       "      <td>0</td>\n",
       "      <td>0</td>\n",
       "      <td>220</td>\n",
       "      <td>0</td>\n",
       "      <td>0</td>\n",
       "      <td>0</td>\n",
       "      <td>168799</td>\n",
       "    </tr>\n",
       "    <tr>\n",
       "      <th>1</th>\n",
       "      <td>2014-01-02</td>\n",
       "      <td>0.275</td>\n",
       "      <td>256</td>\n",
       "      <td>316</td>\n",
       "      <td>799</td>\n",
       "      <td>40%</td>\n",
       "      <td>46%</td>\n",
       "      <td>0%</td>\n",
       "      <td>0%</td>\n",
       "      <td>0%</td>\n",
       "      <td>...</td>\n",
       "      <td>0</td>\n",
       "      <td>2013</td>\n",
       "      <td>0</td>\n",
       "      <td>0</td>\n",
       "      <td>0</td>\n",
       "      <td>495</td>\n",
       "      <td>0</td>\n",
       "      <td>0</td>\n",
       "      <td>0</td>\n",
       "      <td>515282</td>\n",
       "    </tr>\n",
       "    <tr>\n",
       "      <th>2</th>\n",
       "      <td>2014-01-03</td>\n",
       "      <td>0.258</td>\n",
       "      <td>249</td>\n",
       "      <td>396</td>\n",
       "      <td>686</td>\n",
       "      <td>40%</td>\n",
       "      <td>43%</td>\n",
       "      <td>0%</td>\n",
       "      <td>0%</td>\n",
       "      <td>0%</td>\n",
       "      <td>...</td>\n",
       "      <td>0</td>\n",
       "      <td>1701</td>\n",
       "      <td>0</td>\n",
       "      <td>0</td>\n",
       "      <td>0</td>\n",
       "      <td>387</td>\n",
       "      <td>0</td>\n",
       "      <td>0</td>\n",
       "      <td>0</td>\n",
       "      <td>422992</td>\n",
       "    </tr>\n",
       "    <tr>\n",
       "      <th>3</th>\n",
       "      <td>2014-01-04</td>\n",
       "      <td>0.333</td>\n",
       "      <td>278</td>\n",
       "      <td>332</td>\n",
       "      <td>420</td>\n",
       "      <td>46%</td>\n",
       "      <td>52%</td>\n",
       "      <td>0%</td>\n",
       "      <td>0%</td>\n",
       "      <td>0%</td>\n",
       "      <td>...</td>\n",
       "      <td>0</td>\n",
       "      <td>909</td>\n",
       "      <td>0</td>\n",
       "      <td>0</td>\n",
       "      <td>0</td>\n",
       "      <td>225</td>\n",
       "      <td>0</td>\n",
       "      <td>0</td>\n",
       "      <td>0</td>\n",
       "      <td>253053</td>\n",
       "    </tr>\n",
       "    <tr>\n",
       "      <th>4</th>\n",
       "      <td>2014-01-05</td>\n",
       "      <td>0.353</td>\n",
       "      <td>192</td>\n",
       "      <td>228</td>\n",
       "      <td>479</td>\n",
       "      <td>48%</td>\n",
       "      <td>53%</td>\n",
       "      <td>0%</td>\n",
       "      <td>0%</td>\n",
       "      <td>0%</td>\n",
       "      <td>...</td>\n",
       "      <td>0</td>\n",
       "      <td>1000</td>\n",
       "      <td>0</td>\n",
       "      <td>0</td>\n",
       "      <td>0</td>\n",
       "      <td>210</td>\n",
       "      <td>0</td>\n",
       "      <td>0</td>\n",
       "      <td>0</td>\n",
       "      <td>191646</td>\n",
       "    </tr>\n",
       "  </tbody>\n",
       "</table>\n",
       "<p>5 rows × 41 columns</p>\n",
       "</div>"
      ],
      "text/plain": [
       "        index avg_time_generation avg_time_on_site avg_time_on_site_returning  \\\n",
       "0  2014-01-01               0.243              202                        170   \n",
       "1  2014-01-02               0.275              256                        316   \n",
       "2  2014-01-03               0.258              249                        396   \n",
       "3  2014-01-04               0.333              278                        332   \n",
       "4  2014-01-05               0.353              192                        228   \n",
       "\n",
       "  bounce_count bounce_rate bounce_rate_returning conversion_rate  \\\n",
       "0          385         46%                   61%              0%   \n",
       "1          799         40%                   46%              0%   \n",
       "2          686         40%                   43%              0%   \n",
       "3          420         46%                   52%              0%   \n",
       "4          479         48%                   53%              0%   \n",
       "\n",
       "  conversion_rate_new_visit conversion_rate_returning_visit       ...         \\\n",
       "0                        0%                              0%       ...          \n",
       "1                        0%                              0%       ...          \n",
       "2                        0%                              0%       ...          \n",
       "3                        0%                              0%       ...          \n",
       "4                        0%                              0%       ...          \n",
       "\n",
       "  nb_users_returning nb_visits nb_visits_converted  \\\n",
       "0                  0       835                   0   \n",
       "1                  0      2013                   0   \n",
       "2                  0      1701                   0   \n",
       "3                  0       909                   0   \n",
       "4                  0      1000                   0   \n",
       "\n",
       "  nb_visits_converted_new_visit nb_visits_converted_returning_visit  \\\n",
       "0                             0                                   0   \n",
       "1                             0                                   0   \n",
       "2                             0                                   0   \n",
       "3                             0                                   0   \n",
       "4                             0                                   0   \n",
       "\n",
       "  nb_visits_returning revenue revenue_new_visit revenue_returning_visit  \\\n",
       "0                 220       0                 0                       0   \n",
       "1                 495       0                 0                       0   \n",
       "2                 387       0                 0                       0   \n",
       "3                 225       0                 0                       0   \n",
       "4                 210       0                 0                       0   \n",
       "\n",
       "  sum_visit_length  \n",
       "0           168799  \n",
       "1           515282  \n",
       "2           422992  \n",
       "3           253053  \n",
       "4           191646  \n",
       "\n",
       "[5 rows x 41 columns]"
      ]
     },
     "execution_count": 30,
     "metadata": {},
     "output_type": "execute_result"
    }
   ],
   "source": [
    "df.reset_index(inplace=True)\n",
    "df.head()"
   ]
  },
  {
   "cell_type": "code",
   "execution_count": 40,
   "metadata": {},
   "outputs": [
    {
     "data": {
      "text/plain": [
       "index                                  1826\n",
       "avg_time_generation                    1826\n",
       "avg_time_on_site                       1826\n",
       "avg_time_on_site_returning             1826\n",
       "bounce_count                           1826\n",
       "bounce_rate                            1826\n",
       "bounce_rate_returning                  1826\n",
       "conversion_rate                        1826\n",
       "conversion_rate_new_visit              1718\n",
       "conversion_rate_returning_visit        1826\n",
       "max_actions                            1826\n",
       "max_actions_returning                  1826\n",
       "nb_actions                             1826\n",
       "nb_actions_per_visit                   1826\n",
       "nb_actions_per_visit_returning         1826\n",
       "nb_actions_returning                   1826\n",
       "nb_conversions                         1826\n",
       "nb_conversions_new_visit               1718\n",
       "nb_conversions_returning_visit         1826\n",
       "nb_downloads                           1826\n",
       "nb_hits_with_time_generation           1826\n",
       "nb_keywords                            1826\n",
       "nb_outlinks                            1826\n",
       "nb_pageviews                           1826\n",
       "nb_searches                            1826\n",
       "nb_uniq_downloads                      1826\n",
       "nb_uniq_outlinks                       1826\n",
       "nb_uniq_pageviews                      1826\n",
       "nb_uniq_visitors                       1826\n",
       "nb_uniq_visitors_returning             1826\n",
       "nb_users                               1826\n",
       "nb_users_returning                     1826\n",
       "nb_visits                              1826\n",
       "nb_visits_converted                    1826\n",
       "nb_visits_converted_new_visit          1718\n",
       "nb_visits_converted_returning_visit    1826\n",
       "nb_visits_returning                    1826\n",
       "revenue                                1826\n",
       "revenue_new_visit                      1718\n",
       "revenue_returning_visit                1826\n",
       "sum_visit_length                       1826\n",
       "dtype: int64"
      ]
     },
     "execution_count": 40,
     "metadata": {},
     "output_type": "execute_result"
    }
   ],
   "source": [
    "df.count()"
   ]
  },
  {
   "cell_type": "code",
   "execution_count": 44,
   "metadata": {},
   "outputs": [
    {
     "data": {
      "application/vnd.vegalite.v2+json": {
       "$schema": "https://vega.github.io/schema/vega-lite/v2.6.0.json",
       "config": {
        "view": {
         "height": 300,
         "width": 400
        }
       },
       "data": {
        "format": {
         "type": "json"
        },
        "url": "altair-data-c0c897e39838553de3e8786f1d0a2db4.json"
       },
       "encoding": {
        "color": {
         "field": "index",
         "timeUnit": "year",
         "type": "nominal"
        },
        "x": {
         "field": "index",
         "timeUnit": "month",
         "type": "temporal"
        },
        "y": {
         "aggregate": "sum",
         "field": "nb_visits",
         "type": "quantitative"
        }
       },
       "mark": "line"
      },
      "image/png": "[encoded data removed]",
      "text/plain": [
       "<VegaLite 2 object>\n",
       "\n",
       "If you see this message, it means the renderer has not been properly enabled\n",
       "for the frontend that you are using. For more information, see\n",
       "https://altair-viz.github.io/user_guide/troubleshooting.html\n"
      ]
     },
     "execution_count": 44,
     "metadata": {},
     "output_type": "execute_result"
    }
   ],
   "source": [
    "alt.Chart(df).mark_line().encode(\n",
    "    x=\"month(index):T\",\n",
    "    y=\"sum(nb_visits):Q\",\n",
    "    color=\"year(index):N\"\n",
    ")"
   ]
  },
  {
   "cell_type": "code",
   "execution_count": 42,
   "metadata": {},
   "outputs": [
    {
     "data": {
      "application/vnd.vegalite.v2+json": {
       "$schema": "https://vega.github.io/schema/vega-lite/v2.6.0.json",
       "config": {
        "view": {
         "height": 300,
         "width": 400
        }
       },
       "data": {
        "format": {
         "type": "json"
        },
        "url": "altair-data-c0c897e39838553de3e8786f1d0a2db4.json"
       },
       "encoding": {
        "x": {
         "field": "index",
         "type": "temporal"
        },
        "y": {
         "field": "cumulative_count",
         "type": "quantitative"
        }
       },
       "mark": "area",
       "transform": [
        {
         "sort": [
          {
           "field": "index"
          }
         ],
         "window": [
          {
           "as": "cumulative_count",
           "field": "nb_visits",
           "op": "sum"
          }
         ]
        }
       ]
      },
      "image/png": "[encoded data removed]",
      "text/plain": [
       "<VegaLite 2 object>\n",
       "\n",
       "If you see this message, it means the renderer has not been properly enabled\n",
       "for the frontend that you are using. For more information, see\n",
       "https://altair-viz.github.io/user_guide/troubleshooting.html\n"
      ]
     },
     "execution_count": 42,
     "metadata": {},
     "output_type": "execute_result"
    }
   ],
   "source": [
    "alt.Chart(df).mark_area().encode(\n",
    "    x=\"index:T\",\n",
    "    y=\"cumulative_count:Q\",\n",
    ").transform_window(\n",
    "    window=[{ \"op\": \"sum\", \"field\": \"nb_visits\", \"as\": \"cumulative_count\"}],\n",
    "    sort=[{'field': \"index\"}]\n",
    ")"
   ]
  },
  {
   "cell_type": "code",
   "execution_count": null,
   "metadata": {},
   "outputs": [],
   "source": []
  }
 ],
 "metadata": {
  "kernelspec": {
   "display_name": "Python 3",
   "language": "python",
   "name": "python3"
  },
  "language_info": {
   "codemirror_mode": {
    "name": "ipython",
    "version": 3
   },
   "file_extension": ".py",
   "mimetype": "text/x-python",
   "name": "python",
   "nbconvert_exporter": "python",
   "pygments_lexer": "ipython3",
   "version": "3.6.7"
  }
 },
 "nbformat": 4,
 "nbformat_minor": 2
}
