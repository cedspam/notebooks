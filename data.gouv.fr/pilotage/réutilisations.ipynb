{
 "cells": [
  {
   "cell_type": "markdown",
   "metadata": {},
   "source": [
    "# Réutilisations"
   ]
  },
  {
   "cell_type": "code",
   "execution_count": 1,
   "metadata": {},
   "outputs": [],
   "source": [
    "%run \"librairies.ipynb\""
   ]
  },
  {
   "cell_type": "code",
   "execution_count": 2,
   "metadata": {},
   "outputs": [
    {
     "data": {
      "text/plain": [
       "Unnamed: 0       2354\n",
       "_cls             1759\n",
       "_id              2354\n",
       "badges           1177\n",
       "created_at       2354\n",
       "datasets         2349\n",
       "description      2307\n",
       "ext              2354\n",
       "extras           1586\n",
       "featured          960\n",
       "image            2139\n",
       "image_url         861\n",
       "last_modified    2354\n",
       "metrics          2354\n",
       "organization      631\n",
       "owner            1766\n",
       "private          1551\n",
       "slug             2354\n",
       "tags             2354\n",
       "title            2354\n",
       "type             2354\n",
       "url              2353\n",
       "urlhash          2354\n",
       "dtype: int64"
      ]
     },
     "execution_count": 2,
     "metadata": {},
     "output_type": "execute_result"
    }
   ],
   "source": [
    "reutilisations = pd.read_csv(\"data/reuses.csv\", sep=\";\")\n",
    "\n",
    "reutilisations.count()"
   ]
  },
  {
   "cell_type": "code",
   "execution_count": 3,
   "metadata": {},
   "outputs": [
    {
     "data": {
      "application/vnd.vegalite.v2+json": {
       "$schema": "https://vega.github.io/schema/vega-lite/v2.6.0.json",
       "config": {
        "view": {
         "height": 300,
         "width": 400
        }
       },
       "data": {
        "format": {
         "type": "json"
        },
        "url": "altair-data-590a038931bc5079d11bac4cc987c1cf.json"
       },
       "encoding": {
        "x": {
         "field": "year",
         "type": "temporal"
        },
        "y": {
         "aggregate": "count",
         "field": "*",
         "type": "quantitative"
        }
       },
       "mark": "bar",
       "transform": [
        {
         "as": "year",
         "field": "created_at",
         "timeUnit": "year"
        }
       ]
      },
      "image/png": "[encoded data removed]",
      "text/plain": [
       "<VegaLite 2 object>\n",
       "\n",
       "If you see this message, it means the renderer has not been properly enabled\n",
       "for the frontend that you are using. For more information, see\n",
       "https://altair-viz.github.io/user_guide/troubleshooting.html\n"
      ]
     },
     "execution_count": 3,
     "metadata": {},
     "output_type": "execute_result"
    }
   ],
   "source": [
    "alt.Chart(reutilisations).mark_bar().encode(\n",
    "    x=\"year:T\",\n",
    "    y=\"count(*):Q\"\n",
    ").transform_timeunit(\n",
    "    year='year(created_at)'\n",
    ")"
   ]
  },
  {
   "cell_type": "code",
   "execution_count": 4,
   "metadata": {},
   "outputs": [
    {
     "data": {
      "application/vnd.vegalite.v2+json": {
       "$schema": "https://vega.github.io/schema/vega-lite/v2.6.0.json",
       "config": {
        "view": {
         "height": 300,
         "width": 400
        }
       },
       "data": {
        "format": {
         "type": "json"
        },
        "url": "altair-data-590a038931bc5079d11bac4cc987c1cf.json"
       },
       "encoding": {
        "x": {
         "field": "created_at",
         "type": "temporal"
        },
        "y": {
         "field": "cumulative_count",
         "type": "quantitative"
        }
       },
       "mark": "area",
       "transform": [
        {
         "sort": [
          {
           "field": "created_at"
          }
         ],
         "window": [
          {
           "as": "cumulative_count",
           "field": "count",
           "op": "count"
          }
         ]
        }
       ]
      },
      "image/png": "[encoded data removed]",
      "text/plain": [
       "<VegaLite 2 object>\n",
       "\n",
       "If you see this message, it means the renderer has not been properly enabled\n",
       "for the frontend that you are using. For more information, see\n",
       "https://altair-viz.github.io/user_guide/troubleshooting.html\n"
      ]
     },
     "execution_count": 4,
     "metadata": {},
     "output_type": "execute_result"
    }
   ],
   "source": [
    "alt.Chart(reutilisations).mark_area().encode(\n",
    "    x=\"created_at:T\",\n",
    "    y=\"cumulative_count:Q\"\n",
    ").transform_window(\n",
    "    window=[{ \"op\": \"count\", \"field\": \"count\", \"as\": \"cumulative_count\"}],\n",
    "    sort=[{'field': \"created_at\"}]\n",
    ")"
   ]
  },
  {
   "cell_type": "code",
   "execution_count": null,
   "metadata": {},
   "outputs": [],
   "source": []
  }
 ],
 "metadata": {
  "kernelspec": {
   "display_name": "Python 3",
   "language": "python",
   "name": "python3"
  },
  "language_info": {
   "codemirror_mode": {
    "name": "ipython",
    "version": 3
   },
   "file_extension": ".py",
   "mimetype": "text/x-python",
   "name": "python",
   "nbconvert_exporter": "python",
   "pygments_lexer": "ipython3",
   "version": "3.6.7"
  }
 },
 "nbformat": 4,
 "nbformat_minor": 2
}
