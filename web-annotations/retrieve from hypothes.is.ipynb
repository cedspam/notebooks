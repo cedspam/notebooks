{
 "cells": [
  {
   "cell_type": "code",
   "execution_count": 9,
   "metadata": {
    "collapsed": true
   },
   "outputs": [],
   "source": [
    "import requests\n",
    "import re"
   ]
  },
  {
   "cell_type": "code",
   "execution_count": 2,
   "metadata": {
    "collapsed": true
   },
   "outputs": [],
   "source": [
    "user_id = \"taniki\""
   ]
  },
  {
   "cell_type": "code",
   "execution_count": 25,
   "metadata": {
    "collapsed": false
   },
   "outputs": [
    {
     "data": {
      "text/plain": [
       "[u'ffMnLPkEEeahCJcf0FpD4g',\n",
       " u'_lWtHvkDEeaIcS-tHhExXA',\n",
       " u'DkNNvvLREeaXQo88UXSRhQ',\n",
       " u'dmRmtMduEea2L9NU_iZvOg',\n",
       " u'_wuR0sdtEea6k7vl0mb7Qw',\n",
       " u'TuRGesYXEeaYB4v4QCRCtg',\n",
       " u'vTGZEsYWEeaZ51MctbY6gw',\n",
       " u'6_usLsYWEeaK_Zv751ZZNg',\n",
       " u'qjHWxMYWEeaZ5t-dYW7gNA',\n",
       " u'I-bstsH9Eea8W1dhRutw0g',\n",
       " u'lzErmsCqEea6S6_m5ePyrg']"
      ]
     },
     "execution_count": 25,
     "metadata": {},
     "output_type": "execute_result"
    }
   ],
   "source": [
    "def retrieve_annotations_list(user):\n",
    "    url = \"https://hypothes.is/stream.atom?user=%s\" % user\n",
    "    \n",
    "    r = requests.get(url)\n",
    "    \n",
    "    pattern = re.compile(\"https://hypothes.is/api/annotations/[a-zA-Z0-9_-]*\")\n",
    "    \n",
    "    ids = pattern.findall(r.text)\n",
    "    \n",
    "    ids = [ id.replace(\"https://hypothes.is/api/annotations/\", \"\") for id in ids ]\n",
    "    \n",
    "    return ids\n",
    "\n",
    "ids = retrieve_annotations_list(user_id)\n",
    "\n",
    "ids"
   ]
  },
  {
   "cell_type": "code",
   "execution_count": 42,
   "metadata": {
    "collapsed": false
   },
   "outputs": [
    {
     "name": "stdout",
     "output_type": "stream",
     "text": [
      "http://www.francetvinfo.fr/replay-radio/8h30-aphatie/presidentielle-francois-de-rugy-fait-le-choix-de-rejoindre-emmanuel-macron_2054061.html\n",
      "#LOL\n",
      "\n",
      "http://www.lemonde.fr/election-presidentielle-2017/article/2017/02/22/taubira-je-ne-crois-pas-a-la-defaite-ineluctable-de-la-gauche_5083380_4854003.html\n",
      "\n",
      "\n",
      "http://episteme.univ-nantes.fr/dev/\n",
      "#notion\n",
      "\n",
      "http://motherboard.vice.com/read/mit-wants-to-turn-everyone-into-a-farmer-with-its-food-computers\n",
      "#food\n",
      "\n",
      "http://motherboard.vice.com/read/mit-wants-to-turn-everyone-into-a-farmer-with-its-food-computers\n",
      "\n",
      "\n",
      "https://www.edge.org/conversation/david_rand-the-cost-of-cooperating\n",
      "#trust\n",
      "\n",
      "https://www.edge.org/conversation/david_rand-the-cost-of-cooperating\n",
      "#coooperation, #reputation\n",
      "\n",
      "https://www.edge.org/conversation/david_rand-the-cost-of-cooperating\n",
      "#game theory\n",
      "\n",
      "https://www.edge.org/conversation/david_rand-the-cost-of-cooperating\n",
      "#cooperation\n",
      "\n",
      "https://hypothes.is/tools-plug-ins-and-integrations/\n",
      "#hypothes.is, #annotation, #ecosystem\n",
      "\n",
      "http://genius.com/web-annotator\n",
      "\n",
      "\n"
     ]
    }
   ],
   "source": [
    "def retrieve_annotation(annotation_id):\n",
    "    url = \"https://hypothes.is/api/annotations/%s\" % annotation_id\n",
    "    \n",
    "    annotation = requests.get(url)\n",
    "    \n",
    "    # print annotation.text\n",
    "    \n",
    "    return annotation.json()\n",
    "\n",
    "for id in ids:\n",
    "    a = retrieve_annotation(id)\n",
    "    \n",
    "    # print a\n",
    "    \n",
    "    print a[\"target\"][0][\"source\"]\n",
    "    \n",
    "    #> \n",
    "    \n",
    "    print \", \".join([ \"#\"+tag for tag in a[\"tags\"] ])\n",
    "    \n",
    "    print"
   ]
  }
 ],
 "metadata": {
  "kernelspec": {
   "display_name": "Python 2",
   "language": "python",
   "name": "python2"
  },
  "language_info": {
   "codemirror_mode": {
    "name": "ipython",
    "version": 2
   },
   "file_extension": ".py",
   "mimetype": "text/x-python",
   "name": "python",
   "nbconvert_exporter": "python",
   "pygments_lexer": "ipython2",
   "version": "2.7.12"
  }
 },
 "nbformat": 4,
 "nbformat_minor": 2
}
