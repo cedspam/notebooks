{
 "cells": [
  {
   "cell_type": "code",
   "execution_count": 9,
   "metadata": {
    "collapsed": true
   },
   "outputs": [],
   "source": [
    "import requests\n",
    "import re"
   ]
  },
  {
   "cell_type": "code",
   "execution_count": 2,
   "metadata": {
    "collapsed": true
   },
   "outputs": [],
   "source": [
    "user_id = \"taniki\""
   ]
  },
  {
   "cell_type": "code",
   "execution_count": 25,
   "metadata": {
    "collapsed": false
   },
   "outputs": [
    {
     "data": {
      "text/plain": [
       "[u'ffMnLPkEEeahCJcf0FpD4g',\n",
       " u'_lWtHvkDEeaIcS-tHhExXA',\n",
       " u'DkNNvvLREeaXQo88UXSRhQ',\n",
       " u'dmRmtMduEea2L9NU_iZvOg',\n",
       " u'_wuR0sdtEea6k7vl0mb7Qw',\n",
       " u'TuRGesYXEeaYB4v4QCRCtg',\n",
       " u'vTGZEsYWEeaZ51MctbY6gw',\n",
       " u'6_usLsYWEeaK_Zv751ZZNg',\n",
       " u'qjHWxMYWEeaZ5t-dYW7gNA',\n",
       " u'I-bstsH9Eea8W1dhRutw0g',\n",
       " u'lzErmsCqEea6S6_m5ePyrg']"
      ]
     },
     "execution_count": 25,
     "metadata": {},
     "output_type": "execute_result"
    }
   ],
   "source": [
    "def retrieve_annotations_list(user):\n",
    "    url = \"https://hypothes.is/stream.atom?user=%s\" % user\n",
    "    \n",
    "    r = requests.get(url)\n",
    "    \n",
    "    pattern = re.compile(\"https://hypothes.is/api/annotations/[a-zA-Z0-9_-]*\")\n",
    "    \n",
    "    ids = pattern.findall(r.text)\n",
    "    \n",
    "    ids = [ id.replace(\"https://hypothes.is/api/annotations/\", \"\") for id in ids ]\n",
    "    \n",
    "    return ids\n",
    "\n",
    "ids = retrieve_annotations_list(user_id)\n",
    "\n",
    "ids"
   ]
  },
  {
   "cell_type": "code",
   "execution_count": 31,
   "metadata": {
    "collapsed": false
   },
   "outputs": [
    {
     "name": "stdout",
     "output_type": "stream",
     "text": [
      "{u'updated': u'2017-02-22T13:40:50.224741+00:00', u'group': u'__world__', u'target': [{u'source': u'http://www.francetvinfo.fr/replay-radio/8h30-aphatie/presidentielle-francois-de-rugy-fait-le-choix-de-rejoindre-emmanuel-macron_2054061.html', u'selector': [{u'conformsTo': u'https://tools.ietf.org/html/rfc3236', u'type': u'FragmentSelector', u'value': u'col-middle'}, {u'type': u'RangeSelector', u'endOffset': 53, u'endContainer': u'/div[3]/article[1]/div[1]/div[2]/p[1]/span[2]/span[1]', u'startOffset': 155, u'startContainer': u'/div[3]/article[1]/div[1]/div[2]/p[1]/span[2]'}, {u'end': 14638, u'type': u'TextPositionSelector', u'start': 14500}, {u'type': u'TextQuoteSelector', u'prefix': u'voix \\xe0 la primaire de la gauche.', u'exact': u'\\xa0\"Je choisis de m\\'engager dans la recomposition politique lanc\\xe9e par Emmanuel Macron\", a annonc\\xe9 mercredi Fran\\xe7ois de Rugy sur franceinfo.', u'suffix': u'  Le d\\xe9put\\xe9 \\xe9cologiste avait exc'}]}], u'links': {u'json': u'https://hypothes.is/api/annotations/ffMnLPkEEeahCJcf0FpD4g', u'html': u'https://hypothes.is/a/ffMnLPkEEeahCJcf0FpD4g', u'incontext': u'https://hyp.is/ffMnLPkEEeahCJcf0FpD4g/www.francetvinfo.fr/replay-radio/8h30-aphatie/presidentielle-francois-de-rugy-fait-le-choix-de-rejoindre-emmanuel-macron_2054061.html'}, u'tags': [u'LOL'], u'text': u'', u'created': u'2017-02-22T13:40:36.891876+00:00', u'uri': u'http://www.francetvinfo.fr/replay-radio/8h30-aphatie/presidentielle-francois-de-rugy-fait-le-choix-de-rejoindre-emmanuel-macron_2054061.html', u'user': u'acct:taniki@hypothes.is', u'document': {u'title': [u'Pr\\xe9sidentielle : Fran\\xe7ois de Rugy \"pr\\xe9f\\xe8re la coh\\xe9rence \\xe0 l\\'ob\\xe9issance\" et choisit Emmanuel Macron']}, u'id': u'ffMnLPkEEeahCJcf0FpD4g', u'permissions': {u'read': [u'group:__world__'], u'admin': [u'acct:taniki@hypothes.is'], u'update': [u'acct:taniki@hypothes.is'], u'delete': [u'acct:taniki@hypothes.is']}}\n"
     ]
    }
   ],
   "source": [
    "def retrieve_annotation(annotation_id):\n",
    "    url = \"https://hypothes.is/api/annotations/%s\" % annotation_id\n",
    "    \n",
    "    annotation = requests.get(url)\n",
    "    \n",
    "    print annotation.json()\n",
    "    \n",
    "retrieve_annotation(ids[0])"
   ]
  }
 ],
 "metadata": {
  "kernelspec": {
   "display_name": "Python 2",
   "language": "python",
   "name": "python2"
  },
  "language_info": {
   "codemirror_mode": {
    "name": "ipython",
    "version": 2
   },
   "file_extension": ".py",
   "mimetype": "text/x-python",
   "name": "python",
   "nbconvert_exporter": "python",
   "pygments_lexer": "ipython2",
   "version": "2.7.12"
  }
 },
 "nbformat": 4,
 "nbformat_minor": 2
}
